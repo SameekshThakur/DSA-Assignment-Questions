{
 "cells": [
  {
   "cell_type": "markdown",
   "id": "c5756652-078f-439d-8ac8-da0669fc9578",
   "metadata": {},
   "source": [
    "## Assignment-5 (DSA)"
   ]
  },
  {
   "cell_type": "code",
   "execution_count": null,
   "id": "6d7a63f3-1acc-49cd-87b5-eb13932b9c52",
   "metadata": {},
   "outputs": [],
   "source": []
  },
  {
   "cell_type": "markdown",
   "id": "86233a99-539d-454c-9554-4d67d5d39b50",
   "metadata": {},
   "source": [
    "Q1) Convert 1D Array Into 2D Array\n",
    "\n",
    "You are given a **0-indexed** 1-dimensional (1D) integer array original, and two integers, m and n. You are tasked with creating a 2-dimensional (2D) array with  m rows and n columns using **all** the elements from original.\n",
    "\n",
    "The elements from indices 0 to n - 1 (**inclusive**) of original should form the first row of the constructed 2D array, the elements from indices n to 2 * n - 1 (**inclusive**) should form the second row of the constructed 2D array, and so on.\n",
    "\n",
    "Return *an* m x n *2D array constructed according to the above procedure, or an empty 2D array if it is impossible*."
   ]
  },
  {
   "cell_type": "code",
   "execution_count": 1,
   "id": "555b4b62-8c68-4c5d-8d25-c039cd7f8e37",
   "metadata": {
    "tags": []
   },
   "outputs": [
    {
     "name": "stdout",
     "output_type": "stream",
     "text": [
      "[[1, 2], [3, 4]]\n"
     ]
    }
   ],
   "source": [
    "\n",
    "def Convert2D(original, m, n):\n",
    "    if len(original) != m * n:\n",
    "        return []  \n",
    "\n",
    "    result = [[0] * n for _ in range(m)]  \n",
    "\n",
    "    for i in range(len(original)):\n",
    "        row = i // n  \n",
    "        col = i % n \n",
    "        result[row][col] = original[i] \n",
    "\n",
    "    return result\n",
    "\n",
    "#----------------------Main---------------\n",
    "nums = [1,2,3,4]\n",
    "m = 2\n",
    "n = 2\n",
    "print(Convert2D(nums, m, n))\n"
   ]
  },
  {
   "cell_type": "code",
   "execution_count": null,
   "id": "595e1bd7-30c9-4221-86c8-a60e7a1523cf",
   "metadata": {},
   "outputs": [],
   "source": []
  },
  {
   "cell_type": "markdown",
   "id": "7fed4622-4005-4e5f-9889-aade4692969b",
   "metadata": {},
   "source": [
    "Q2) You have n coins and you want to build a staircase with these coins. The staircase consists of k rows where the ith row has exactly i coins. The last row of the staircase **may be** incomplete.\n",
    "\n",
    "Given the integer n, return *the number of **complete rows** of the staircase you will build*."
   ]
  },
  {
   "cell_type": "code",
   "execution_count": 2,
   "id": "59ef6a1b-67f4-4514-a25d-a9c4721be607",
   "metadata": {
    "tags": []
   },
   "outputs": [
    {
     "name": "stdout",
     "output_type": "stream",
     "text": [
      "2\n"
     ]
    }
   ],
   "source": [
    "def CompleteStaircaseRows(n):\n",
    "    rows = 0  \n",
    "\n",
    "    for i in range(1, n + 1):\n",
    "        n -= i  \n",
    "        if n >= 0:\n",
    "            rows += 1  \n",
    "\n",
    "    return rows\n",
    "\n",
    "#----------------------Main--------------\n",
    "n = 5\n",
    "print(CompleteStaircaseRows(n))\n"
   ]
  },
  {
   "cell_type": "code",
   "execution_count": null,
   "id": "aebffd5e-b3d2-4195-8168-228cb59265ca",
   "metadata": {},
   "outputs": [],
   "source": []
  },
  {
   "cell_type": "markdown",
   "id": "be6e0dfc-1b5f-4bb0-853f-44eaa730cb6c",
   "metadata": {},
   "source": [
    "Q3) Given an integer array nums sorted in non-decreasing order, return an array of the squares of each number sorted in non-decreasing order."
   ]
  },
  {
   "cell_type": "code",
   "execution_count": 3,
   "id": "4d5204d3-b0be-4fa9-b04d-f7a3ea7f5002",
   "metadata": {
    "tags": []
   },
   "outputs": [
    {
     "name": "stdout",
     "output_type": "stream",
     "text": [
      "[0, 1, 9, 16, 100]\n"
     ]
    }
   ],
   "source": [
    "def SortedSquares(nums):\n",
    "    result = []\n",
    "    left = 0\n",
    "    right = len(nums) - 1\n",
    "    \n",
    "    while left <= right:\n",
    "        if abs(nums[left]) >= abs(nums[right]):\n",
    "            result.append(nums[left] ** 2)\n",
    "            left += 1\n",
    "        else:\n",
    "            result.append(nums[right] ** 2)\n",
    "            right -= 1\n",
    "    \n",
    "    return result[::-1]\n",
    "\n",
    "#------------------Main----------------------\n",
    "\n",
    "nums = [-4,-1,0,3,10]\n",
    "print(SortedSquares(nums))"
   ]
  },
  {
   "cell_type": "code",
   "execution_count": null,
   "id": "9bf5cc36-3781-4793-852a-67837895f5ea",
   "metadata": {},
   "outputs": [],
   "source": []
  },
  {
   "cell_type": "markdown",
   "id": "d55df8cb-56b0-43f0-af10-43c59f7b41b1",
   "metadata": {},
   "source": [
    "Q4) Given two **0-indexed** integer arrays nums1 and nums2, return *a list* answer *of size* 2 *where:*\n",
    "\n",
    "- answer[0] *is a list of all **distinct** integers in* nums1 *which are **not** present in* nums2*.*\n",
    "- answer[1] *is a list of all **distinct** integers in* nums2 *which are **not** present in* nums1.\n",
    "\n",
    "**Note** that the integers in the lists may be returned in **any** order."
   ]
  },
  {
   "cell_type": "code",
   "execution_count": 4,
   "id": "53cd2721-d4a3-4da6-9138-b173e93590e7",
   "metadata": {
    "tags": []
   },
   "outputs": [
    {
     "name": "stdout",
     "output_type": "stream",
     "text": [
      "[[1, 3], [4, 6]]\n"
     ]
    }
   ],
   "source": [
    "def findDisappearedNumbers(nums1, nums2):\n",
    "    set1 = set(nums1)\n",
    "    set2 = set(nums2)\n",
    "    \n",
    "    diff1 = set1 - set2\n",
    "    diff2 = set2 - set1\n",
    "    \n",
    "    return [list(diff1), list(diff2)]\n",
    "\n",
    "#---------------Main---------------------------\n",
    "nums1 = [1,2,3]\n",
    "nums2 = [2,4,6]\n",
    "print(findDisappearedNumbers(nums1, nums2))"
   ]
  },
  {
   "cell_type": "code",
   "execution_count": null,
   "id": "6f281fae-2a92-44ce-af67-5170563f80a5",
   "metadata": {},
   "outputs": [],
   "source": []
  },
  {
   "cell_type": "markdown",
   "id": "891391af-6302-4fe6-9872-b61d82990c7c",
   "metadata": {},
   "source": [
    "Q5) Given two integer arrays arr1 and arr2, and the integer d, *return the distance value between the two arrays*.\n",
    "\n",
    "The distance value is defined as the number of elements arr1[i] such that there is not any element arr2[j] where |arr1[i]-arr2[j]| <= d."
   ]
  },
  {
   "cell_type": "code",
   "execution_count": 6,
   "id": "7b8e4558-a345-4615-9bb4-5f2a5a5db5d3",
   "metadata": {
    "tags": []
   },
   "outputs": [
    {
     "name": "stdout",
     "output_type": "stream",
     "text": [
      "2\n"
     ]
    }
   ],
   "source": [
    "def findTheDistanceValue(lst1, lst2, d):\n",
    "    distance = 0\n",
    "    for num1 in lst1:\n",
    "        for num2 in lst2:\n",
    "            if abs(num1 - num2) <= d:\n",
    "                break\n",
    "        else:\n",
    "            distance += 1\n",
    "    return distance\n",
    "\n",
    "#-------------Main-------------------------\n",
    "lst1 = [4,5,8]\n",
    "lst2 = [10,9,1,8]\n",
    "n = 2\n",
    "print(findTheDistanceValue(lst1, lst2, n))"
   ]
  },
  {
   "cell_type": "markdown",
   "id": "297bd84d-7977-42cd-a66d-ec4bc1e19b56",
   "metadata": {},
   "source": []
  },
  {
   "cell_type": "markdown",
   "id": "c1ed1a3a-6c9e-4a1e-9303-865655f9131a",
   "metadata": {},
   "source": [
    "Q6) Given an integer array nums of length n where all the integers of nums are in the range [1, n] and each integer appears **once** or **twice**, return *an array of all the integers that appears **twice***.\n",
    "\n",
    "You must write an algorithm that runs in O(n) time and uses only constant extra space."
   ]
  },
  {
   "cell_type": "code",
   "execution_count": 7,
   "id": "edecbb77-0e9c-407b-ad9f-d3618f581571",
   "metadata": {
    "tags": []
   },
   "outputs": [
    {
     "name": "stdout",
     "output_type": "stream",
     "text": [
      "[2, 3]\n"
     ]
    }
   ],
   "source": [
    "def findDuplicates(nums):\n",
    "    result = []\n",
    "    for num in nums:\n",
    "        index = abs(num) - 1\n",
    "        if nums[index] > 0:\n",
    "            nums[index] *= -1\n",
    "        else:\n",
    "            result.append(abs(num))\n",
    "    return result\n",
    "\n",
    "#---------------Main------------\n",
    "nums = [4,3,2,7,8,2,3,1]\n",
    "print(findDuplicates(nums))"
   ]
  },
  {
   "cell_type": "code",
   "execution_count": null,
   "id": "e8971f9b-4fee-47f9-b8a6-c759fe9e95fa",
   "metadata": {},
   "outputs": [],
   "source": []
  },
  {
   "cell_type": "markdown",
   "id": "7db3dd30-1ed1-4c4e-9d84-db129b34c513",
   "metadata": {},
   "source": [
    "Q7) Suppose an array of length n sorted in ascending order is **rotated** between 1 and n times. For example, the array nums = [0,1,2,4,5,6,7] might become:\n",
    "\n",
    "- [4,5,6,7,0,1,2] if it was rotated 4 times.\n",
    "- [0,1,2,4,5,6,7] if it was rotated 7 times.\n",
    "\n",
    "Notice that **rotating** an array [a[0], a[1], a[2], ..., a[n-1]] 1 time results in the array [a[n-1], a[0], a[1], a[2], ..., a[n-2]].\n",
    "\n",
    "Given the sorted rotated array nums of **unique** elements, return *the minimum element of this array*.\n",
    "\n",
    "You must write an algorithm that runs in O(log n) time.\n",
    "\n"
   ]
  },
  {
   "cell_type": "code",
   "execution_count": 8,
   "id": "d0141cfa-a637-46ed-b4f0-88c81f5bf846",
   "metadata": {
    "tags": []
   },
   "outputs": [
    {
     "name": "stdout",
     "output_type": "stream",
     "text": [
      "1\n"
     ]
    }
   ],
   "source": [
    "def findMin(nums):\n",
    "    left = 0\n",
    "    right = len(nums) - 1\n",
    "    \n",
    "    while left < right:\n",
    "        mid = (left + right) // 2\n",
    "        \n",
    "        if nums[mid] > nums[right]:\n",
    "            left = mid + 1\n",
    "        else:\n",
    "            right = mid\n",
    "    \n",
    "    return nums[left]\n",
    "\n",
    "#----------------Main------------------\n",
    "nums = [3,4,5,1,2]\n",
    "print(findMin(nums))\n"
   ]
  },
  {
   "cell_type": "code",
   "execution_count": null,
   "id": "81b64ea5-c2f2-4ed1-97df-080f960421aa",
   "metadata": {},
   "outputs": [],
   "source": []
  },
  {
   "cell_type": "markdown",
   "id": "b850fce6-6ff5-4c9c-8cdc-4d6fb7884905",
   "metadata": {},
   "source": [
    "Q8) An integer array original is transformed into a **doubled** array changed by appending **twice the value** of every element in original, and then randomly **shuffling** the resulting array.\n",
    "\n",
    "Given an array changed, return original *if* changed *is a **doubled** array. If* changed *is not a **doubled** array, return an empty array. The elements in* original *may be returned in **any** order*."
   ]
  },
  {
   "cell_type": "code",
   "execution_count": 10,
   "id": "298ac859-b685-4b0a-8274-ea7ce7d35b40",
   "metadata": {
    "tags": []
   },
   "outputs": [
    {
     "name": "stdout",
     "output_type": "stream",
     "text": [
      "[1, 3, 4]\n"
     ]
    }
   ],
   "source": [
    "def findOriginalArray(changed):\n",
    "    count = {}\n",
    "    \n",
    "    for num in changed:\n",
    "        if num not in count:\n",
    "            count[num] = 1\n",
    "        else:\n",
    "            count[num] += 1\n",
    "    \n",
    "    original = []\n",
    "    \n",
    "    for num in changed:\n",
    "        if count[num] == 0:\n",
    "            continue\n",
    "        if 2 * num not in count or count[2 * num] == 0:\n",
    "            return []\n",
    "        count[num] -= 1\n",
    "        count[2 * num] -= 1\n",
    "        original.append(num)\n",
    "    \n",
    "    return original\n",
    "\n",
    "#------------------Main--------------------------\n",
    "val = [1,3,4,2,6,8]\n",
    "print(findOriginalArray(val))"
   ]
  },
  {
   "cell_type": "code",
   "execution_count": null,
   "id": "0327fdd7-2d70-424d-9909-301ca4918849",
   "metadata": {},
   "outputs": [],
   "source": []
  }
 ],
 "metadata": {
  "kernelspec": {
   "display_name": "Python 3 (ipykernel)",
   "language": "python",
   "name": "python3"
  },
  "language_info": {
   "codemirror_mode": {
    "name": "ipython",
    "version": 3
   },
   "file_extension": ".py",
   "mimetype": "text/x-python",
   "name": "python",
   "nbconvert_exporter": "python",
   "pygments_lexer": "ipython3",
   "version": "3.10.5"
  }
 },
 "nbformat": 4,
 "nbformat_minor": 5
}
