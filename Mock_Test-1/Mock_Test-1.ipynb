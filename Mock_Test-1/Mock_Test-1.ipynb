{
 "cells": [
  {
   "cell_type": "markdown",
   "id": "caea8a1b-a8f9-42db-8bcb-84d6c0ccbe0f",
   "metadata": {},
   "source": [
    "## Mock_test - 1 (DSA)"
   ]
  },
  {
   "cell_type": "code",
   "execution_count": null,
   "id": "2183ddd1-1e07-410b-9149-a7ced8ee0e06",
   "metadata": {},
   "outputs": [],
   "source": []
  },
  {
   "cell_type": "markdown",
   "id": "2b9abe66-194a-4219-bd0d-ff2aef1c3aa2",
   "metadata": {},
   "source": [
    "Q1) Given an integer array nums, move all 0's to the end of it while maintaining the relative order of the non-zero elements.\n",
    "\n",
    "Note that you must do this in-place without making a copy of the array.\n"
   ]
  },
  {
   "cell_type": "code",
   "execution_count": 7,
   "id": "bb19e783-32a2-4df1-9410-fdf11b205479",
   "metadata": {
    "tags": []
   },
   "outputs": [
    {
     "name": "stdout",
     "output_type": "stream",
     "text": [
      "[1, 3, 12, 0, 0]\n"
     ]
    }
   ],
   "source": [
    "def ZeroesToEnd(nums):\n",
    "    if len(nums)>=1 and len(nums)<=10**4 :\n",
    "        left_ptr = 0\n",
    "        right_ptr = 0\n",
    "\n",
    "        while right_ptr < len(nums):\n",
    "            if nums[right_ptr] != 0:\n",
    "                nums[left_ptr], nums[right_ptr] = nums[right_ptr], nums[left_ptr]\n",
    "                left_ptr += 1\n",
    "            right_ptr += 1\n",
    "        return nums\n",
    "    else :\n",
    "        return nums\n",
    "\n",
    "#--------------Main--------------------\n",
    "nums = [0,1,0,3,12]\n",
    "print(ZeroesToEnd(nums))"
   ]
  },
  {
   "cell_type": "code",
   "execution_count": null,
   "id": "a9de1262-0a0c-4cef-bbdc-385fea6f391f",
   "metadata": {},
   "outputs": [],
   "source": []
  },
  {
   "cell_type": "markdown",
   "id": "48296ebb-c9a9-417c-b1ac-9df3c2329958",
   "metadata": {},
   "source": [
    "Q2) Given a string s, find the first non-repeating character in it and return its index. If it does not exist, return -1."
   ]
  },
  {
   "cell_type": "code",
   "execution_count": 5,
   "id": "20c1251e-e0ae-43d6-abd0-e09d7ed52196",
   "metadata": {
    "tags": []
   },
   "outputs": [
    {
     "name": "stdout",
     "output_type": "stream",
     "text": [
      "2\n"
     ]
    }
   ],
   "source": [
    "def FirstUniqueCharacter(s):\n",
    "    if len(s)>=1 and len(s)<=10**4 :\n",
    "    \n",
    "        char_count = {}\n",
    "\n",
    "        for c in s:\n",
    "            if c in char_count:\n",
    "                char_count[c] += 1\n",
    "            else:\n",
    "                char_count[c] = 1\n",
    "\n",
    "        for i, c in enumerate(s):\n",
    "            if char_count[c] == 1:\n",
    "                return i\n",
    "\n",
    "    return -1\n",
    "\n",
    "#-----------------Main-----------------------\n",
    "string_val = \"loveleetcode\"\n",
    "print(FirstUniqueCharacter(string_val))\n",
    "\n"
   ]
  },
  {
   "cell_type": "code",
   "execution_count": null,
   "id": "a147557c-3368-4719-9e8b-c1ea0093b972",
   "metadata": {},
   "outputs": [],
   "source": []
  }
 ],
 "metadata": {
  "kernelspec": {
   "display_name": "Python 3 (ipykernel)",
   "language": "python",
   "name": "python3"
  },
  "language_info": {
   "codemirror_mode": {
    "name": "ipython",
    "version": 3
   },
   "file_extension": ".py",
   "mimetype": "text/x-python",
   "name": "python",
   "nbconvert_exporter": "python",
   "pygments_lexer": "ipython3",
   "version": "3.10.5"
  }
 },
 "nbformat": 4,
 "nbformat_minor": 5
}
