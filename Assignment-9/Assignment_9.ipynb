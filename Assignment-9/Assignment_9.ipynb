{
 "cells": [
  {
   "cell_type": "markdown",
   "id": "95a2854b-f811-4e5b-8037-57751c777500",
   "metadata": {},
   "source": [
    "## Assignment - 9 (DSA)"
   ]
  },
  {
   "cell_type": "code",
   "execution_count": null,
   "id": "8a5706f8-b4f8-4a19-9d34-fe83f9c6cb1a",
   "metadata": {},
   "outputs": [],
   "source": []
  },
  {
   "cell_type": "markdown",
   "id": "871b7796-c8c4-4fb8-b6ae-00155d47a454",
   "metadata": {},
   "source": [
    "Q1) Given an integer `n`, return *`true` if it is a power of two. Otherwise, return `false`*.\n",
    "\n",
    "An integer `n` is a power of two, if there exists an integer `x` such that `n == 2x`"
   ]
  },
  {
   "cell_type": "code",
   "execution_count": 1,
   "id": "42579544-de78-46c5-bf46-ca7d44371680",
   "metadata": {},
   "outputs": [
    {
     "name": "stdout",
     "output_type": "stream",
     "text": [
      "True\n",
      "True\n",
      "False\n"
     ]
    }
   ],
   "source": [
    "def PowerOfTwo(n):\n",
    "    if n <= 0:\n",
    "        return False\n",
    "\n",
    "    while n > 1:\n",
    "        if n % 2 != 0:\n",
    "            return False\n",
    "        n = n // 2\n",
    "\n",
    "    return n == 1\n",
    "\n",
    "#------------Main-------------\n",
    "n = 16\n",
    "m = 1\n",
    "o = 15\n",
    "print(PowerOfTwo(n))\n",
    "print(PowerOfTwo(m))\n",
    "print(PowerOfTwo(o))\n",
    "\n"
   ]
  },
  {
   "cell_type": "code",
   "execution_count": null,
   "id": "3356c07f-ebbf-45d7-8e60-3592b55e2b62",
   "metadata": {},
   "outputs": [],
   "source": []
  },
  {
   "cell_type": "markdown",
   "id": "93910bc5-e5f3-42af-b9cd-6f8348b0a3d5",
   "metadata": {},
   "source": [
    "Q2) Given a number n, find the sum of the first natural numbers."
   ]
  },
  {
   "cell_type": "code",
   "execution_count": 2,
   "id": "46fbcf0d-3cfc-40a3-a1cb-3f15590065be",
   "metadata": {},
   "outputs": [
    {
     "name": "stdout",
     "output_type": "stream",
     "text": [
      "6\n"
     ]
    }
   ],
   "source": [
    "def SumOfNaturalNumbers(n):\n",
    "    return n * (n + 1) // 2\n",
    "\n",
    "#-------------Main---------------\n",
    "n = 3\n",
    "print(SumOfNaturalNumbers(n))\n"
   ]
  },
  {
   "cell_type": "code",
   "execution_count": null,
   "id": "73989b6e-3202-4e5f-9661-b5da30024137",
   "metadata": {},
   "outputs": [],
   "source": []
  },
  {
   "cell_type": "markdown",
   "id": "51c95e0c-75ca-4d82-aba6-301515b11f16",
   "metadata": {},
   "source": [
    "Q3) Given a positive integer, N. Find the factorial of N. \n"
   ]
  },
  {
   "cell_type": "code",
   "execution_count": 3,
   "id": "f7cb324f-e8e4-4e34-953c-3a76755083cf",
   "metadata": {},
   "outputs": [
    {
     "name": "stdout",
     "output_type": "stream",
     "text": [
      "120\n"
     ]
    }
   ],
   "source": [
    "def Factorial(n):\n",
    "    result = 1\n",
    "    for i in range(1, n+1):\n",
    "        result *= i\n",
    "    return result\n",
    "\n",
    "#------------Main--------------\n",
    "n = 5\n",
    "print(Factorial(n))\n"
   ]
  },
  {
   "cell_type": "code",
   "execution_count": null,
   "id": "cc1b0c9f-ffd1-4863-bcc9-42284ce2c4a9",
   "metadata": {},
   "outputs": [],
   "source": []
  },
  {
   "cell_type": "markdown",
   "id": "4aa8c07e-3889-4498-8f3d-fdafd2b88a3b",
   "metadata": {},
   "source": [
    "Q4) Given a number N and a power P, the task is to find the exponent of this number raised to the given power, i.e. N^P."
   ]
  },
  {
   "cell_type": "code",
   "execution_count": 4,
   "id": "1a6517da-c6f5-480d-bc13-d03e7f9e9fe7",
   "metadata": {},
   "outputs": [
    {
     "name": "stdout",
     "output_type": "stream",
     "text": [
      "25\n"
     ]
    }
   ],
   "source": [
    "def CalculateExponent(N, P):\n",
    "    result = N ** P\n",
    "    return result\n",
    "\n",
    "#------------Main-------------\n",
    "N = 5\n",
    "P = 2\n",
    "print(CalculateExponent(N, P))"
   ]
  },
  {
   "cell_type": "code",
   "execution_count": null,
   "id": "ac475e2f-5ca6-434c-88b8-21e740e4b74b",
   "metadata": {},
   "outputs": [],
   "source": []
  },
  {
   "cell_type": "markdown",
   "id": "3bd55ceb-3d17-448a-9ac3-d4d4a045094c",
   "metadata": {},
   "source": [
    "Q5) Given an array of integers arr, the task is to find maximum element of that array using recursion."
   ]
  },
  {
   "cell_type": "code",
   "execution_count": 7,
   "id": "d9308142-9201-48c0-8b06-5197e075bde6",
   "metadata": {},
   "outputs": [
    {
     "name": "stdout",
     "output_type": "stream",
     "text": [
      "8\n"
     ]
    }
   ],
   "source": [
    "def FindMaxElement(lst):\n",
    "    if len(lst) == 1:\n",
    "        return lst[0]\n",
    "    else:\n",
    "        return max(lst[0], FindMaxElement(lst[1:]))\n",
    "\n",
    "#---------------Main--------------\n",
    "lst = [1, 4, 3, -5, -4, 8, 6]\n",
    "print(FindMaxElement(lst))"
   ]
  },
  {
   "cell_type": "code",
   "execution_count": null,
   "id": "58789003-87eb-4799-ba1c-626af7d262a9",
   "metadata": {},
   "outputs": [],
   "source": []
  },
  {
   "cell_type": "markdown",
   "id": "44262ad1-7ec3-4fa0-a17a-6932ebeb6fd0",
   "metadata": {},
   "source": [
    "Q6) Given first term (a), common difference (d) and a integer N of the Arithmetic Progression series, the task is to find Nth term of the series."
   ]
  },
  {
   "cell_type": "code",
   "execution_count": 8,
   "id": "71ad1e27-94c5-4f29-af6c-b88f50c414fb",
   "metadata": {},
   "outputs": [
    {
     "name": "stdout",
     "output_type": "stream",
     "text": [
      "11\n"
     ]
    }
   ],
   "source": [
    "def NthTermOfAp(a, d, N):\n",
    "    nth_term = a + (N - 1) * d\n",
    "    return nth_term\n",
    "\n",
    "#---------Main------------\n",
    "a = 2\n",
    "d = 3\n",
    "N = 4\n",
    "print(NthTermOfAp(a, d, N))\n"
   ]
  },
  {
   "cell_type": "code",
   "execution_count": null,
   "id": "0dca997c-fdd5-4c4d-b7de-2b45c99f5792",
   "metadata": {},
   "outputs": [],
   "source": []
  },
  {
   "cell_type": "markdown",
   "id": "9833ac9a-7371-4e34-8a2e-64421351b511",
   "metadata": {},
   "source": [
    "Q7) Given a string S, the task is to write a program to print all permutations of a given string."
   ]
  },
  {
   "cell_type": "code",
   "execution_count": 10,
   "id": "fedc9de7-a615-4754-b2d0-355e010637be",
   "metadata": {},
   "outputs": [
    {
     "name": "stdout",
     "output_type": "stream",
     "text": [
      "ABC\n",
      "ACB\n",
      "BAC\n",
      "BCA\n",
      "CAB\n",
      "CBA\n",
      "None\n"
     ]
    }
   ],
   "source": [
    "def Permutations(string, current=\"\"):\n",
    "    if len(string) == 0:\n",
    "        print(current)\n",
    "        return\n",
    "\n",
    "    for i in range(len(string)):\n",
    "        remaining = string[:i] + string[i+1:]\n",
    "        \n",
    "        Permutations(remaining, current + string[i])\n",
    "\n",
    "#----------------------Main----------------------\n",
    "string_val = \"ABC\"\n",
    "print(Permutations(string_val))"
   ]
  },
  {
   "cell_type": "code",
   "execution_count": null,
   "id": "97c31695-cf9a-49cf-909e-5c454058dfa2",
   "metadata": {},
   "outputs": [],
   "source": []
  },
  {
   "cell_type": "markdown",
   "id": "72a84307-7e77-4e2d-8cf5-aef0bc2f30e7",
   "metadata": {},
   "source": [
    "Q8) Given an array, find a product of all array elements."
   ]
  },
  {
   "cell_type": "code",
   "execution_count": 11,
   "id": "1ec47597-02f8-4a59-bcdc-5c41e4d75d0d",
   "metadata": {},
   "outputs": [
    {
     "name": "stdout",
     "output_type": "stream",
     "text": [
      "24\n"
     ]
    }
   ],
   "source": [
    "def ProductOfArrayElements(lst):\n",
    "    product = 1\n",
    "    for element in lst:\n",
    "        product *= element\n",
    "    return product\n",
    "\n",
    "#--------------Main--------------\n",
    "lst = [1, 2, 3, 4]\n",
    "print(ProductOfArrayElements(lst))\n"
   ]
  },
  {
   "cell_type": "code",
   "execution_count": null,
   "id": "38737fc2-90e5-40b6-bb5a-73445a31cf12",
   "metadata": {},
   "outputs": [],
   "source": []
  }
 ],
 "metadata": {
  "kernelspec": {
   "display_name": "Python 3 (ipykernel)",
   "language": "python",
   "name": "python3"
  },
  "language_info": {
   "codemirror_mode": {
    "name": "ipython",
    "version": 3
   },
   "file_extension": ".py",
   "mimetype": "text/x-python",
   "name": "python",
   "nbconvert_exporter": "python",
   "pygments_lexer": "ipython3",
   "version": "3.10.5"
  }
 },
 "nbformat": 4,
 "nbformat_minor": 5
}
