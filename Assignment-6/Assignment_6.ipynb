{
 "cells": [
  {
   "cell_type": "markdown",
   "id": "3abc585b-e07d-4534-b929-f9cfc7fcfbe8",
   "metadata": {},
   "source": [
    "## Assignment-6 (DSA)"
   ]
  },
  {
   "cell_type": "code",
   "execution_count": null,
   "id": "21968936-e347-49ec-9585-37e736e240aa",
   "metadata": {},
   "outputs": [],
   "source": []
  },
  {
   "cell_type": "markdown",
   "id": "686d1ad3-32a9-42ae-882e-492a0ab6ed0b",
   "metadata": {},
   "source": [
    "Q1) A permutation perm of n + 1 integers of all the integers in the range [0, n] can be represented as a string s of length n where:\n",
    "\n",
    "- s[i] == 'I' if perm[i] < perm[i + 1], and\n",
    "- s[i] == 'D' if perm[i] > perm[i + 1].\n",
    "\n",
    "Given a string s, reconstruct the permutation perm and return it. If there are multiple valid permutations perm, return **any of them**."
   ]
  },
  {
   "cell_type": "code",
   "execution_count": 3,
   "id": "1ba5bb90-b965-42c0-85e0-4f8d92573a0b",
   "metadata": {
    "tags": []
   },
   "outputs": [
    {
     "name": "stdout",
     "output_type": "stream",
     "text": [
      "[0, 4, 1, 3, 2]\n"
     ]
    }
   ],
   "source": [
    "def ReconstructPermutation(s):\n",
    "    n = len(s)\n",
    "    res = []\n",
    "    left, right = 0, 0\n",
    "    \n",
    "    for i in range(n):\n",
    "        if s[i] == 'I':\n",
    "            res.append(left)\n",
    "            left += 1\n",
    "        else:\n",
    "            res.append(n - right)\n",
    "            right += 1\n",
    "\n",
    "    res.append(left)\n",
    "    return res\n",
    "\n",
    "#--------------------Main------------------\n",
    "s = \"IDID\"\n",
    "print(ReconstructPermutation(s))\n"
   ]
  },
  {
   "cell_type": "code",
   "execution_count": null,
   "id": "57ec67e6-67e0-4b93-beb2-cab8697926fb",
   "metadata": {},
   "outputs": [],
   "source": []
  },
  {
   "cell_type": "markdown",
   "id": "ec755b9d-00f6-4883-839c-dda4109a4f05",
   "metadata": {},
   "source": [
    "Q2) You are given an m x n integer matrix matrix with the following two properties:\n",
    "\n",
    "- Each row is sorted in non-decreasing order.\n",
    "- The first integer of each row is greater than the last integer of the previous row.\n",
    "\n",
    "Given an integer target, return true *if* target *is in* matrix *or* false *otherwise*.\n",
    "\n",
    "You must write a solution in O(log(m * n)) time complexity"
   ]
  },
  {
   "cell_type": "code",
   "execution_count": 4,
   "id": "850da824-9228-46cb-a489-198bbbe88f60",
   "metadata": {
    "tags": []
   },
   "outputs": [
    {
     "name": "stdout",
     "output_type": "stream",
     "text": [
      "True\n"
     ]
    }
   ],
   "source": [
    "def SearchMatrix(matrix, target):\n",
    "    if not matrix or not matrix[0]:\n",
    "        return False\n",
    "\n",
    "    m, n = len(matrix), len(matrix[0])\n",
    "    left, right = 0, m * n - 1\n",
    "\n",
    "    while left <= right:\n",
    "        mid = (left + right) // 2\n",
    "        row = mid // n\n",
    "        col = mid % n\n",
    "        num = matrix[row][col]\n",
    "\n",
    "        if num == target:\n",
    "            return True\n",
    "        elif num < target:\n",
    "            left = mid + 1\n",
    "        else:\n",
    "            right = mid - 1\n",
    "\n",
    "    return False\n",
    "\n",
    "#-----------------Main----------------------\n",
    "matrix = [[1,3,5,7],[10,11,16,20],[23,30,34,60]]\n",
    "target = 3\n",
    "print(SearchMatrix(matrix, target))\n"
   ]
  },
  {
   "cell_type": "code",
   "execution_count": null,
   "id": "9be82372-c0ec-4506-8e2b-939b410bb48f",
   "metadata": {},
   "outputs": [],
   "source": []
  },
  {
   "cell_type": "markdown",
   "id": "f5c9bef5-329d-48cd-be87-f7cde87eba59",
   "metadata": {},
   "source": [
    "Q3) Given an array of integers arr, return *true if and only if it is a valid mountain array*.\n",
    "\n",
    "Recall that arr is a mountain array if and only if:\n",
    "\n",
    "- arr.length >= 3\n",
    "- There exists some i with 0 < i < arr.length - 1 such that:\n",
    "    - arr[0] < arr[1] < ... < arr[i - 1] < arr[i]\n",
    "    - arr[i] > arr[i + 1] > ... > arr[arr.length - 1]"
   ]
  },
  {
   "cell_type": "code",
   "execution_count": 5,
   "id": "da917f80-44fa-4913-9fb8-440e07502fa6",
   "metadata": {
    "tags": []
   },
   "outputs": [
    {
     "name": "stdout",
     "output_type": "stream",
     "text": [
      "False\n"
     ]
    }
   ],
   "source": [
    "def ValidMountainArray(lst):\n",
    "    if len(lst) < 3:\n",
    "        return False\n",
    "\n",
    "    n = len(lst)\n",
    "    i = 0\n",
    "\n",
    "    while i < n - 1 and lst[i] < lst[i + 1]:\n",
    "        i += 1\n",
    "\n",
    "    if i == 0 or i == n - 1:\n",
    "        return False\n",
    "\n",
    "    while i < n - 1 and lst[i] > lst[i + 1]:\n",
    "        i += 1\n",
    "\n",
    "    return i == n - 1\n",
    "\n",
    "#---------------------Main---------------------\n",
    "lst = [2,1]\n",
    "print(ValidMountainArray(lst))"
   ]
  },
  {
   "cell_type": "code",
   "execution_count": null,
   "id": "d8e25988-3fa3-4dea-803b-aeb6352acb24",
   "metadata": {},
   "outputs": [],
   "source": []
  },
  {
   "cell_type": "markdown",
   "id": "088b2fc5-fa63-49b3-a749-62f54bba0092",
   "metadata": {},
   "source": [
    "Q4) Given a binary array nums, return the maximum length of a contiguous subarray with an equal number of 0 and 1."
   ]
  },
  {
   "cell_type": "code",
   "execution_count": 8,
   "id": "948eeedb-d10c-488e-83aa-435efb1e23f3",
   "metadata": {
    "tags": []
   },
   "outputs": [
    {
     "name": "stdout",
     "output_type": "stream",
     "text": [
      "2\n"
     ]
    }
   ],
   "source": [
    "def FindMaxLength(nums):\n",
    "    max_length = 0\n",
    "    count = 0\n",
    "    sum_map = {0: -1}\n",
    "\n",
    "    for i in range(len(nums)):\n",
    "        if nums[i] == 0:\n",
    "            count -= 1\n",
    "        else:\n",
    "            count += 1\n",
    "\n",
    "        if count in sum_map:\n",
    "            max_length = max(max_length, i - sum_map[count])\n",
    "        else:\n",
    "            sum_map[count] = i\n",
    "\n",
    "    return max_length\n",
    "\n",
    "#--------------------Main---------------------------\n",
    "nums = [0,1]\n",
    "print(FindMaxLength(nums))\n"
   ]
  },
  {
   "cell_type": "code",
   "execution_count": null,
   "id": "dfc3224a-8ac3-4da3-b0e4-142b892b61c3",
   "metadata": {},
   "outputs": [],
   "source": []
  },
  {
   "cell_type": "markdown",
   "id": "f858e13a-bd5a-4693-a7f2-db5eefaffb30",
   "metadata": {},
   "source": [
    "Q5) The **product sum** of two equal-length arrays a and b is equal to the sum of a[i] * b[i] for all 0 <= i < a.length (**0-indexed**).\n",
    "\n",
    "- For example, if a = [1,2,3,4] and b = [5,2,3,1], the **product sum** would be 1*5 + 2*2 + 3*3 + 4*1 = 22.\n",
    "\n",
    "Given two arrays nums1 and nums2 of length n, return *the **minimum product sum** if you are allowed to **rearrange** the **order** of the elements in* nums1."
   ]
  },
  {
   "cell_type": "code",
   "execution_count": 9,
   "id": "33add178-0714-45f7-9a0a-ec8bd064c405",
   "metadata": {
    "tags": []
   },
   "outputs": [
    {
     "name": "stdout",
     "output_type": "stream",
     "text": [
      "40\n"
     ]
    }
   ],
   "source": [
    "def MinProductSum(nums1, nums2):\n",
    "    nums1.sort() \n",
    "    nums2.sort(reverse=True)  \n",
    "\n",
    "    n = len(nums1)\n",
    "    min_sum = sum(nums1[i] * nums2[i] for i in range(n))\n",
    "    \n",
    "    return min_sum\n",
    "\n",
    "#----------------Main--------------------\n",
    "nums1 = [5,3,4,2]\n",
    "nums2 = [4,2,2,5]\n",
    "print(MinProductSum(nums1, nums2))\n"
   ]
  },
  {
   "cell_type": "code",
   "execution_count": null,
   "id": "d612d47d-3b4b-435a-95db-0bb7587dc0ee",
   "metadata": {},
   "outputs": [],
   "source": []
  },
  {
   "cell_type": "markdown",
   "id": "87f1b936-de00-482a-aafb-8855da612f78",
   "metadata": {},
   "source": [
    "Q6) An integer array original is transformed into a **doubled** array changed by appending **twice the value** of every element in original, and then randomly **shuffling** the resulting array.\n",
    "\n",
    "Given an array changed, return original *if* changed *is a **doubled** array. If* changed *is not a **doubled** array, return an empty array. The elements in* original *may be returned in **any** order*."
   ]
  },
  {
   "cell_type": "code",
   "execution_count": 18,
   "id": "d2f605b8-2565-4a14-932a-2deb9f531562",
   "metadata": {
    "tags": []
   },
   "outputs": [
    {
     "name": "stdout",
     "output_type": "stream",
     "text": [
      "[]\n"
     ]
    }
   ],
   "source": [
    "# Taken reference from GPT and known about Counter module then solved this question\n",
    "from collections import Counter\n",
    "\n",
    "def findOriginalArray(changed):\n",
    "    n = len(changed)\n",
    "    if n % 2 != 0:  # If the length is odd, it can't be a doubled array\n",
    "        return []\n",
    "\n",
    "    original = []\n",
    "    freq_map = Counter(changed)\n",
    "\n",
    "    for num in changed:\n",
    "        if freq_map[num] == 0:  # Skip if the current element has been used already\n",
    "            continue\n",
    "\n",
    "        halved_num = num // 2\n",
    "        if freq_map[halved_num] == 0:  # If the halved value doesn't exist in the map, it's not a doubled array\n",
    "            return []\n",
    "\n",
    "        original.append(halved_num)  # Add the halved value to the original array\n",
    "        freq_map[num] -= 1\n",
    "        freq_map[halved_num] -= 1\n",
    "\n",
    "    return original\n",
    "\n",
    "#---------------Main-----------------\n",
    "changed = [1,3,4,2,5,6]\n",
    "print(findOriginalArray(changed))\n"
   ]
  },
  {
   "cell_type": "code",
   "execution_count": null,
   "id": "0f620e40-7d9b-476f-9cae-74347cfbb388",
   "metadata": {},
   "outputs": [],
   "source": []
  },
  {
   "cell_type": "markdown",
   "id": "fbc11a25-3f33-45cb-902b-ab70d1de2d90",
   "metadata": {},
   "source": [
    "Q7) Given a positive integer n, generate an n x n matrix filled with elements from 1 to n2 in spiral order."
   ]
  },
  {
   "cell_type": "code",
   "execution_count": 15,
   "id": "1384fb0a-e573-4b7f-9722-97c1ac1c8f28",
   "metadata": {
    "tags": []
   },
   "outputs": [
    {
     "name": "stdout",
     "output_type": "stream",
     "text": [
      "[[1, 2, 3], [8, 9, 4], [7, 6, 5]]\n"
     ]
    }
   ],
   "source": [
    "def generateMatrix(n):\n",
    "    matrix = [[0] * n for _ in range(n)]  \n",
    "\n",
    "    \n",
    "    top, bottom = 0, n - 1\n",
    "    left, right = 0, n - 1\n",
    "\n",
    "    num = 1  \n",
    "\n",
    "    while num <= n * n:\n",
    "        for i in range(left, right + 1):\n",
    "            matrix[top][i] = num\n",
    "            num += 1\n",
    "        top += 1\n",
    "\n",
    "        \n",
    "        for i in range(top, bottom + 1):\n",
    "            matrix[i][right] = num\n",
    "            num += 1\n",
    "        right -= 1\n",
    "\n",
    "        \n",
    "        for i in range(right, left - 1, -1):\n",
    "            matrix[bottom][i] = num\n",
    "            num += 1\n",
    "        bottom -= 1\n",
    "\n",
    "        \n",
    "        for i in range(bottom, top - 1, -1):\n",
    "            matrix[i][left] = num\n",
    "            num += 1\n",
    "        left += 1\n",
    "\n",
    "    return matrix\n",
    "\n",
    "#------------------Main---------------------\n",
    "n = 3\n",
    "print(generateMatrix(n))\n"
   ]
  },
  {
   "cell_type": "code",
   "execution_count": null,
   "id": "3c3cebee-d521-4540-ae2e-9825844d1ac8",
   "metadata": {},
   "outputs": [],
   "source": []
  },
  {
   "cell_type": "markdown",
   "id": "38e423a6-1e2c-452b-a736-f0bc5e471f5f",
   "metadata": {},
   "source": [
    "Q8) Given two sparse matrices mat1 of size m x k and mat2 of size k x n, return the result of mat1 x mat2. You may assume that multiplication is always possible."
   ]
  },
  {
   "cell_type": "code",
   "execution_count": 16,
   "id": "94307852-2dc8-46c9-b023-3e315397e3af",
   "metadata": {
    "tags": []
   },
   "outputs": [
    {
     "name": "stdout",
     "output_type": "stream",
     "text": [
      "[[7, 0, 0], [-7, 0, 3]]\n"
     ]
    }
   ],
   "source": [
    "def MultiplySparseMatrices(mat1, mat2):\n",
    "    m, k = len(mat1), len(mat1[0])\n",
    "    n = len(mat2[0])\n",
    "\n",
    "    result = [[0] * n for _ in range(m)]\n",
    "\n",
    "    # Convert mat2 to a dictionary for faster access\n",
    "    mat2_dict = {}\n",
    "    for j in range(n):\n",
    "        for i in range(k):\n",
    "            if mat2[i][j] != 0:\n",
    "                if j not in mat2_dict:\n",
    "                    mat2_dict[j] = {}\n",
    "                mat2_dict[j][i] = mat2[i][j]\n",
    "\n",
    "    # Perform matrix multiplication\n",
    "    for i in range(m):\n",
    "        for j in range(n):\n",
    "            if j in mat2_dict:\n",
    "                for idx, val in mat2_dict[j].items():\n",
    "                    result[i][j] += mat1[i][idx] * val\n",
    "\n",
    "    return result\n",
    "\n",
    "#--------------Main-----------------------\n",
    "mat1 = [[1,0,0],[-1,0,3]]\n",
    "mat2 = [[7,0,0],[0,0,0],[0,0,1]]\n",
    "print(MultiplySparseMatrices(mat1, mat2))"
   ]
  },
  {
   "cell_type": "code",
   "execution_count": null,
   "id": "a4c0065b-224a-4f08-87f7-ebcccea5363e",
   "metadata": {},
   "outputs": [],
   "source": []
  }
 ],
 "metadata": {
  "kernelspec": {
   "display_name": "Python 3 (ipykernel)",
   "language": "python",
   "name": "python3"
  },
  "language_info": {
   "codemirror_mode": {
    "name": "ipython",
    "version": 3
   },
   "file_extension": ".py",
   "mimetype": "text/x-python",
   "name": "python",
   "nbconvert_exporter": "python",
   "pygments_lexer": "ipython3",
   "version": "3.10.5"
  }
 },
 "nbformat": 4,
 "nbformat_minor": 5
}
