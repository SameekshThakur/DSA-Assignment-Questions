{
 "cells": [
  {
   "cell_type": "markdown",
   "id": "9e957acb-28ad-4052-82e6-9989fe71597d",
   "metadata": {},
   "source": [
    "## Assignment - 10 (DSA)"
   ]
  },
  {
   "cell_type": "code",
   "execution_count": null,
   "id": "0734043d-7b37-455e-953b-3ef833e9394a",
   "metadata": {},
   "outputs": [],
   "source": []
  },
  {
   "cell_type": "markdown",
   "id": "40d5e24c-9ea8-4009-9d98-754c37d58899",
   "metadata": {},
   "source": [
    "Q1) Given an integer `n`, return *`true` if it is a power of three. Otherwise, return `false`*.\n",
    "\n",
    "An integer `n` is a power of three, if there exists an integer `x` such that `n == 3x`."
   ]
  },
  {
   "cell_type": "code",
   "execution_count": 3,
   "id": "355fbd59-e7d6-467f-b9d5-7a5ecf8a2b9c",
   "metadata": {},
   "outputs": [
    {
     "name": "stdout",
     "output_type": "stream",
     "text": [
      "True\n"
     ]
    }
   ],
   "source": [
    "import math\n",
    "def PowerOfThree(n):\n",
    "    if n <= 0:\n",
    "        return False\n",
    "\n",
    "    log_val = math.log(n, 3)\n",
    "    return math.isclose(log_val, round(log_val))\n",
    "\n",
    "#--------------Main-----------------\n",
    "n = 9\n",
    "print(PowerOfThree(n))  \n"
   ]
  },
  {
   "cell_type": "markdown",
   "id": "161d03e3-8e50-4c2a-ad42-2bb4b56e4c4f",
   "metadata": {},
   "source": [
    "Q2)You have a list `arr` of all integers in the range `[1, n]` sorted in a strictly increasing order. Apply the following algorithm on `arr`:\n",
    "\n",
    "- Starting from left to right, remove the first number and every other number afterward until you reach the end of the list.\n",
    "- Repeat the previous step again, but this time from right to left, remove the rightmost number and every other number from the remaining numbers.\n",
    "- Keep repeating the steps again, alternating left to right and right to left, until a single number remains.\n",
    "\n",
    "Given the integer `n`, return *the last number that remains in* `arr`"
   ]
  },
  {
   "cell_type": "code",
   "execution_count": 1,
   "id": "e28ec26e-f5ba-4ed0-971c-886654028f84",
   "metadata": {},
   "outputs": [
    {
     "name": "stdout",
     "output_type": "stream",
     "text": [
      "8\n"
     ]
    }
   ],
   "source": [
    "def LastRemaining(n):\n",
    "    start = 1\n",
    "    end = n\n",
    "    step = 1 \n",
    "    \n",
    "    is_left_to_right = True\n",
    "    \n",
    "    while start < end:\n",
    "        if is_left_to_right or (end - start) % (2 * step) != 0:\n",
    "            start += step\n",
    "        \n",
    "        end -= step\n",
    "        \n",
    "        step *= 2\n",
    "        \n",
    "        is_left_to_right = not is_left_to_right\n",
    "    \n",
    "    return start\n",
    "\n",
    "#-------------Main---------------------\n",
    "n = 9\n",
    "print(LastRemaining(n))  \n"
   ]
  },
  {
   "cell_type": "code",
   "execution_count": null,
   "id": "ad471ee5-61d9-4bd5-9431-65c1cdc20b39",
   "metadata": {},
   "outputs": [],
   "source": []
  },
  {
   "cell_type": "markdown",
   "id": "87463745-ed93-4053-bee3-172141ca4c52",
   "metadata": {},
   "source": [
    "Q3) Given a set represented as a string, write a recursive code to print all subsets of it. The subsets can be printed in any order."
   ]
  },
  {
   "cell_type": "code",
   "execution_count": 6,
   "id": "05d96a56-0be4-42dc-9102-0f0bdfacee90",
   "metadata": {},
   "outputs": [
    {
     "name": "stdout",
     "output_type": "stream",
     "text": [
      "abc\n",
      "ab\n",
      "ac\n",
      "a\n",
      "bc\n",
      "b\n",
      "c\n",
      "\n"
     ]
    }
   ],
   "source": [
    "def ShowSubsets(s, subset='', index=0):\n",
    "    if index == len(s):\n",
    "        print(subset)\n",
    "        return\n",
    "    \n",
    "    ShowSubsets(s, subset + s[index], index + 1)\n",
    "    ShowSubsets(s, subset, index + 1)\n",
    "\n",
    "#-------------Main---------------------\n",
    "string_val = \"abc\"\n",
    "ShowSubsets(string_val)\n"
   ]
  },
  {
   "cell_type": "code",
   "execution_count": null,
   "id": "188ebad6-1df9-4a0d-aa87-a9cb9ac52506",
   "metadata": {},
   "outputs": [],
   "source": []
  },
  {
   "cell_type": "markdown",
   "id": "4673bc39-12e7-4f99-9365-312d74906729",
   "metadata": {},
   "source": [
    "Q4) Given a string calculate length of the string using recursion."
   ]
  },
  {
   "cell_type": "code",
   "execution_count": 7,
   "id": "e73e9294-45c6-4a2f-a978-1ae64b0ff2dd",
   "metadata": {},
   "outputs": [
    {
     "name": "stdout",
     "output_type": "stream",
     "text": [
      "13\n"
     ]
    }
   ],
   "source": [
    "def CalculateLength(s):\n",
    "    if s == '':\n",
    "        return 0\n",
    "        \n",
    "    return 1 + CalculateLength(s[1:])\n",
    "\n",
    "#---------Main--------------\n",
    "string_val = \"Hello, World!\"\n",
    "print(CalculateLength(string_val))\n"
   ]
  },
  {
   "cell_type": "code",
   "execution_count": null,
   "id": "8cbacafd-e536-42b0-a3a2-b9cb850057ed",
   "metadata": {},
   "outputs": [],
   "source": []
  },
  {
   "cell_type": "markdown",
   "id": "ba151cad-7dc8-4949-8cd8-cc1d4a2af1ea",
   "metadata": {},
   "source": [
    "Q5) We are given a string S, we need to find count of all contiguous substrings starting and ending with same character."
   ]
  },
  {
   "cell_type": "code",
   "execution_count": 8,
   "id": "75a033b4-c505-4748-ac8b-f553579a1385",
   "metadata": {},
   "outputs": [
    {
     "name": "stdout",
     "output_type": "stream",
     "text": [
      "7\n"
     ]
    }
   ],
   "source": [
    "def CountSubstrings(S):\n",
    "    count = 0\n",
    "\n",
    "    for i in range(len(S)):\n",
    "        for j in range(i, len(S)):\n",
    "            if S[i] == S[j]:\n",
    "                count += 1\n",
    "\n",
    "    return count\n",
    "\n",
    "#------------Main-----------------\n",
    "string_val_1 = \"abcab\"\n",
    "print(CountSubstrings(string_val_1))\n"
   ]
  },
  {
   "cell_type": "code",
   "execution_count": null,
   "id": "b912cb7c-fb48-427c-a23b-d56e1db2ddc1",
   "metadata": {},
   "outputs": [],
   "source": []
  },
  {
   "cell_type": "markdown",
   "id": "4dae3494-7235-4dfb-a5e0-6f912fa5dffc",
   "metadata": {},
   "source": [
    "Q6) The tower of Hanoi is a famous puzzle where we have three rods and N disks. The objective of the puzzle is to move the entire stack to another rod. You are given the number of discs N. Initially, these discs are in the rod 1. You need to print all the steps of discs movement so that all the discs reach the 3rd rod. Also, you need to find the total moves.Note: The discs are arranged such that the top disc is numbered 1 and the bottom-most disc is numbered N. Also, all the discs have different sizes and a bigger disc cannot be put on the top of a smaller disc. Refer the provided link to get a better clarity about the puzzle."
   ]
  },
  {
   "cell_type": "code",
   "execution_count": 9,
   "id": "fb67185b-f8f2-4b51-8b42-ffa747cf5f1a",
   "metadata": {},
   "outputs": [
    {
     "name": "stdout",
     "output_type": "stream",
     "text": [
      "Move disk 1 from rod 1 to rod 3\n",
      "Move disk 2 from rod 1 to rod 2\n",
      "Move disk 1 from rod 3 to rod 2\n",
      "Move disk 3 from rod 1 to rod 3\n",
      "Move disk 1 from rod 2 to rod 1\n",
      "Move disk 2 from rod 2 to rod 3\n",
      "Move disk 1 from rod 1 to rod 3\n",
      "7\n"
     ]
    }
   ],
   "source": [
    "def TowerOfHanoi(n, source, destination, auxiliary):\n",
    "    if n == 1:\n",
    "        print(f\"Move disk 1 from rod {source} to rod {destination}\")\n",
    "        return 1\n",
    "    \n",
    "    moves = 0\n",
    "    moves += TowerOfHanoi(n-1, source, auxiliary, destination)\n",
    "    print(f\"Move disk {n} from rod {source} to rod {destination}\")\n",
    "    moves += 1\n",
    "    moves += TowerOfHanoi(n-1, auxiliary, destination, source)\n",
    "    return moves\n",
    "\n",
    "#-----------------Main----------------------------------\n",
    "n = 3\n",
    "print(TowerOfHanoi(n, 1, 3, 2))\n"
   ]
  },
  {
   "cell_type": "code",
   "execution_count": null,
   "id": "dc53f616-1a86-4e7f-9a55-dbe4c9c4e02d",
   "metadata": {},
   "outputs": [],
   "source": []
  },
  {
   "cell_type": "markdown",
   "id": "7d306e41-fd66-487a-a1ab-dce5770d97ce",
   "metadata": {},
   "source": [
    "Q7) Given a string str, the task is to print all the permutations of str. A permutation is an arrangement of all or part of a set of objects, with regard to the order of the arrangement. For instance, the words ‘bat’ and ‘tab’ represents two distinct permutation (or arrangements) of a similar three letter word."
   ]
  },
  {
   "cell_type": "code",
   "execution_count": 11,
   "id": "36eb53d8-8aee-4d52-87ae-4aa16f53fa1f",
   "metadata": {},
   "outputs": [
    {
     "name": "stdout",
     "output_type": "stream",
     "text": [
      "abc\n",
      "acb\n",
      "bac\n",
      "bca\n",
      "cba\n",
      "cab\n"
     ]
    }
   ],
   "source": [
    "def Permute(s, l, r):\n",
    "    if l == r:\n",
    "        print(\"\".join(s))\n",
    "    else:\n",
    "        for i in range(l, r + 1):\n",
    "            s[l], s[i] = s[i], s[l] \n",
    "            Permute(s, l + 1, r)  \n",
    "            s[l], s[i] = s[i], s[l]  \n",
    "\n",
    "def PrintPermutations(str):\n",
    "    s = list(str)\n",
    "    n = len(s)\n",
    "    Permute(s, 0, n - 1)\n",
    "\n",
    "#--------------Main-------------------\n",
    "string_val_2 = \"abc\"\n",
    "PrintPermutations(string_val_2)\n"
   ]
  },
  {
   "cell_type": "code",
   "execution_count": null,
   "id": "f62908b8-b544-44ab-90ec-88fcb3bae850",
   "metadata": {},
   "outputs": [],
   "source": []
  },
  {
   "cell_type": "markdown",
   "id": "bc1d3a27-75a7-4a32-b840-974ac2ae2abe",
   "metadata": {},
   "source": [
    "Q8) Given a string, count total number of consonants in it. A consonant is an English alphabet character that is not vowel (a, e, i, o and u). Examples of constants are b, c, d, f, and g."
   ]
  },
  {
   "cell_type": "code",
   "execution_count": 12,
   "id": "283bdcd9-1cde-4a95-a1f4-4b585e00874e",
   "metadata": {},
   "outputs": [
    {
     "name": "stdout",
     "output_type": "stream",
     "text": [
      "7\n"
     ]
    }
   ],
   "source": [
    "def CountConsonants(s):\n",
    "    consonants = 'bcdfghjklmnpqrstvwxyzBCDFGHJKLMNPQRSTVWXYZ'\n",
    "    count = 0\n",
    "\n",
    "    for char in s:\n",
    "        if char in consonants:\n",
    "            count += 1\n",
    "\n",
    "    return count\n",
    "\n",
    "# ----------Main--------------\n",
    "string_val_3 = \"Hello, World!\"\n",
    "print(CountConsonants(string_val_3))"
   ]
  },
  {
   "cell_type": "code",
   "execution_count": null,
   "id": "f878af62-99e5-4602-bb38-9cd8a096e918",
   "metadata": {},
   "outputs": [],
   "source": []
  }
 ],
 "metadata": {
  "kernelspec": {
   "display_name": "Python 3 (ipykernel)",
   "language": "python",
   "name": "python3"
  },
  "language_info": {
   "codemirror_mode": {
    "name": "ipython",
    "version": 3
   },
   "file_extension": ".py",
   "mimetype": "text/x-python",
   "name": "python",
   "nbconvert_exporter": "python",
   "pygments_lexer": "ipython3",
   "version": "3.10.5"
  }
 },
 "nbformat": 4,
 "nbformat_minor": 5
}
