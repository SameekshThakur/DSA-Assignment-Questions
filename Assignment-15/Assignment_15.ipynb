{
 "cells": [
  {
   "cell_type": "markdown",
   "id": "41b4f57f-9e0d-4de0-8ca2-8d3ffd4a5cff",
   "metadata": {},
   "source": [
    "## Assignment - 15"
   ]
  },
  {
   "cell_type": "code",
   "execution_count": null,
   "id": "1b921f70-112e-47b7-a487-84d9d40c57a5",
   "metadata": {},
   "outputs": [],
   "source": []
  },
  {
   "cell_type": "markdown",
   "id": "44a28d3d-bc22-46be-babc-5d813a934714",
   "metadata": {},
   "source": [
    "Q1) Given an array arr[ ] of size N having elements, the task is to find the next greater element for each element of the array in order of their appearance in the array.Next greater element of an element in the array is the nearest element on the right which is greater than the current element.If there does not exist next greater of current element, then next greater element for current element is -1. For example, next greater of the last element is always -1."
   ]
  },
  {
   "cell_type": "code",
   "execution_count": 1,
   "id": "41b4c680-4fe1-4e1a-8ea3-a20237e51cf2",
   "metadata": {},
   "outputs": [
    {
     "name": "stdout",
     "output_type": "stream",
     "text": [
      "[3, 4, 4, -1]\n"
     ]
    }
   ],
   "source": [
    "def FindNextGreaterElements(lst):\n",
    "    n = len(lst)\n",
    "    result = [-1] * n  \n",
    "\n",
    "    stack = []  \n",
    "\n",
    "    for i in range(n - 1, -1, -1):\n",
    "        while stack and stack[-1] <= lst[i]:\n",
    "            stack.pop()\n",
    "\n",
    "        if stack:\n",
    "            result[i] = stack[-1]\n",
    "\n",
    "        stack.append(lst[i])\n",
    "\n",
    "    return result\n",
    "#--------------Main---------------\n",
    "lst = [1, 3, 2, 4]\n",
    "print(FindNextGreaterElements(lst))\n"
   ]
  },
  {
   "cell_type": "code",
   "execution_count": null,
   "id": "1fa48ddd-41c2-4ba6-9d00-9c809ccd6e21",
   "metadata": {},
   "outputs": [],
   "source": []
  },
  {
   "cell_type": "markdown",
   "id": "c7ae03d5-1695-43f4-8c96-3ff74a99cc26",
   "metadata": {},
   "source": [
    "Q2) Given an array a of integers of length n, find the nearest smaller number for every element such that the smaller element is on left side.If no small element present on the left print -1."
   ]
  },
  {
   "cell_type": "code",
   "execution_count": 3,
   "id": "de3298ec-612a-4c7a-893a-026432f30ae0",
   "metadata": {},
   "outputs": [
    {
     "name": "stdout",
     "output_type": "stream",
     "text": [
      "[-1, 1, 1]\n"
     ]
    }
   ],
   "source": [
    "def FindNearestSmallerElements(lst):\n",
    "    n = len(lst)\n",
    "    result = [-1] * n  \n",
    "\n",
    "    stack = []  \n",
    "\n",
    "    for i in range(n):\n",
    "        while stack and stack[-1] >= lst[i]:\n",
    "            stack.pop()\n",
    "\n",
    "        if stack:\n",
    "            result[i] = stack[-1]\n",
    "\n",
    "        stack.append(lst[i])\n",
    "\n",
    "    return result\n",
    "\n",
    "#---------------Main--------------\n",
    "lst_1 = [1, 6, 2]\n",
    "print(FindNearestSmallerElements(lst_1))\n"
   ]
  },
  {
   "cell_type": "code",
   "execution_count": null,
   "id": "a83bdcc0-d384-4f65-93ca-65240183e326",
   "metadata": {},
   "outputs": [],
   "source": []
  },
  {
   "cell_type": "markdown",
   "id": "58c4f8c7-50d9-4ef7-8586-b4c021000356",
   "metadata": {},
   "source": [
    "Q3) Implement a Stack using two queues q1 and q2."
   ]
  },
  {
   "cell_type": "code",
   "execution_count": 5,
   "id": "3b8d02bf-188c-4030-b76f-dbedcd7dd9f5",
   "metadata": {},
   "outputs": [
    {
     "name": "stdout",
     "output_type": "stream",
     "text": [
      "3\n",
      "2\n",
      "False\n",
      "True\n"
     ]
    }
   ],
   "source": [
    "from queue import Queue\n",
    "\n",
    "class Stack:\n",
    "    def __init__(self):\n",
    "        self.q1 = Queue()\n",
    "        self.q2 = Queue()\n",
    "\n",
    "    def push(self, value):\n",
    "        self.q2.put(value)\n",
    "\n",
    "        while not self.q1.empty():\n",
    "            self.q2.put(self.q1.get())\n",
    "\n",
    "        self.q1, self.q2 = self.q2, self.q1\n",
    "\n",
    "    def pop(self):\n",
    "        if self.q1.empty():\n",
    "            raise Exception(\"Stack is empty\")\n",
    "\n",
    "        return self.q1.get()\n",
    "\n",
    "    def top(self):\n",
    "        if self.q1.empty():\n",
    "            raise Exception(\"Stack is empty\")\n",
    "\n",
    "        return self.q1.queue[0]\n",
    "\n",
    "    def isEmpty(self):\n",
    "        return self.q1.empty()\n",
    "\n",
    "#----------Main-----------------\n",
    "stack = Stack()\n",
    "stack.push(1)\n",
    "stack.push(2)\n",
    "stack.push(3)\n",
    "\n",
    "print(stack.top())  \n",
    "\n",
    "stack.pop()\n",
    "print(stack.top())  \n",
    "\n",
    "print(stack.isEmpty())  \n",
    "\n",
    "stack.pop()\n",
    "stack.pop()\n",
    "\n",
    "print(stack.isEmpty())  \n"
   ]
  },
  {
   "cell_type": "code",
   "execution_count": null,
   "id": "10b687a3-99f3-4437-8f72-11c8386f2b60",
   "metadata": {},
   "outputs": [],
   "source": []
  },
  {
   "cell_type": "markdown",
   "id": "c49423c9-19fe-487f-a620-da42dd392268",
   "metadata": {},
   "source": [
    "Q4) You are given a stack St. You have to reverse the stack using recursion."
   ]
  },
  {
   "cell_type": "code",
   "execution_count": 6,
   "id": "6285bf8d-06e1-480c-91e3-1fc35d147c06",
   "metadata": {},
   "outputs": [
    {
     "name": "stdout",
     "output_type": "stream",
     "text": [
      "Original Stack: [1, 2, 3, 4, 5]\n",
      "Reversed Stack: [5, 4, 3, 2, 1]\n"
     ]
    }
   ],
   "source": [
    "def InsertAtBottom(stack, element):\n",
    "    if len(stack) == 0:\n",
    "        stack.append(element)\n",
    "    else:\n",
    "        topElement = stack.pop()\n",
    "        InsertAtBottom(stack, element)\n",
    "        stack.append(topElement)\n",
    "\n",
    "def ReverseStack(stack):\n",
    "    if len(stack) > 1:\n",
    "        topElement = stack.pop()\n",
    "        ReverseStack(stack)\n",
    "        InsertAtBottom(stack, topElement)\n",
    "\n",
    "#--------Main------------\n",
    "stack = [1, 2, 3, 4, 5]\n",
    "print(\"Original Stack:\", stack)\n",
    "\n",
    "ReverseStack(stack)\n",
    "print(\"Reversed Stack:\", stack)\n"
   ]
  },
  {
   "cell_type": "code",
   "execution_count": null,
   "id": "38a93c50-2309-492b-94a3-a6463816a924",
   "metadata": {},
   "outputs": [],
   "source": []
  },
  {
   "cell_type": "markdown",
   "id": "5a272c00-9e8e-4f21-9b30-c9863e037fd7",
   "metadata": {},
   "source": [
    "Q5) You are given a string S, the task is to reverse the string using stack."
   ]
  },
  {
   "cell_type": "code",
   "execution_count": 10,
   "id": "c9e9befa-8481-454f-954e-9ff880b7485e",
   "metadata": {},
   "outputs": [
    {
     "name": "stdout",
     "output_type": "stream",
     "text": [
      "!dlroW ,olleH\n"
     ]
    }
   ],
   "source": [
    "def ReverseString(S):\n",
    "    stack = []\n",
    "    \n",
    "    for char in S:\n",
    "        stack.append(char)\n",
    "    \n",
    "    reversed_string = \"\"\n",
    "    \n",
    "    while stack:\n",
    "        reversed_string += stack.pop()\n",
    "    \n",
    "    return reversed_string\n",
    "\n",
    "#------------Main---------------\n",
    "string = \"Hello, World!\"\n",
    "reversed_string = ReverseString(string)\n",
    "print(reversed_string)  \n"
   ]
  },
  {
   "cell_type": "code",
   "execution_count": null,
   "id": "d1194cc9-979a-42fb-8c9b-2ce878ec8139",
   "metadata": {},
   "outputs": [],
   "source": []
  },
  {
   "cell_type": "markdown",
   "id": "33e13d15-e8ac-4c15-8383-6279f93c901a",
   "metadata": {},
   "source": [
    "Q6) Given string S representing a postfix expression, the task is to evaluate the expression and find the final value. Operators will only include the basic arithmetic operators like *, /, + and -."
   ]
  },
  {
   "cell_type": "code",
   "execution_count": 12,
   "id": "9a8e0f14-6aa8-4d85-b3ad-bb4228950e4c",
   "metadata": {},
   "outputs": [
    {
     "name": "stdout",
     "output_type": "stream",
     "text": [
      "7\n"
     ]
    }
   ],
   "source": [
    "def EvaluatePostfix(S):\n",
    "    stack = []\n",
    "    \n",
    "    for char in S:\n",
    "        if char.isdigit():\n",
    "            stack.append(int(char))\n",
    "        else:\n",
    "            operand2 = stack.pop()\n",
    "            operand1 = stack.pop()\n",
    "            result = PerformOperation(operand1, operand2, char)\n",
    "            stack.append(result)\n",
    "    \n",
    "    return stack.pop()\n",
    "\n",
    "def PerformOperation(operand1, operand2, operator):\n",
    "    if operator == '*':\n",
    "        return operand1 * operand2\n",
    "    elif operator == '/':\n",
    "        return operand1 / operand2\n",
    "    elif operator == '+':\n",
    "        return operand1 + operand2\n",
    "    elif operator == '-':\n",
    "        return operand1 - operand2\n",
    "\n",
    "\n",
    "#--------------Main-----------------\n",
    "postfix_expression = \"82+3-\"\n",
    "result = EvaluatePostfix(postfix_expression)\n",
    "print(result)  \n"
   ]
  },
  {
   "cell_type": "code",
   "execution_count": null,
   "id": "cc00ef64-0144-4896-a06f-fffb329cb97d",
   "metadata": {},
   "outputs": [],
   "source": []
  },
  {
   "cell_type": "markdown",
   "id": "6c1efc95-cf41-44df-ab9f-025d6df253b7",
   "metadata": {},
   "source": [
    "Q7) Design a stack that supports push, pop, top, and retrieving the minimum element in constant time.\n",
    "\n",
    "Implement the `MinStack` class:\n",
    "\n",
    "- `MinStack()` initializes the stack object.\n",
    "- `void push(int val)` pushes the element `val` onto the stack.\n",
    "- `void pop()` removes the element on the top of the stack.\n",
    "- `int top()` gets the top element of the stack.\n",
    "- `int getMin()` retrieves the minimum element in the stack.\n",
    "\n",
    "You must implement a solution with `O(1)` time complexity for each function."
   ]
  },
  {
   "cell_type": "code",
   "execution_count": 8,
   "id": "f85440a3-4966-4fe8-8fa6-b9690738df1e",
   "metadata": {},
   "outputs": [
    {
     "name": "stdout",
     "output_type": "stream",
     "text": [
      "1\n",
      "1\n",
      "2\n",
      "7\n"
     ]
    }
   ],
   "source": [
    "class MinStack:\n",
    "    def __init__(self):\n",
    "        self.stack = []  \n",
    "        self.min_stack = []  \n",
    "\n",
    "    def push(self, val: int) -> None:\n",
    "        self.stack.append(val)\n",
    "\n",
    "        \n",
    "        if not self.min_stack or val <= self.min_stack[-1]:\n",
    "            self.min_stack.append(val)\n",
    "\n",
    "    def pop(self) -> None:\n",
    "    \n",
    "        if self.stack[-1] == self.min_stack[-1]:\n",
    "            self.min_stack.pop()\n",
    "        self.stack.pop()\n",
    "\n",
    "    def top(self) -> int:\n",
    "        return self.stack[-1]\n",
    "\n",
    "    def getMin(self) -> int:\n",
    "        return self.min_stack[-1]\n",
    "\n",
    "#---------------Main-------------\n",
    "stack = MinStack()\n",
    "stack.push(5)\n",
    "stack.push(2)\n",
    "stack.push(7)\n",
    "stack.push(1)\n",
    "\n",
    "print(stack.getMin())  \n",
    "print(stack.top()) \n",
    "\n",
    "stack.pop()\n",
    "\n",
    "print(stack.getMin())  \n",
    "print(stack.top())  \n"
   ]
  },
  {
   "cell_type": "code",
   "execution_count": null,
   "id": "72979e8d-80c3-40f0-bcca-faaaddbd7a8c",
   "metadata": {},
   "outputs": [],
   "source": []
  },
  {
   "cell_type": "markdown",
   "id": "c4f29d5b-1ab1-4651-af91-a04daec7bbf8",
   "metadata": {},
   "source": [
    "Q8) Given n non-negative integers representing an elevation map where the width of each bar is 1, compute how much water it can trap after raining."
   ]
  },
  {
   "cell_type": "code",
   "execution_count": 7,
   "id": "f5af826c-3ac4-4048-a772-07331de976de",
   "metadata": {},
   "outputs": [
    {
     "name": "stdout",
     "output_type": "stream",
     "text": [
      "6\n"
     ]
    }
   ],
   "source": [
    "def TrapWater(elevation):\n",
    "    if not elevation:\n",
    "        return 0\n",
    "\n",
    "    left = 0\n",
    "    right = len(elevation) - 1\n",
    "    left_max = right_max = water = 0\n",
    "\n",
    "    while left <= right:\n",
    "        if elevation[left] <= elevation[right]:\n",
    "            if elevation[left] > left_max:\n",
    "                left_max = elevation[left]\n",
    "            else:\n",
    "                water += left_max - elevation[left]\n",
    "            left += 1\n",
    "        else:\n",
    "            if elevation[right] > right_max:\n",
    "                right_max = elevation[right]\n",
    "            else:\n",
    "                water += right_max - elevation[right]\n",
    "            right -= 1\n",
    "\n",
    "    return water\n",
    "\n",
    "#----------------Main--------------------\n",
    "height = [0,1,0,2,1,0,1,3,2,1,2,1]\n",
    "print(TrapWater(height))"
   ]
  },
  {
   "cell_type": "code",
   "execution_count": null,
   "id": "eb4a391d-0244-4bfb-83a7-d90b0e17e9c7",
   "metadata": {},
   "outputs": [],
   "source": []
  }
 ],
 "metadata": {
  "kernelspec": {
   "display_name": "Python 3 (ipykernel)",
   "language": "python",
   "name": "python3"
  },
  "language_info": {
   "codemirror_mode": {
    "name": "ipython",
    "version": 3
   },
   "file_extension": ".py",
   "mimetype": "text/x-python",
   "name": "python",
   "nbconvert_exporter": "python",
   "pygments_lexer": "ipython3",
   "version": "3.9.13"
  }
 },
 "nbformat": 4,
 "nbformat_minor": 5
}
