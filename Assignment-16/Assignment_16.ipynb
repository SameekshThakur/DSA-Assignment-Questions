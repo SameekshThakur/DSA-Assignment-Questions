{
 "cells": [
  {
   "cell_type": "markdown",
   "id": "8618c331",
   "metadata": {},
   "source": [
    "## Assignment - 16"
   ]
  },
  {
   "cell_type": "code",
   "execution_count": null,
   "id": "c4974c03",
   "metadata": {},
   "outputs": [],
   "source": []
  },
  {
   "cell_type": "markdown",
   "id": "44f61156",
   "metadata": {},
   "source": [
    "Q1) Given an array, for each element find the value of the nearest element to the right which is having a frequency greater than that of the current element. If there does not exist an answer for a position, then make the value ‘-1’."
   ]
  },
  {
   "cell_type": "code",
   "execution_count": null,
   "id": "58e02dd7",
   "metadata": {
    "scrolled": true
   },
   "outputs": [],
   "source": [
    "\n"
   ]
  },
  {
   "cell_type": "code",
   "execution_count": null,
   "id": "0f1df8a8",
   "metadata": {},
   "outputs": [],
   "source": []
  },
  {
   "cell_type": "markdown",
   "id": "d3631279",
   "metadata": {},
   "source": [
    "Q2) Given a stack of integers, sort it in ascending order using another temporary stack."
   ]
  },
  {
   "cell_type": "code",
   "execution_count": 4,
   "id": "1762d257",
   "metadata": {},
   "outputs": [
    {
     "name": "stdout",
     "output_type": "stream",
     "text": [
      "[9, 7, 5, 2, 1]\n"
     ]
    }
   ],
   "source": [
    "def sortStack(stack):\n",
    "    temp_stack = []\n",
    "\n",
    "    while stack:\n",
    "        temp = stack.pop()\n",
    "\n",
    "        while temp_stack and temp_stack[-1] > temp:\n",
    "            stack.append(temp_stack.pop())\n",
    "\n",
    "        temp_stack.append(temp)\n",
    "\n",
    "    while temp_stack:\n",
    "        stack.append(temp_stack.pop())\n",
    "\n",
    "    return stack\n",
    "\n",
    "#----------------Main-------------------\n",
    "stack = [5, 2, 7, 1, 9]\n",
    "sorted_stack = sortStack(stack)\n",
    "print(sorted_stack)\n"
   ]
  },
  {
   "cell_type": "code",
   "execution_count": null,
   "id": "0878ad98",
   "metadata": {},
   "outputs": [],
   "source": []
  },
  {
   "cell_type": "markdown",
   "id": "3f181b5e",
   "metadata": {},
   "source": [
    "Q3) Given a stack with push(), pop(), and empty() operations, The task is to delete the middle element of it without using any additional data structure."
   ]
  },
  {
   "cell_type": "code",
   "execution_count": 5,
   "id": "47a47272",
   "metadata": {},
   "outputs": [
    {
     "name": "stdout",
     "output_type": "stream",
     "text": [
      "[1, 2, 3, 4]\n"
     ]
    }
   ],
   "source": [
    "def delete_middle_helper(stack, current_index):\n",
    "    if current_index == 1:\n",
    "        stack.pop()\n",
    "        return\n",
    "\n",
    "    temp = stack.pop()\n",
    "    delete_middle_helper(stack, current_index - 1)\n",
    "    stack.append(temp)\n",
    "\n",
    "\n",
    "def delete_middle(stack):\n",
    "    size = len(stack)\n",
    "    middle_index = (size // 2) + 1\n",
    "    delete_middle_helper(stack, 1)\n",
    "\n",
    "\n",
    "#-----------------Main---------------------\n",
    "stack = [1, 2, 3, 4, 5]\n",
    "delete_middle(stack)\n",
    "print(stack)\n"
   ]
  },
  {
   "cell_type": "code",
   "execution_count": null,
   "id": "e7a9b36f",
   "metadata": {},
   "outputs": [],
   "source": []
  },
  {
   "cell_type": "markdown",
   "id": "5e850b03",
   "metadata": {},
   "source": [
    "Q4) Given a Queue consisting of first **n** natural numbers (in random order). The task is to check whether the given Queue elements can be arranged in increasing order in another Queue using a stack. The operation allowed are:\n",
    "\n",
    "1. Push and pop elements from the stack\n",
    "2. Pop (Or Dequeue) from the given Queue.\n",
    "3. Push (Or Enqueue) in the another Queue."
   ]
  },
  {
   "cell_type": "code",
   "execution_count": 6,
   "id": "346cdf95",
   "metadata": {},
   "outputs": [
    {
     "name": "stdout",
     "output_type": "stream",
     "text": [
      "True\n"
     ]
    }
   ],
   "source": [
    "def checkQueueOrder(queue):\n",
    "    stack = []\n",
    "    temp_queue = []\n",
    "    expected_num = 1\n",
    "\n",
    "    while queue:\n",
    "        num = queue.pop(0)\n",
    "\n",
    "        if num == expected_num:\n",
    "            temp_queue.append(num)\n",
    "            expected_num += 1\n",
    "        else:\n",
    "            if not stack:\n",
    "                stack.append(num)\n",
    "            elif num < stack[-1]:\n",
    "                return False\n",
    "            else:\n",
    "                stack.append(num)\n",
    "\n",
    "    while stack:\n",
    "        if stack.pop() != expected_num:\n",
    "            return False\n",
    "        expected_num += 1\n",
    "\n",
    "    return True\n",
    "\n",
    "#------------------Main------------------\n",
    "queue = [4, 1, 2, 3]\n",
    "isOrderPossible = checkQueueOrder(queue)\n",
    "print(isOrderPossible)\n",
    "\n"
   ]
  },
  {
   "cell_type": "code",
   "execution_count": null,
   "id": "67a77c4c",
   "metadata": {},
   "outputs": [],
   "source": []
  },
  {
   "cell_type": "markdown",
   "id": "70ad0340",
   "metadata": {},
   "source": [
    "Q5) Given a number , write a program to reverse this number using stack."
   ]
  },
  {
   "cell_type": "code",
   "execution_count": 7,
   "id": "f88dbc71",
   "metadata": {},
   "outputs": [
    {
     "name": "stdout",
     "output_type": "stream",
     "text": [
      "54321\n"
     ]
    }
   ],
   "source": [
    "def reverseNumber(number):\n",
    "    number_str = str(number)\n",
    "    stack = []\n",
    "\n",
    "    for digit in number_str:\n",
    "        stack.append(digit)\n",
    "\n",
    "    reversed_number_str = \"\"\n",
    "    while stack:\n",
    "        reversed_number_str += stack.pop()\n",
    "\n",
    "    reversed_number = int(reversed_number_str)\n",
    "\n",
    "    return reversed_number\n",
    "\n",
    "#-------------Main---------------\n",
    "number = 12345\n",
    "reversedNumber = reverseNumber(number)\n",
    "print(reversedNumber)\n"
   ]
  },
  {
   "cell_type": "code",
   "execution_count": null,
   "id": "bd1cb7ec",
   "metadata": {},
   "outputs": [],
   "source": []
  },
  {
   "cell_type": "markdown",
   "id": "851b2ad1",
   "metadata": {},
   "source": [
    "Q6) Given an integer k and a **[queue](https://www.geeksforgeeks.org/queue-data-structure/)** of integers, The task is to reverse the order of the first **k** elements of the queue, leaving the other elements in the same relative order.\n",
    "\n",
    "Only following standard operations are allowed on queue.\n",
    "\n",
    "- **enqueue(x) :** Add an item x to rear of queue\n",
    "- **dequeue() :** Remove an item from front of queue\n",
    "- **size() :** Returns number of elements in queue.\n",
    "- **front() :** Finds front item."
   ]
  },
  {
   "cell_type": "code",
   "execution_count": null,
   "id": "b8999931",
   "metadata": {},
   "outputs": [],
   "source": []
  },
  {
   "cell_type": "markdown",
   "id": "dfc23e8c",
   "metadata": {},
   "source": []
  },
  {
   "cell_type": "markdown",
   "id": "ab4dc6ac",
   "metadata": {},
   "source": [
    "Q7) Given a sequence of n strings, the task is to check if any two similar words come together and then destroy each other then print the number of words left in the sequence after this pairwise destruction."
   ]
  },
  {
   "cell_type": "code",
   "execution_count": 12,
   "id": "1562cf2e",
   "metadata": {},
   "outputs": [
    {
     "name": "stdout",
     "output_type": "stream",
     "text": [
      "3\n"
     ]
    }
   ],
   "source": [
    "def countRemainingWords(sequence):\n",
    "    stack = []\n",
    "\n",
    "    for word in sequence:\n",
    "        if not stack or stack[-1] != word:\n",
    "            stack.append(word)\n",
    "        else:\n",
    "            stack.pop()\n",
    "\n",
    "    return len(stack)\n",
    "\n",
    "#-----------Main---------------------\n",
    "sequence = [\"apple\", \"banana\", \"banana\", \"apple\", \"mango\", \"banana\", \"orange\"]\n",
    "remaining_words = countRemainingWords(sequence)\n",
    "print(remaining_words)\n",
    "\n",
    "\n"
   ]
  },
  {
   "cell_type": "code",
   "execution_count": null,
   "id": "723e33a2",
   "metadata": {},
   "outputs": [],
   "source": []
  },
  {
   "cell_type": "markdown",
   "id": "3122edc2",
   "metadata": {},
   "source": [
    "Q8) Given an array of integers, the task is to find the maximum absolute difference between the nearest left and the right smaller element of every element in the array.\n",
    "\n",
    "**Note:** If there is no smaller element on right side or left side of any element then we take zero as the smaller element. For example for the leftmost element, the nearest smaller element on the left side is considered as 0. Similarly, for rightmost elements, the smaller element on the right side is considered as 0."
   ]
  },
  {
   "cell_type": "code",
   "execution_count": 13,
   "id": "1af05a7f",
   "metadata": {},
   "outputs": [
    {
     "name": "stdout",
     "output_type": "stream",
     "text": [
      "6\n"
     ]
    }
   ],
   "source": [
    "def find_max_absolute_difference(arr):\n",
    "    n = len(arr)\n",
    "    left_smaller = [0] * n\n",
    "    right_smaller = [0] * n\n",
    "    stack = []\n",
    "\n",
    "    \n",
    "    for i in range(n):\n",
    "        while stack and stack[-1] >= arr[i]:\n",
    "            stack.pop()\n",
    "\n",
    "        if stack:\n",
    "            left_smaller[i] = stack[-1]\n",
    "\n",
    "        stack.append(arr[i])\n",
    "\n",
    "    stack.clear()\n",
    "\n",
    "    \n",
    "    for i in range(n - 1, -1, -1):\n",
    "        while stack and stack[-1] >= arr[i]:\n",
    "            stack.pop()\n",
    "\n",
    "        if stack:\n",
    "            right_smaller[i] = stack[-1]\n",
    "\n",
    "        stack.append(arr[i])\n",
    "\n",
    "    max_difference = 0\n",
    "\n",
    "    \n",
    "    for i in range(n):\n",
    "        difference = abs(left_smaller[i] - right_smaller[i])\n",
    "        max_difference = max(max_difference, difference)\n",
    "\n",
    "    return max_difference\n",
    "\n",
    "#---------------Main----------------------\n",
    "array = [2, 1, 8, 7, 6, 5]\n",
    "max_difference = find_max_absolute_difference(array)\n",
    "print(max_difference)\n"
   ]
  },
  {
   "cell_type": "code",
   "execution_count": null,
   "id": "45593bc6",
   "metadata": {},
   "outputs": [],
   "source": []
  }
 ],
 "metadata": {
  "kernelspec": {
   "display_name": "Python 3 (ipykernel)",
   "language": "python",
   "name": "python3"
  },
  "language_info": {
   "codemirror_mode": {
    "name": "ipython",
    "version": 3
   },
   "file_extension": ".py",
   "mimetype": "text/x-python",
   "name": "python",
   "nbconvert_exporter": "python",
   "pygments_lexer": "ipython3",
   "version": "3.10.9"
  }
 },
 "nbformat": 4,
 "nbformat_minor": 5
}
