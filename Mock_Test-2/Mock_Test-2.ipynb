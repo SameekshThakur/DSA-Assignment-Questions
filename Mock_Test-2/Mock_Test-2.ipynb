{
 "cells": [
  {
   "attachments": {},
   "cell_type": "markdown",
   "metadata": {},
   "source": [
    "## Mock_test - 2"
   ]
  },
  {
   "attachments": {},
   "cell_type": "markdown",
   "metadata": {},
   "source": [
    "Q1) Given a non-negative integer x, return the square root of x rounded down to the nearest integer. The returned integer should be non-negative as well. You must not use any built-in exponent function or operator."
   ]
  },
  {
   "cell_type": "code",
   "execution_count": null,
   "metadata": {},
   "outputs": [],
   "source": [
    "def Sqrt(num):\n",
    "    if num == 0 or num == 1:\n",
    "        return num\n",
    "\n",
    "    left_ptr = 1\n",
    "    right_ptr = num\n",
    "\n",
    "    while left_ptr <= right_ptr:\n",
    "        mid = (left_ptr + right_ptr) // 2\n",
    "\n",
    "        if mid * mid == num:\n",
    "            return mid\n",
    "        elif mid * mid < num:\n",
    "            left_ptr = mid + 1\n",
    "            result = mid\n",
    "        else:\n",
    "            right_ptr = mid - 1\n",
    "\n",
    "    return result\n",
    "\n",
    "#-----------------Main----------------\n",
    "num = 4\n",
    "print(Sqrt(num))"
   ]
  },
  {
   "cell_type": "code",
   "execution_count": null,
   "metadata": {},
   "outputs": [],
   "source": [
    "Q2) "
   ]
  },
  {
   "cell_type": "code",
   "execution_count": null,
   "metadata": {},
   "outputs": [],
   "source": [
    "class ListNode:\n",
    "    def __init__(self, val=0, next=None):\n",
    "        self.val = val\n",
    "        self.next = next\n",
    "\n",
    "def AddTwoNumbers(l1, l2):\n",
    "    dummy_head = ListNode()  \n",
    "    curr = dummy_head  \n",
    "    carry = 0  \n",
    "    while l1 or l2 or carry:\n",
    "\n",
    "        sum_val = carry\n",
    "        if l1:\n",
    "            sum_val += l1.val\n",
    "            l1 = l1.next\n",
    "        if l2:\n",
    "            sum_val += l2.val\n",
    "            l2 = l2.next\n",
    "        \n",
    "        \n",
    "        curr.next = ListNode(sum_val % 10)\n",
    "        curr = curr.next\n",
    "\n",
    "        \n",
    "        carry = sum_val // 10\n",
    "\n",
    "    return dummy_head.next \n",
    "\n",
    "#----------------------Main-------------------------\n",
    "\n",
    "l1 = ListNode(2)\n",
    "l1.next = ListNode(4)\n",
    "l1.next.next = ListNode(3)\n",
    "\n",
    "l2 = ListNode(5)\n",
    "l2.next = ListNode(6)\n",
    "l2.next.next = ListNode(4)\n",
    "\n",
    "result = AddTwoNumbers(l1, l2)\n",
    "\n",
    "while result:\n",
    "    print(result.val, end=\" \")\n",
    "    result = result.next\n",
    "\n",
    "\n"
   ]
  },
  {
   "cell_type": "code",
   "execution_count": null,
   "metadata": {},
   "outputs": [],
   "source": []
  }
 ],
 "metadata": {
  "language_info": {
   "name": "python"
  },
  "orig_nbformat": 4
 },
 "nbformat": 4,
 "nbformat_minor": 2
}
