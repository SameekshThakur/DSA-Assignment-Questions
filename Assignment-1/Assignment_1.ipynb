{
 "cells": [
  {
   "cell_type": "markdown",
   "id": "c9a5e1ce-4521-40c1-abbd-532f9dfd4e82",
   "metadata": {},
   "source": [
    "## Assignment - 1 (DSA)"
   ]
  },
  {
   "cell_type": "markdown",
   "id": "85de0cd0-c05f-401b-b30a-1522af16ec8c",
   "metadata": {},
   "source": [
    "Q1) Given an array of integers nums and an integer target, return indices of the two numbers such that they add up to target.\n",
    "You may assume that each input would have exactly one solution, and you may not use the same element twice.\n",
    "You can return the answer in any order."
   ]
  },
  {
   "cell_type": "code",
   "execution_count": 2,
   "id": "80cda305-ad7a-4c47-b1bd-53f59464fb8b",
   "metadata": {
    "tags": []
   },
   "outputs": [
    {
     "name": "stdout",
     "output_type": "stream",
     "text": [
      "[0, 1]\n"
     ]
    }
   ],
   "source": [
    "def twoSum(nums, target):\n",
    "    num_dict = {}  # Dictionary to store combinations of indices of two numbers which gives the target element/sum\n",
    "\n",
    "    for i, num in enumerate(nums):\n",
    "        complement = target - num\n",
    "        if complement in num_dict:\n",
    "            return [num_dict[complement], i]\n",
    "        num_dict[num] = i\n",
    "\n",
    "    # If no two elements sum up to give target element \n",
    "    return []\n",
    "\n",
    "# ---------------Main-------------------------------\n",
    "\n",
    "print(twoSum([2,7,11,15], 9))"
   ]
  },
  {
   "cell_type": "markdown",
   "id": "387c70b1-1ccb-4b99-9042-01abcca1c7dd",
   "metadata": {},
   "source": []
  },
  {
   "cell_type": "markdown",
   "id": "c8f302b1-c780-41a8-a58d-5a2da213bcbe",
   "metadata": {},
   "source": [
    "Q2) Given an integer array nums and an integer val, remove all occurrences of val in nums in-place. The order of the elements may be changed. Then return the number of elements in nums which are not equal to val.\n",
    "\n",
    "Consider the number of elements in nums which are not equal to val be k, to get accepted, you need to do the following things:\n",
    "\n",
    "- Change the array nums such that the first k elements of nums contain the elements which are not equal to val. The remaining elements of nums are not important as well as the size of nums.\n",
    "- Return k."
   ]
  },
  {
   "cell_type": "code",
   "execution_count": 3,
   "id": "6384280f-c67e-41ec-a63e-0a7958195024",
   "metadata": {
    "tags": []
   },
   "outputs": [
    {
     "name": "stdout",
     "output_type": "stream",
     "text": [
      "2\n"
     ]
    }
   ],
   "source": [
    "def removeElement(nums, val):\n",
    "    k = 0  # Pointer to keep track of the next position\n",
    "    for i in range(len(nums)):\n",
    "        if nums[i] != val:\n",
    "            nums[k] = nums[i]\n",
    "            k += 1\n",
    "    return k\n",
    "\n",
    "# ---------------Main-------------------------------\n",
    "\n",
    "print(removeElement([3,2,2,3], 3))"
   ]
  },
  {
   "cell_type": "code",
   "execution_count": null,
   "id": "7ea2c9fe-14be-4fde-ba39-f26a73d933d8",
   "metadata": {},
   "outputs": [],
   "source": []
  },
  {
   "cell_type": "markdown",
   "id": "f314dafd-e2ea-4662-bedc-056d4866ed7e",
   "metadata": {},
   "source": [
    "Q3) Given a sorted array of distinct integers and a target value, return the index if the target is found. If not, return the index where it would be if it were inserted in order.\n",
    "\n",
    "You must write an algorithm with O(log n) runtime complexity.\n"
   ]
  },
  {
   "cell_type": "code",
   "execution_count": 5,
   "id": "a73d9fc6-7613-4dd7-9c5a-acb903a0f3c1",
   "metadata": {
    "tags": []
   },
   "outputs": [
    {
     "name": "stdout",
     "output_type": "stream",
     "text": [
      "2\n"
     ]
    }
   ],
   "source": [
    "def searchInsert(nums, target):\n",
    "    left = 0\n",
    "    right = len(nums) - 1\n",
    "\n",
    "    while left <= right:\n",
    "        mid = left + (right - left) // 2\n",
    "\n",
    "        if nums[mid] == target:\n",
    "            return mid\n",
    "        elif nums[mid] < target:\n",
    "            left = mid + 1\n",
    "        else:\n",
    "            right = mid - 1\n",
    "\n",
    "    return left\n",
    "\n",
    "# ---------------Main-------------------------------\n",
    "\n",
    "print(searchInsert([1,3,5,6], 5))\n"
   ]
  },
  {
   "cell_type": "code",
   "execution_count": null,
   "id": "06960931-0c42-4f88-ab98-22853317654b",
   "metadata": {},
   "outputs": [],
   "source": []
  },
  {
   "cell_type": "markdown",
   "id": "d3c94149-aea9-47e1-80f9-efaf6fbdcae5",
   "metadata": {},
   "source": [
    "Q4) You are given a large integer represented as an integer array digits, where each digits[i] is the ith digit of the integer. The digits are ordered from most significant to least significant in left-to-right order. The large integer does not contain any leading 0's.\n",
    "Increment the large integer by one and return the resulting array of digits."
   ]
  },
  {
   "cell_type": "code",
   "execution_count": 6,
   "id": "a06a3968-9217-4f5b-b6dc-8537d71cfaef",
   "metadata": {
    "tags": []
   },
   "outputs": [
    {
     "name": "stdout",
     "output_type": "stream",
     "text": [
      "[1, 2, 4]\n"
     ]
    }
   ],
   "source": [
    "def addOne(digits):\n",
    "    n = len(digits)\n",
    "    digits[n - 1] += 1\n",
    "    carry = 0\n",
    "    for i in range(n - 1, -1, -1):\n",
    "        digits[i] += carry\n",
    "        carry = digits[i] // 10\n",
    "        digits[i] %= 10\n",
    "        \n",
    "    if carry:\n",
    "        digits.insert(0, carry)\n",
    "    \n",
    "    return digits\n",
    "\n",
    "# ---------------Main-------------------------------\n",
    "\n",
    "print(addOne([1,2,3]))"
   ]
  },
  {
   "cell_type": "code",
   "execution_count": null,
   "id": "2fc9c625-9d8c-4840-a9e4-57020a0042c0",
   "metadata": {},
   "outputs": [],
   "source": []
  },
  {
   "cell_type": "markdown",
   "id": "4786f849-a2ac-408c-85b7-38706fa47da9",
   "metadata": {},
   "source": [
    "Q5) You are given two integer arrays nums1 and nums2, sorted in non-decreasing order, and two integers m and n, representing the number of elements in nums1 and nums2 respectively. Merge nums1 and nums2 into a single array sorted in non-decreasing order.\n",
    "The final sorted array should not be returned by the function, but instead be stored inside the array nums1. To accommodate this, nums1 has a length of m + n, where the first m elements denote the elements that should be merged, and the last n elements are set to 0 and should be ignored. nums2 has a length of n.\n"
   ]
  },
  {
   "cell_type": "code",
   "execution_count": 12,
   "id": "33774a4b-daec-4593-afbc-4fbaa2f67761",
   "metadata": {
    "tags": []
   },
   "outputs": [
    {
     "name": "stdout",
     "output_type": "stream",
     "text": [
      "[1, 2, 2, 3, 5, 6]\n"
     ]
    }
   ],
   "source": [
    "def merge(nums1, m, nums2, n):\n",
    "    ptr1 = m - 1  # Pointer for nums1\n",
    "    ptr2 = n - 1  # Pointer for nums2\n",
    "    ptr3 = m + n - 1  # Pointer for merged array\n",
    "\n",
    "    while ptr1 >= 0 and ptr2 >= 0:\n",
    "        if nums1[ptr1] > nums2[ptr2]:\n",
    "            nums1[ptr3] = nums1[ptr1]\n",
    "            ptr1 -= 1\n",
    "        else:\n",
    "            nums1[ptr3] = nums2[ptr2]\n",
    "            ptr2 -= 1\n",
    "        ptr3 -= 1\n",
    "\n",
    "    # Copy any remaining elements from nums2 to nums1\n",
    "    while ptr2 >= 0:\n",
    "        nums1[ptr3] = nums2[ptr2]\n",
    "        ptr2 -= 1\n",
    "        ptr3 -= 1\n",
    "        \n",
    "\n",
    "# ---------------Main-------------------------------\n",
    "\n",
    "nums1 = [1,2,3,0,0,0]\n",
    "m = 3\n",
    "nums2 = [2,5,6]\n",
    "n = 3\n",
    "merge(nums1, m, nums2, n)\n",
    "print(nums1)\n",
    "        \n",
    "        "
   ]
  },
  {
   "cell_type": "code",
   "execution_count": null,
   "id": "8cb41491-2202-4fd2-aa8f-463328117141",
   "metadata": {},
   "outputs": [],
   "source": []
  },
  {
   "cell_type": "markdown",
   "id": "e85a1d9a-cc4f-4d50-9a44-141ae945d4f8",
   "metadata": {},
   "source": [
    "Q6) Given an integer array nums, return true if any value appears at least twice in the array, and return false if every element is distinct"
   ]
  },
  {
   "cell_type": "code",
   "execution_count": 8,
   "id": "15d14483-57dc-4a27-a03c-8e635e74c429",
   "metadata": {
    "tags": []
   },
   "outputs": [
    {
     "name": "stdout",
     "output_type": "stream",
     "text": [
      "True\n"
     ]
    }
   ],
   "source": [
    "def isDuplicate(nums):\n",
    "    num_set = set()\n",
    "    for num in nums:\n",
    "        if num in num_set:\n",
    "            return True\n",
    "        num_set.add(num)\n",
    "\n",
    "    return False\n",
    "\n",
    "# ---------------Main-------------------------------\n",
    "\n",
    "print(isDuplicate([1,2,3,1]))"
   ]
  },
  {
   "cell_type": "code",
   "execution_count": null,
   "id": "eb68a5da-971a-4348-bb3e-7aafab8adc8f",
   "metadata": {},
   "outputs": [],
   "source": []
  },
  {
   "cell_type": "markdown",
   "id": "e2f2c6e6-de38-47f2-98fa-510b53ea86bd",
   "metadata": {},
   "source": [
    "Q7) Given an integer array nums, move all 0's to the end of it while maintaining the relative order of the nonzero elements.\n",
    "Note that you must do this in-place without making a copy of the array"
   ]
  },
  {
   "cell_type": "code",
   "execution_count": 13,
   "id": "3659b5dd-814d-4a9d-b261-a7bb717993ff",
   "metadata": {
    "tags": []
   },
   "outputs": [
    {
     "name": "stdout",
     "output_type": "stream",
     "text": [
      "[1, 3, 12, 0, 0]\n"
     ]
    }
   ],
   "source": [
    "def moveZeroes(nums):\n",
    "    k = 0  \n",
    "    for i in range(len(nums)):\n",
    "        if nums[i] != 0:\n",
    "            nums[k] = nums[i]\n",
    "            k += 1\n",
    "    while k < len(nums):\n",
    "        nums[k] = 0\n",
    "        k += 1\n",
    "        \n",
    "# ---------------Main-------------------------------\n",
    "nums = [0,1,0,3,12]\n",
    "moveZeroes(nums)\n",
    "print(nums)"
   ]
  },
  {
   "cell_type": "code",
   "execution_count": null,
   "id": "4b60f5f2-e35e-4559-b550-46c5bd833fd5",
   "metadata": {},
   "outputs": [],
   "source": []
  },
  {
   "cell_type": "markdown",
   "id": "2546f754-7fb8-4b25-ba77-2c569bf56abe",
   "metadata": {},
   "source": [
    "Q8) You have a set of integers s, which originally contains all the numbers from 1 to n. Unfortunately, due to some error, one of the numbers in s got duplicated to another number in the set, which results in repetition of one number and loss of another number.\n",
    "You are given an integer array nums representing the data status of this set after the error.\n",
    "Find the number that occurs twice and the number that is missing and return them in the form of an array.\n"
   ]
  },
  {
   "cell_type": "code",
   "execution_count": 10,
   "id": "8ff2b308-54ae-45f9-bc7a-3700e0640a5c",
   "metadata": {
    "tags": []
   },
   "outputs": [
    {
     "name": "stdout",
     "output_type": "stream",
     "text": [
      "[2, 3]\n"
     ]
    }
   ],
   "source": [
    "def findErrorNums(nums):\n",
    "    n = len(nums)\n",
    "    num_set = set()\n",
    "    duplicate = -1\n",
    "    expected_sum = n * (n + 1) // 2\n",
    "    actual_sum = 0\n",
    "\n",
    "    for num in nums:\n",
    "        if num in num_set:\n",
    "            duplicate = num\n",
    "        num_set.add(num)\n",
    "        actual_sum += num\n",
    "\n",
    "    missing = expected_sum - actual_sum + duplicate\n",
    "\n",
    "    return [duplicate, missing]\n",
    "\n",
    "# ---------------Main-------------------------------\n",
    "\n",
    "print(findErrorNums([1,2,2,4]))"
   ]
  },
  {
   "cell_type": "code",
   "execution_count": null,
   "id": "59ce42a8-1e55-423a-8f3f-572c1db89596",
   "metadata": {},
   "outputs": [],
   "source": []
  }
 ],
 "metadata": {
  "kernelspec": {
   "display_name": "Python 3 (ipykernel)",
   "language": "python",
   "name": "python3"
  },
  "language_info": {
   "codemirror_mode": {
    "name": "ipython",
    "version": 3
   },
   "file_extension": ".py",
   "mimetype": "text/x-python",
   "name": "python",
   "nbconvert_exporter": "python",
   "pygments_lexer": "ipython3",
   "version": "3.10.5"
  }
 },
 "nbformat": 4,
 "nbformat_minor": 5
}
