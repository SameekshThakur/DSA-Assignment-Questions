{
 "cells": [
  {
   "cell_type": "markdown",
   "id": "aa40cb81-e7ca-4c92-a9cd-1924274fc383",
   "metadata": {},
   "source": [
    "## Assignment-4 (DSA)"
   ]
  },
  {
   "cell_type": "markdown",
   "id": "94c1eb68-f454-4803-963d-135ec8aa773d",
   "metadata": {},
   "source": [
    "Q1) Given three integer arrays arr1, arr2 and arr3 sorted in strictly increasing order, return a sorted array of only the integers that appeared in all three arrays.\n"
   ]
  },
  {
   "cell_type": "code",
   "execution_count": 4,
   "id": "e46f5430-0e5c-4421-b40f-10a9bf201a82",
   "metadata": {},
   "outputs": [
    {
     "name": "stdout",
     "output_type": "stream",
     "text": [
      "[1, 5]\n"
     ]
    }
   ],
   "source": [
    "def FindCommonElements(arr1, arr2, arr3):\n",
    "    result = []\n",
    "    i = j = k = 0\n",
    "    \n",
    "    while i < len(arr1) and j < len(arr2) and k < len(arr3):\n",
    "        if arr1[i] == arr2[j] == arr3[k]:\n",
    "            result.append(arr1[i])\n",
    "            i += 1\n",
    "            j += 1\n",
    "            k += 1\n",
    "        elif arr1[i] < arr2[j]:\n",
    "            i += 1\n",
    "        elif arr2[j] < arr3[k]:\n",
    "            j += 1\n",
    "        else:\n",
    "            k += 1\n",
    "    \n",
    "    return result\n",
    "\n",
    "#----------Main---------------------\n",
    "lst1 = [1,2,3,4,5]\n",
    "lst2 = [1,2,5,7,9]\n",
    "lst3 = [1,3,4,5,8]\n",
    "print(FindCommonElements(lst1, lst2, lst3))\n",
    "\n"
   ]
  },
  {
   "cell_type": "code",
   "execution_count": null,
   "id": "fec3d1c2-a6b2-4732-9fdd-7e5e7f770ef8",
   "metadata": {},
   "outputs": [],
   "source": []
  },
  {
   "cell_type": "markdown",
   "id": "b4526966-ed43-419b-981d-7de84869570b",
   "metadata": {},
   "source": [
    "Q2) Given two **0-indexed** integer arrays nums1 and nums2, return *a list* answer *of size* 2 *where:*\n",
    "\n",
    "- answer[0] *is a list of all **distinct** integers in* nums1 *which are **not** present in* nums2*.*\n",
    "- answer[1] *is a list of all **distinct** integers in* nums2 *which are **not** present in* nums1.\n",
    "\n",
    "**Note** that the integers in the lists may be returned in **any** order."
   ]
  },
  {
   "cell_type": "code",
   "execution_count": 5,
   "id": "333dd412-b0b1-4908-a173-c231a84e1bfb",
   "metadata": {},
   "outputs": [
    {
     "name": "stdout",
     "output_type": "stream",
     "text": [
      "[[1, 3], [4, 6]]\n"
     ]
    }
   ],
   "source": [
    "def FindDisjointElements(nums1, nums2):\n",
    "    set1 = set(nums1)\n",
    "    set2 = set(nums2)\n",
    "    \n",
    "    distinct_nums1 = [num for num in set1 if num not in set2]\n",
    "    distinct_nums2 = [num for num in set2 if num not in set1]\n",
    "    \n",
    "    return [distinct_nums1, distinct_nums2]\n",
    "\n",
    "#--------------Main------------------\n",
    "nums1 = [1,2,3]\n",
    "nums2 = [2,4,6]\n",
    "print(FindDisjointElements(nums1, nums2))\n"
   ]
  },
  {
   "cell_type": "code",
   "execution_count": null,
   "id": "3a5b985e-5c9e-4470-899b-e041cc4f462d",
   "metadata": {},
   "outputs": [],
   "source": []
  },
  {
   "cell_type": "markdown",
   "id": "ea759032-1544-4bec-89b6-f969c6260708",
   "metadata": {},
   "source": [
    "Q3) Given a 2D integer array matrix, return *the **transpose** of* matrix.\n",
    "\n",
    "The **transpose** of a matrix is the matrix flipped over its main diagonal, switching the matrix's row and column indices.\n",
    "\n"
   ]
  },
  {
   "cell_type": "code",
   "execution_count": 6,
   "id": "a8e310ea-256e-44a0-85c8-33b214f48866",
   "metadata": {},
   "outputs": [
    {
     "name": "stdout",
     "output_type": "stream",
     "text": [
      "[1, 4, 7]\n",
      "[2, 5, 8]\n",
      "[3, 6, 9]\n"
     ]
    }
   ],
   "source": [
    "def transpose(matrix):\n",
    "    rows = len(matrix)\n",
    "    cols = len(matrix[0])\n",
    "    \n",
    "    # Create a new matrix with swapped dimensions\n",
    "    transposed = [[0 for _ in range(rows)] for _ in range(cols)]\n",
    "    \n",
    "    # Iterate over the original matrix and swap values\n",
    "    for i in range(rows):\n",
    "        for j in range(cols):\n",
    "            transposed[j][i] = matrix[i][j]\n",
    "    \n",
    "    return transposed\n",
    "\n",
    "#------------Main-------------------\n",
    "matrix = [\n",
    "    [1, 2, 3],\n",
    "    [4, 5, 6],\n",
    "    [7, 8, 9]\n",
    "]\n",
    "\n",
    "transposed_matrix = transpose(matrix)\n",
    "for row in transposed_matrix:\n",
    "    print(row)\n"
   ]
  },
  {
   "cell_type": "code",
   "execution_count": null,
   "id": "f0d20d46-7003-4daf-9554-517fa94a5999",
   "metadata": {},
   "outputs": [],
   "source": []
  },
  {
   "cell_type": "markdown",
   "id": "69383836-6643-4f72-8372-7c8f04d4a0d6",
   "metadata": {},
   "source": [
    "Q4) Given an integer array nums of 2n integers, group these integers into n pairs (a1, b1), (a2, b2), ..., (an, bn) such that the sum of min(ai, bi) for all i is **maximized**. Return *the maximized sum*."
   ]
  },
  {
   "cell_type": "code",
   "execution_count": 8,
   "id": "3f53c0a1-7089-42d1-8446-7fafc76bbd87",
   "metadata": {},
   "outputs": [
    {
     "name": "stdout",
     "output_type": "stream",
     "text": [
      "4\n"
     ]
    }
   ],
   "source": [
    "def ArrayPairSum(nums):\n",
    "    nums.sort()  \n",
    "    n = len(nums)\n",
    "    max_sum = 0\n",
    "    \n",
    "    for i in range(0, n, 2):\n",
    "        max_sum += nums[i]\n",
    "    \n",
    "    return max_sum\n",
    "\n",
    "#--------------Main--------------\n",
    "nums = [1, 4, 3, 2]\n",
    "maximized_sum = ArrayPairSum(nums)\n",
    "print(maximized_sum)\n",
    "\n"
   ]
  },
  {
   "cell_type": "code",
   "execution_count": null,
   "id": "d53e6470-828d-4a08-978e-f1ff40e8b863",
   "metadata": {},
   "outputs": [],
   "source": []
  },
  {
   "cell_type": "markdown",
   "id": "4c02fc71-c253-4ed5-80e2-3c78f07d7c97",
   "metadata": {},
   "source": [
    "Q5)\n",
    "You have n coins and you want to build a staircase with these coins. The staircase consists of k rows where the ith row has exactly i coins. The last row of the staircase **may be** incomplete.\n",
    "\n",
    "Given the integer n, return *the number of **complete rows** of the staircase you will build*.\n"
   ]
  },
  {
   "cell_type": "code",
   "execution_count": 9,
   "id": "1c411920-58e4-444b-ac7c-c38019462300",
   "metadata": {},
   "outputs": [
    {
     "name": "stdout",
     "output_type": "stream",
     "text": [
      "3\n"
     ]
    }
   ],
   "source": [
    "def ArrangeCoins(n):\n",
    "    left, right = 0, n\n",
    "    \n",
    "    while left <= right:\n",
    "        k = (left + right) // 2\n",
    "        curr = k * (k + 1) // 2\n",
    "        \n",
    "        if curr == n:\n",
    "            return k\n",
    "        elif curr < n:\n",
    "            left = k + 1\n",
    "        else:\n",
    "            right = k - 1\n",
    "    \n",
    "    return right\n",
    "\n",
    "#------------Main----------------\n",
    "num = 8\n",
    "cmplt_rows = ArrangeCoins(num)\n",
    "print(cmplt_rows)\n",
    "\n"
   ]
  },
  {
   "cell_type": "code",
   "execution_count": null,
   "id": "6b0fa18b-d4c9-43c9-9e2a-180dade247f3",
   "metadata": {},
   "outputs": [],
   "source": []
  },
  {
   "cell_type": "markdown",
   "id": "90f5f7ae-7565-4a85-a634-9195a72fe2b3",
   "metadata": {},
   "source": [
    "Q6) Given an integer array nums sorted in non-decreasing order, return an array of the squares of each number sorted in non-decreasing order"
   ]
  },
  {
   "cell_type": "code",
   "execution_count": 10,
   "id": "c3504fd5-5da1-487e-9ee5-eae1878fa1cf",
   "metadata": {},
   "outputs": [
    {
     "name": "stdout",
     "output_type": "stream",
     "text": [
      "[0, 1, 9, 16, 100]\n"
     ]
    }
   ],
   "source": [
    "def SortedSquares(nums):\n",
    "    squared_nums = [num ** 2 for num in nums]\n",
    "    squared_nums.sort()\n",
    "    return squared_nums\n",
    "\n",
    "#---------Main---------------\n",
    "nums = [-4, -1, 0, 3, 10]\n",
    "squaredNums = SortedSquares(nums)\n",
    "print(squaredNums)\n"
   ]
  },
  {
   "cell_type": "code",
   "execution_count": null,
   "id": "9239f524-048f-4414-8e11-8d7696000aac",
   "metadata": {},
   "outputs": [],
   "source": []
  },
  {
   "cell_type": "markdown",
   "id": "1df77a1f-f74e-4566-a83f-d671c4635186",
   "metadata": {},
   "source": [
    "\n",
    "Q7) You are given an m x n matrix M initialized with all 0's and an array of operations ops, where ops[i] = [ai, bi] means M[x][y] should be incremented by one for all 0 <= x < ai and 0 <= y < bi.\n",
    "\n",
    "Count and return *the number of maximum integers in the matrix after performing all the operations*\n"
   ]
  },
  {
   "cell_type": "code",
   "execution_count": 14,
   "id": "56148dfd-fc93-4cfd-b595-74eef5627318",
   "metadata": {},
   "outputs": [
    {
     "name": "stdout",
     "output_type": "stream",
     "text": [
      "4\n"
     ]
    }
   ],
   "source": [
    "def MaxCount(m, n, ops):\n",
    "    min_row = m\n",
    "    min_col = n\n",
    "    \n",
    "    for op in ops:\n",
    "        min_row = min(min_row, op[0])\n",
    "        min_col = min(min_col, op[1])\n",
    "    \n",
    "    return min_row * min_col\n",
    "\n",
    "#------------Main----------------\n",
    "m = 3\n",
    "n = 3\n",
    "ops = [[2,2],[3,3]]\n",
    "print(MaxCount(m, n, ops))\n",
    "\n"
   ]
  },
  {
   "cell_type": "code",
   "execution_count": null,
   "id": "f1fa1526-7094-4795-987c-74d97fd92160",
   "metadata": {},
   "outputs": [],
   "source": []
  },
  {
   "cell_type": "markdown",
   "id": "a0ab17b8-91f9-4887-bcf2-11d669605e21",
   "metadata": {},
   "source": [
    "Q8) Given the array nums consisting of 2n elements in the form [x1,x2,...,xn,y1,y2,...,yn].\n",
    "\n",
    "*Return the array in the form* [x1,y1,x2,y2,...,xn,yn]."
   ]
  },
  {
   "cell_type": "code",
   "execution_count": 15,
   "id": "e485d4db-dccd-4ae7-95a0-4e05f16f2dfd",
   "metadata": {},
   "outputs": [
    {
     "name": "stdout",
     "output_type": "stream",
     "text": [
      "[1, 4, 2, 5, 3, 6]\n"
     ]
    }
   ],
   "source": [
    "def RearrangeArray(nums):\n",
    "    n = len(nums) // 2\n",
    "    rearranged = []\n",
    "    \n",
    "    for i in range(n):\n",
    "        rearranged.append(nums[i])\n",
    "        rearranged.append(nums[i+n])\n",
    "    \n",
    "    return rearranged\n",
    "\n",
    "#------------Main---------------\n",
    "nums = [1, 2, 3, 4, 5, 6]\n",
    "rearranged_nums = RearrangeArray(nums)\n",
    "print(rearranged_nums)\n"
   ]
  },
  {
   "cell_type": "code",
   "execution_count": null,
   "id": "5ffe4585-bfea-410c-ba5c-fc9a1c081b85",
   "metadata": {},
   "outputs": [],
   "source": []
  }
 ],
 "metadata": {
  "kernelspec": {
   "display_name": "Python 3 (ipykernel)",
   "language": "python",
   "name": "python3"
  },
  "language_info": {
   "codemirror_mode": {
    "name": "ipython",
    "version": 3
   },
   "file_extension": ".py",
   "mimetype": "text/x-python",
   "name": "python",
   "nbconvert_exporter": "python",
   "pygments_lexer": "ipython3",
   "version": "3.9.13"
  }
 },
 "nbformat": 4,
 "nbformat_minor": 5
}
