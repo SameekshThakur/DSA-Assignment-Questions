{
 "cells": [
  {
   "cell_type": "markdown",
   "id": "a62dea16-b197-453b-99a4-b5f5af91b64c",
   "metadata": {},
   "source": [
    "## Assignment - 10"
   ]
  },
  {
   "cell_type": "code",
   "execution_count": null,
   "id": "127b6e6d-941c-4ac4-bbc8-152f672581c8",
   "metadata": {},
   "outputs": [],
   "source": []
  },
  {
   "cell_type": "markdown",
   "id": "c02f37f6-e6a0-406f-b2c1-8abf38dffcd4",
   "metadata": {},
   "source": [
    "Q1) Given a non-negative integer x, return the square root of x rounded down to the nearest integer. The returned integer should be non-negative as well."
   ]
  },
  {
   "cell_type": "code",
   "execution_count": 1,
   "id": "624209a7-bd44-4d7f-b75e-4909a67ee7c9",
   "metadata": {},
   "outputs": [
    {
     "name": "stdout",
     "output_type": "stream",
     "text": [
      "2\n"
     ]
    }
   ],
   "source": [
    "import math\n",
    "def SquareRoot(num):\n",
    "    return math.isqrt(num)\n",
    "\n",
    "#------------Main---------\n",
    "num = 4\n",
    "print(SquareRoot(num))\n"
   ]
  },
  {
   "cell_type": "code",
   "execution_count": null,
   "id": "732e474b-649c-4851-acfc-e0c4a588d0d8",
   "metadata": {},
   "outputs": [],
   "source": []
  },
  {
   "cell_type": "markdown",
   "id": "49f8ed1e-5c52-4ff7-9cfe-bb1984cbcd68",
   "metadata": {},
   "source": [
    "Q2) A peak element is an element that is strictly greater than its neighbors.\n",
    "\n",
    "Given a **0-indexed** integer array `nums`, find a peak element, and return its index. If the array contains multiple peaks, return the index to **any of the peaks**.\n",
    "\n",
    "You may imagine that `nums[-1] = nums[n] = -∞`. In other words, an element is always considered to be strictly greater than a neighbor that is outside the array.\n",
    "\n",
    "You must write an algorithm that runs in `O(log n)` time."
   ]
  },
  {
   "cell_type": "code",
   "execution_count": 2,
   "id": "5c55ff15-3486-4ab4-8c96-59cf9daa84f5",
   "metadata": {},
   "outputs": [
    {
     "name": "stdout",
     "output_type": "stream",
     "text": [
      "2\n"
     ]
    }
   ],
   "source": [
    "def FindPeakElement(nums):\n",
    "    left_ptr = 0\n",
    "    right_ptr = len(nums) - 1\n",
    "\n",
    "    while left_ptr < right_ptr:\n",
    "        mid = left_ptr + (right_ptr - left_ptr) // 2\n",
    "\n",
    "        if nums[mid] > nums[mid + 1]:\n",
    "            right_ptr = mid\n",
    "        else:\n",
    "            left_ptr = mid + 1\n",
    "\n",
    "    return left_ptr\n",
    "\n",
    "#-------------Main-----------------\n",
    "nums = [1, 2, 3, 1]\n",
    "print(FindPeakElement(nums))\n"
   ]
  },
  {
   "cell_type": "code",
   "execution_count": null,
   "id": "181f3daf-7d30-4e8b-b081-485c6f58f559",
   "metadata": {},
   "outputs": [],
   "source": []
  },
  {
   "cell_type": "markdown",
   "id": "d15aff1e-233d-4523-ab07-d6d437e1dbbe",
   "metadata": {},
   "source": [
    "Q3) Given an array nums containing n distinct numbers in the range [0, n], return the only number in the range that is missing from the array."
   ]
  },
  {
   "cell_type": "code",
   "execution_count": 3,
   "id": "7d9ebb67-da3a-4ad3-9ec2-0f36b56394f4",
   "metadata": {},
   "outputs": [
    {
     "name": "stdout",
     "output_type": "stream",
     "text": [
      "2\n"
     ]
    }
   ],
   "source": [
    "def MissingNumber(nums):\n",
    "    missing_num = len(nums)\n",
    "\n",
    "    for i, num in enumerate(nums):\n",
    "        missing_num ^= i ^ num\n",
    "\n",
    "    return missing_num\n",
    "\n",
    "#----------Main-------------\n",
    "nums = [3, 0, 1]\n",
    "print(MissingNumber(nums))"
   ]
  },
  {
   "cell_type": "code",
   "execution_count": null,
   "id": "cc85689c-f0ca-474b-ba5c-6b2c733f9795",
   "metadata": {},
   "outputs": [],
   "source": []
  },
  {
   "cell_type": "markdown",
   "id": "b78b976e-c203-4730-96b0-321f5c92690d",
   "metadata": {},
   "source": [
    "Q4) Given an array of integers `nums` containing `n + 1` integers where each integer is in the range `[1, n]` inclusive.\n",
    "\n",
    "There is only **one repeated number** in `nums`, return *this repeated number*.\n",
    "\n",
    "You must solve the problem **without** modifying the array `nums` and uses only constant extra space."
   ]
  },
  {
   "cell_type": "code",
   "execution_count": 4,
   "id": "14d04263-f2b0-41ba-a961-f89f1b347e26",
   "metadata": {},
   "outputs": [
    {
     "name": "stdout",
     "output_type": "stream",
     "text": [
      "2\n"
     ]
    }
   ],
   "source": [
    "def FindDuplicate(nums):\n",
    "    slow = nums[0]\n",
    "    fast = nums[0]\n",
    "\n",
    "    while True:\n",
    "        slow = nums[slow]\n",
    "        fast = nums[nums[fast]]\n",
    "        if slow == fast:\n",
    "            break\n",
    "\n",
    "    slow = nums[0]\n",
    "    while slow != fast:\n",
    "        slow = nums[slow]\n",
    "        fast = nums[fast]\n",
    "\n",
    "    return slow\n",
    "\n",
    "#----------Main------------\n",
    "nums = [1, 3, 4, 2, 2]\n",
    "print(FindDuplicate(nums))\n"
   ]
  },
  {
   "cell_type": "code",
   "execution_count": null,
   "id": "4d2765ef-7ac3-4fba-a559-571208af7237",
   "metadata": {},
   "outputs": [],
   "source": []
  },
  {
   "cell_type": "markdown",
   "id": "a9e7ce75-fc66-4852-bc47-be6f7454fc20",
   "metadata": {},
   "source": [
    "Q5) Given two integer arrays nums1 and nums2, return an array of their intersection. Each element in the result must be unique and you may return the result in any order"
   ]
  },
  {
   "cell_type": "code",
   "execution_count": 5,
   "id": "5dab5697-95f3-4196-a2fb-afe1383eefb1",
   "metadata": {},
   "outputs": [
    {
     "name": "stdout",
     "output_type": "stream",
     "text": [
      "[2]\n"
     ]
    }
   ],
   "source": [
    "def Intersection(nums_1, nums_2):\n",
    "    set_1 = set(nums_1)\n",
    "    set_2 = set(nums_2)\n",
    "    return list(set_1.intersection(set_2))\n",
    "\n",
    "#----------------Main---------------\n",
    "nums_1 = [1,2,2,1]\n",
    "nums_2 = [2,2]\n",
    "print(Intersection(nums_1, nums_2))\n"
   ]
  },
  {
   "cell_type": "code",
   "execution_count": null,
   "id": "2a02c36b-71e8-4fa3-beaa-c1a4be1074fa",
   "metadata": {},
   "outputs": [],
   "source": []
  },
  {
   "cell_type": "markdown",
   "id": "1f653ca3-2337-42b5-a541-65981bba54bb",
   "metadata": {},
   "source": [
    "Q6) Suppose an array of length `n` sorted in ascending order is **rotated** between `1` and `n` times. For example, the array `nums = [0,1,2,4,5,6,7]` might become:\n",
    "\n",
    "- `[4,5,6,7,0,1,2]` if it was rotated `4` times.\n",
    "- `[0,1,2,4,5,6,7]` if it was rotated `7` times.\n",
    "\n",
    "Notice that **rotating** an array `[a[0], a[1], a[2], ..., a[n-1]]` 1 time results in the array `[a[n-1], a[0], a[1], a[2], ..., a[n-2]]`.\n",
    "\n",
    "Given the sorted rotated array `nums` of **unique** elements, return *the minimum element of this array*.\n",
    "\n",
    "You must write an algorithm that runs in `O(log n) time`"
   ]
  },
  {
   "cell_type": "code",
   "execution_count": 7,
   "id": "9c12baf2-bbaa-4eff-8f54-c9bd1b4e753f",
   "metadata": {},
   "outputs": [
    {
     "name": "stdout",
     "output_type": "stream",
     "text": [
      "1\n"
     ]
    }
   ],
   "source": [
    "def FindMin(nums):\n",
    "    left_ptr = 0\n",
    "    right_ptr = len(nums) - 1\n",
    "\n",
    "    while left_ptr < right_ptr:\n",
    "        mid = left_ptr + (right_ptr - left_ptr) // 2\n",
    "\n",
    "        if nums[mid] > nums[right_ptr]:\n",
    "            left_ptr = mid + 1\n",
    "        else:\n",
    "            right_ptr = mid\n",
    "\n",
    "    return nums[left_ptr]\n",
    "\n",
    "#-----------------Main--------------\n",
    "nums = [3, 4, 5, 1, 2]\n",
    "print(FindMin(nums))\n"
   ]
  },
  {
   "cell_type": "code",
   "execution_count": null,
   "id": "7708ca5a-5924-45d1-8924-920e40eb873c",
   "metadata": {},
   "outputs": [],
   "source": []
  },
  {
   "cell_type": "code",
   "execution_count": null,
   "id": "36121171-afd1-45fc-8883-ebc967a4ac6a",
   "metadata": {},
   "outputs": [],
   "source": [
    "Q7) "
   ]
  },
  {
   "cell_type": "code",
   "execution_count": 9,
   "id": "5ea55d51-0591-4d93-9af8-22af4b84e022",
   "metadata": {},
   "outputs": [
    {
     "name": "stdout",
     "output_type": "stream",
     "text": [
      "[-1, -1]\n"
     ]
    }
   ],
   "source": [
    "def SearchRange(nums, target):\n",
    "    left = FindLeftPosition(nums, target)\n",
    "    right = FindRightPosition(nums, target)\n",
    "    return [left, right]\n",
    "\n",
    "def FindLeftPosition(nums, target):\n",
    "    left = 0\n",
    "    right = len(nums) - 1\n",
    "    position = -1\n",
    "\n",
    "    while left <= right:\n",
    "        mid = left + (right - left) // 2\n",
    "\n",
    "        if nums[mid] >= target:\n",
    "            right = mid - 1\n",
    "        else:\n",
    "            left = mid + 1\n",
    "\n",
    "        if nums[mid] == target:\n",
    "            position = mid\n",
    "\n",
    "    return position\n",
    "\n",
    "def FindRightPosition(nums, target):\n",
    "    left = 0\n",
    "    right = len(nums) - 1\n",
    "    position = -1\n",
    "\n",
    "    while left <= right:\n",
    "        mid = left + (right - left) // 2\n",
    "\n",
    "        if nums[mid] <= target:\n",
    "            left = mid + 1\n",
    "        else:\n",
    "            right = mid - 1\n",
    "\n",
    "        if nums[mid] == target:\n",
    "            position = mid\n",
    "\n",
    "    return position\n",
    "\n",
    "#---------------Main------------------\n",
    "\n",
    "nums = [5,7,7,8,8,10]\n",
    "target = 6\n",
    "print(SearchRange(nums, target))\n"
   ]
  },
  {
   "cell_type": "code",
   "execution_count": null,
   "id": "96eb2bb3-d194-4440-8f01-e461ad104006",
   "metadata": {},
   "outputs": [],
   "source": []
  },
  {
   "cell_type": "markdown",
   "id": "f6ed0663-4419-4b33-aa46-10c056a07bef",
   "metadata": {},
   "source": [
    "Q8) Given two integer arrays nums1 and nums2, return an array of their intersection. Each element in the result must appear as many times as it shows in both arrays and you may return the result in any order."
   ]
  },
  {
   "cell_type": "code",
   "execution_count": 10,
   "id": "d6e07a04-8e69-4d73-a406-45df7c97aa77",
   "metadata": {},
   "outputs": [
    {
     "name": "stdout",
     "output_type": "stream",
     "text": [
      "[2, 2]\n"
     ]
    }
   ],
   "source": [
    "def Intersect(nums1, nums2):\n",
    "    freq1 = {}\n",
    "    intersection = []\n",
    "\n",
    "    for num in nums1:\n",
    "        freq1[num] = freq1.get(num, 0) + 1\n",
    "\n",
    "    for num in nums2:\n",
    "        if num in freq1 and freq1[num] > 0:\n",
    "            intersection.append(num)\n",
    "            freq1[num] -= 1\n",
    "\n",
    "    return intersection\n",
    "\n",
    "#-------------Main------------------\n",
    "nums1 = [1,2,2,1]\n",
    "nums2 = [2,2]\n",
    "print(Intersect(nums1, nums2))\n"
   ]
  },
  {
   "cell_type": "code",
   "execution_count": null,
   "id": "9d009e68-e100-4802-8e42-c822e7a9d02f",
   "metadata": {},
   "outputs": [],
   "source": []
  }
 ],
 "metadata": {
  "kernelspec": {
   "display_name": "Python 3 (ipykernel)",
   "language": "python",
   "name": "python3"
  },
  "language_info": {
   "codemirror_mode": {
    "name": "ipython",
    "version": 3
   },
   "file_extension": ".py",
   "mimetype": "text/x-python",
   "name": "python",
   "nbconvert_exporter": "python",
   "pygments_lexer": "ipython3",
   "version": "3.10.5"
  }
 },
 "nbformat": 4,
 "nbformat_minor": 5
}
