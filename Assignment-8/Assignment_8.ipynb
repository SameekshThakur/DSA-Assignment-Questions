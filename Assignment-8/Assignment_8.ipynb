{
 "cells": [
  {
   "cell_type": "markdown",
   "id": "e7eff0e0-2e8f-479c-89b1-3e3e355b58ee",
   "metadata": {},
   "source": [
    "## Assignment - 8"
   ]
  },
  {
   "cell_type": "code",
   "execution_count": null,
   "id": "62ef6967-30bb-4f3f-a792-916ae53ac0a0",
   "metadata": {},
   "outputs": [],
   "source": []
  },
  {
   "cell_type": "markdown",
   "id": "e9275ecd-61a5-4181-b525-158f1bc0313d",
   "metadata": {},
   "source": [
    "Q1) Given two strings s1 and s2, return the lowest ASCII sum of deleted characters to make two strings equal."
   ]
  },
  {
   "cell_type": "code",
   "execution_count": 2,
   "id": "19fb4380-4c5c-443a-84fc-f5f9be143813",
   "metadata": {
    "tags": []
   },
   "outputs": [
    {
     "name": "stdout",
     "output_type": "stream",
     "text": [
      "231\n"
     ]
    }
   ],
   "source": [
    "def MinimumDeleteSum(s1, s2):\n",
    "    m = len(s1)\n",
    "    n = len(s2)\n",
    "    dp = [[0] * (n+1) for _ in range(m+1)]\n",
    "\n",
    "    for i in range(1, m+1):\n",
    "        dp[i][0] = dp[i-1][0] + ord(s1[i-1])\n",
    "\n",
    "    for j in range(1, n+1):\n",
    "        dp[0][j] = dp[0][j-1] + ord(s2[j-1])\n",
    "\n",
    "    for i in range(1, m+1):\n",
    "        for j in range(1, n+1):\n",
    "            if s1[i-1] == s2[j-1]:\n",
    "                dp[i][j] = dp[i-1][j-1]\n",
    "            else:\n",
    "                dp[i][j] = min(dp[i-1][j] + ord(s1[i-1]), dp[i][j-1] + ord(s2[j-1]))\n",
    "\n",
    "    return dp[m][n]\n",
    "\n",
    "#-----------Main-----------------\n",
    "s1 = \"sea\"\n",
    "s2 = \"eat\"\n",
    "print(MinimumDeleteSum(s1, s2))"
   ]
  },
  {
   "cell_type": "code",
   "execution_count": null,
   "id": "742348ef-ac39-43ce-8cef-ea252adfcc65",
   "metadata": {},
   "outputs": [],
   "source": []
  },
  {
   "cell_type": "markdown",
   "id": "319eb784-a1fa-44b2-a82d-519afd263b49",
   "metadata": {},
   "source": [
    "Q2) Given a string s containing only three types of characters: '(', ')' and '*', return true if s is valid."
   ]
  },
  {
   "cell_type": "code",
   "execution_count": 3,
   "id": "be71cfee-ba48-4f9e-8eb8-7b04e8ff8d82",
   "metadata": {
    "tags": []
   },
   "outputs": [
    {
     "name": "stdout",
     "output_type": "stream",
     "text": [
      "True\n"
     ]
    }
   ],
   "source": [
    "def IsValid(s):\n",
    "    stack = []\n",
    "\n",
    "    for c in s:\n",
    "        if c == '(' or c == '*':\n",
    "            stack.append(c)\n",
    "        elif c == ')':\n",
    "            if stack and stack[-1] == '(':\n",
    "                stack.pop()\n",
    "            elif stack and stack[-1] == '*':\n",
    "                stack.pop()\n",
    "            else:\n",
    "                return False\n",
    "\n",
    "    while stack:\n",
    "        if stack[-1] == '(':\n",
    "            return False\n",
    "        stack.pop()\n",
    "\n",
    "    return True\n",
    "\n",
    "#--------------------Main----------------\n",
    "s = \"()\"\n",
    "print(IsValid(s))\n"
   ]
  },
  {
   "cell_type": "code",
   "execution_count": null,
   "id": "fae4750d-9db2-41da-af60-9533410d849f",
   "metadata": {},
   "outputs": [],
   "source": []
  },
  {
   "cell_type": "markdown",
   "id": "1e36ef98-51bb-44d9-9666-66f7827ed61f",
   "metadata": {},
   "source": [
    "Q3) Given two strings word1 and word2, return *the minimum number of **steps** required to make* word1 *and* word2 *the same*.\n",
    "\n",
    "In one **step**, you can delete exactly one character in either string."
   ]
  },
  {
   "cell_type": "code",
   "execution_count": 4,
   "id": "c2e7a8a1-8755-4fec-a57e-57ede12fb5a3",
   "metadata": {
    "tags": []
   },
   "outputs": [
    {
     "name": "stdout",
     "output_type": "stream",
     "text": [
      "2\n"
     ]
    }
   ],
   "source": [
    "def MinSteps(word1, word2):\n",
    "    m = len(word1)\n",
    "    n = len(word2)\n",
    "    dp = [[0] * (n+1) for _ in range(m+1)]\n",
    "\n",
    "    for i in range(m+1):\n",
    "        dp[i][0] = i\n",
    "\n",
    "    for j in range(n+1):\n",
    "        dp[0][j] = j\n",
    "\n",
    "    for i in range(1, m+1):\n",
    "        for j in range(1, n+1):\n",
    "            if word1[i-1] == word2[j-1]:\n",
    "                dp[i][j] = dp[i-1][j-1]\n",
    "            else:\n",
    "                dp[i][j] = min(dp[i-1][j], dp[i][j-1]) + 1\n",
    "\n",
    "    return dp[m][n]\n",
    "\n",
    "#--------------------Main----------------------\n",
    "word1 = \"sea\"\n",
    "word2 = \"eat\"\n",
    "print(MinSteps(word1, word2))\n"
   ]
  },
  {
   "cell_type": "code",
   "execution_count": null,
   "id": "c6aa111a-50a5-4395-a176-5c5f8754b689",
   "metadata": {},
   "outputs": [],
   "source": []
  },
  {
   "cell_type": "markdown",
   "id": "4eaa3b0a-0ef6-4bf5-966e-642b86ed4198",
   "metadata": {},
   "source": [
    "Q4)You need to construct a binary tree from a string consisting of parenthesis and integers.\n",
    "\n",
    "The whole input represents a binary tree. It contains an integer followed by zero, one or two pairs of parenthesis. The integer represents the root's value and a pair of parenthesis contains a child binary tree with the same structure.\n",
    "You always start to construct the **left** child node of the parent first if it exists."
   ]
  },
  {
   "cell_type": "code",
   "execution_count": null,
   "id": "c957a445-7584-4a80-980f-d4122b9b3ef1",
   "metadata": {},
   "outputs": [],
   "source": []
  },
  {
   "cell_type": "code",
   "execution_count": null,
   "id": "4d8dc9cf-c66f-4924-bd5e-64a26b37eed1",
   "metadata": {},
   "outputs": [],
   "source": []
  },
  {
   "cell_type": "markdown",
   "id": "f8d65b37-fc70-4f01-aa0a-ba51725bf0c8",
   "metadata": {},
   "source": [
    "Q5) Given an array of characters chars, compress it using the following algorithm:\n",
    "\n",
    "Begin with an empty string s. For each group of **consecutive repeating characters** in chars:\n",
    "\n",
    "- If the group's length is 1, append the character to s.\n",
    "- Otherwise, append the character followed by the group's length.\n",
    "\n",
    "The compressed string s **should not be returned separately**, but instead, be stored **in the input character array chars**. Note that group lengths that are 10 or longer will be split into multiple characters in chars.\n",
    "\n",
    "After you are done **modifying the input array,** return *the new length of the array*.\n",
    "\n",
    "You must write an algorithm that uses only constant extra space."
   ]
  },
  {
   "cell_type": "code",
   "execution_count": null,
   "id": "d7ecd9e0-4cd7-46fe-9951-5ae16af2284f",
   "metadata": {},
   "outputs": [],
   "source": []
  },
  {
   "cell_type": "markdown",
   "id": "4c09523d-dbf3-43b1-a387-43ed34ce99d7",
   "metadata": {},
   "source": [
    "Q6) Given two strings s and p, return *an array of all the start indices of* p*'s anagrams in* s. You may return the answer in **any order**.\n",
    "\n",
    "An **Anagram** is a word or phrase formed by rearranging the letters of a different word or phrase, typically using all the original letters exactly once."
   ]
  },
  {
   "cell_type": "code",
   "execution_count": 5,
   "id": "d3431994-0ec7-4ef9-8fd1-d6e0e44643be",
   "metadata": {
    "tags": []
   },
   "outputs": [
    {
     "name": "stdout",
     "output_type": "stream",
     "text": [
      "[0, 6]\n"
     ]
    }
   ],
   "source": [
    "def FindAnagrams(s, p):\n",
    "    s_count = [0] * 26\n",
    "    p_count = [0] * 26\n",
    "    count = len(p)\n",
    "    result = []\n",
    "\n",
    "    for ch in p:\n",
    "        p_count[ord(ch) - ord('a')] += 1\n",
    "\n",
    "    for i in range(len(s)):\n",
    "        s_count[ord(s[i]) - ord('a')] += 1\n",
    "\n",
    "        if i >= len(p):\n",
    "            s_count[ord(s[i - len(p)]) - ord('a')] -= 1\n",
    "\n",
    "        if s_count == p_count:\n",
    "            result.append(i - len(p) + 1)\n",
    "\n",
    "    return result\n",
    "\n",
    "#----------------Main--------------------\n",
    "s = \"cbaebabacd\"\n",
    "p = \"abc\"\n",
    "print(FindAnagrams(s, p))\n"
   ]
  },
  {
   "cell_type": "code",
   "execution_count": null,
   "id": "0c923434-b845-4c2c-a993-712ecbf0c198",
   "metadata": {},
   "outputs": [],
   "source": []
  },
  {
   "cell_type": "markdown",
   "id": "3f0b6cfc-08cd-4c06-8c84-4502b12f5c3c",
   "metadata": {},
   "source": [
    "Q7) Given an encoded string, return its decoded string.\n",
    "\n",
    "The encoding rule is: k[encoded_string], where the encoded_string inside the square brackets is being repeated exactly k times. Note that k is guaranteed to be a positive integer.\n",
    "\n",
    "You may assume that the input string is always valid; there are no extra white spaces, square brackets are well-formed, etc. Furthermore, you may assume that the original data does not contain any digits and that digits are only for those repeat numbers, k. For example, there will not be input like 3a or 2[4].\n",
    "\n",
    "The test cases are generated so that the length of the output will never exceed 105."
   ]
  },
  {
   "cell_type": "code",
   "execution_count": 9,
   "id": "42670461-bdcd-44a2-ab65-69664018504f",
   "metadata": {
    "tags": []
   },
   "outputs": [
    {
     "name": "stdout",
     "output_type": "stream",
     "text": [
      "aaabcbc\n"
     ]
    }
   ],
   "source": [
    "def DecodeString(s):\n",
    "    def DecodeHelper(s, i):\n",
    "        result = \"\"\n",
    "        count = 0\n",
    "\n",
    "        while i < len(s):\n",
    "            if s[i].isdigit():\n",
    "                count = count * 10 + int(s[i])\n",
    "                i += 1\n",
    "            elif s[i] == \"[\":\n",
    "                decoded_str, i = DecodeHelper(s, i + 1)\n",
    "                result += decoded_str * count\n",
    "                count = 0\n",
    "            elif s[i] == \"]\":\n",
    "                return result, i + 1\n",
    "            else:\n",
    "                result += s[i]\n",
    "                i += 1\n",
    "\n",
    "        return result, i\n",
    "\n",
    "    return DecodeHelper(s, 0)[0]\n",
    "\n",
    "\n",
    "#-------------Main-----------------\n",
    "s = \"3[a]2[bc]\"\n",
    "print(DecodeString(s))\n"
   ]
  },
  {
   "cell_type": "code",
   "execution_count": null,
   "id": "4b63033e-8c42-41dc-a671-c693a7121e06",
   "metadata": {},
   "outputs": [],
   "source": []
  },
  {
   "cell_type": "markdown",
   "id": "06453b71-763f-4196-bb52-7fd7487e38ce",
   "metadata": {
    "tags": []
   },
   "source": [
    "Q8) Given two strings s and goal, return true *if you can swap two letters in* s *so the result is equal to* goal*, otherwise, return* false*.*\n",
    "\n",
    "Swapping letters is defined as taking two indices i and j (0-indexed) such that i != j and swapping the characters at s[i] and s[j].\n",
    "\n",
    "- For example, swapping at indices 0 and 2 in \"abcd\" results in \"cbad\"."
   ]
  },
  {
   "cell_type": "code",
   "execution_count": 12,
   "id": "d4dd5d4b-2933-41f2-8432-c02e6f052a33",
   "metadata": {
    "tags": []
   },
   "outputs": [
    {
     "name": "stdout",
     "output_type": "stream",
     "text": [
      "True\n"
     ]
    }
   ],
   "source": [
    "def FriendStrings(s, target):\n",
    "    if s == target:\n",
    "        seen = set()\n",
    "        for ch in s:\n",
    "            if ch in seen:\n",
    "                return True\n",
    "            seen.add(ch)\n",
    "        return False\n",
    "    \n",
    "    elif len(s) == len(target):\n",
    "        pairs = []\n",
    "        for i in range(len(s)):\n",
    "            if s[i] != target[i]:\n",
    "                pairs.append((s[i], target[i]))\n",
    "                if len(pairs) > 2:\n",
    "                    return False\n",
    "        return len(pairs) == 2 and pairs[0] == pairs[1][::-1]\n",
    "    \n",
    "    else:\n",
    "        return False\n",
    "\n",
    "    \n",
    "#-------------------Main------------------------\n",
    "s = \"ab\"\n",
    "goal = \"ba\"\n",
    "print(FriendStrings(s, goal))"
   ]
  },
  {
   "cell_type": "code",
   "execution_count": null,
   "id": "4b5d1fa5-4eaf-4384-b763-6a63cda4ad5a",
   "metadata": {},
   "outputs": [],
   "source": []
  }
 ],
 "metadata": {
  "kernelspec": {
   "display_name": "Python 3 (ipykernel)",
   "language": "python",
   "name": "python3"
  },
  "language_info": {
   "codemirror_mode": {
    "name": "ipython",
    "version": 3
   },
   "file_extension": ".py",
   "mimetype": "text/x-python",
   "name": "python",
   "nbconvert_exporter": "python",
   "pygments_lexer": "ipython3",
   "version": "3.10.5"
  }
 },
 "nbformat": 4,
 "nbformat_minor": 5
}
