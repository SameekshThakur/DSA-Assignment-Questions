{
 "cells": [
  {
   "cell_type": "markdown",
   "id": "2e07bc6d-18ae-4dfe-a04d-cea0d401564c",
   "metadata": {},
   "source": [
    "## Assignment - 2 (DSA)"
   ]
  },
  {
   "cell_type": "code",
   "execution_count": null,
   "id": "e3749e1a-1d5e-4c95-874e-38aa8ae2cd99",
   "metadata": {},
   "outputs": [],
   "source": []
  },
  {
   "cell_type": "markdown",
   "id": "fa7334ad-9020-4c9d-b743-b15b92335d9c",
   "metadata": {},
   "source": [
    "Q1) Given an integer array nums of 2n integers, group these integers into n pairs (a1, b1), (a2, b2),..., (an, \n",
    "bn) such that the sum of min(ai, bi) for all i is maximized. Return the maximized sum.\n"
   ]
  },
  {
   "cell_type": "code",
   "execution_count": 12,
   "id": "ac58be6c-49ce-434b-a1cc-87e090a828c5",
   "metadata": {
    "tags": []
   },
   "outputs": [
    {
     "name": "stdout",
     "output_type": "stream",
     "text": [
      "4\n"
     ]
    }
   ],
   "source": [
    "def maxSum(nums, n) :\n",
    "    if n%2 !=0 :  # if length of the list is not even\n",
    "        return 0\n",
    "    elif n==0 :   # if length of the list is zero\n",
    "        return -1\n",
    "    else :\n",
    "        maxSum = 0\n",
    "        nums.sort()   # first sorting the list\n",
    "        ptr1 = 0\n",
    "        ptr2 = 1\n",
    "        while ptr2 <= n-1 :\n",
    "            maxSum+=min(nums[ptr1], nums[ptr2])  # secondly choosing two pointers and checking the minimum b/w two consecutive elements\n",
    "            ptr1 = ptr2 + 1\n",
    "            ptr2 = ptr2 + 2\n",
    "        return maxSum   # return the value\n",
    "    \n",
    "#-------------------Main------------------------------\n",
    "nums = [1,4,3,2]\n",
    "print(maxSum(nums, len(nums)))\n"
   ]
  },
  {
   "cell_type": "code",
   "execution_count": null,
   "id": "a750a8b5-7f7d-4910-b7ad-b7269c57fa04",
   "metadata": {},
   "outputs": [],
   "source": []
  },
  {
   "cell_type": "markdown",
   "id": "159e511e-fc64-4284-955f-7888612b8113",
   "metadata": {},
   "source": [
    "Q2) Alice has n candies, where the ith candy is of type candyType[i]. Alice noticed that she started to gain \n",
    "weight, so she visited a doctor. The doctor advised Alice to only eat n / 2 of the candies she has (n is always even). \n",
    "Alice likes her candies very much, and she wants to eat the maximum number of different types of candies while \n",
    "still following the doctor's advice. Given the integer array candyType of length n, return the maximum number of \n",
    "different types of candies she can eat if she only eats n / 2 of them."
   ]
  },
  {
   "cell_type": "code",
   "execution_count": 3,
   "id": "5080a8f5-7f4c-4937-8525-d5be1b380f20",
   "metadata": {
    "tags": []
   },
   "outputs": [
    {
     "name": "stdout",
     "output_type": "stream",
     "text": [
      "3\n"
     ]
    }
   ],
   "source": [
    "# Hashmap is one of the approach via which we can solve the above problem but my approach will be different.\n",
    "\n",
    "def maxCandies(candies, n) :\n",
    "    # Assuming the given list to be sorted\n",
    "    if n%2!=0 :\n",
    "        return -1\n",
    "    if n==0 :\n",
    "        return 0      # point at which the candies reach the maximum limit\n",
    "    else :\n",
    "        max_candy = 1  # since the list is not empty assume the atleast girl can have a single candy with her\n",
    "        ptr1 = 0\n",
    "        ptr2 = 1\n",
    "        while ptr2 <= n-1 :\n",
    "            if candies[ptr1]!=candies[ptr2] :\n",
    "                max_candy+=1\n",
    "                ptr1 = ptr2\n",
    "            if max_candy >= n/2 :      # point at which the candies reach the maximum limit\n",
    "                break\n",
    "            ptr2+=1\n",
    "        return max_candy\n",
    "\n",
    "candies = [1,1,2,2,3,3]\n",
    "print(maxCandies(candies, len(candies)))\n"
   ]
  },
  {
   "cell_type": "code",
   "execution_count": null,
   "id": "d093f7b9-1df3-409d-9c04-e1ec3eca4e89",
   "metadata": {},
   "outputs": [],
   "source": []
  },
  {
   "cell_type": "markdown",
   "id": "d2f23f2c-f5eb-4abb-8cec-cbca324f0d88",
   "metadata": {},
   "source": [
    "Q4) You have a long flowerbed in which some of the plots are planted, and some are not. However, flowers \n",
    "cannot be planted in adjacent plots. Given an integer array flowerbed containing 0's and 1's, where 0 means empty \n",
    "and 1 means not empty, and an integer n, return true if n new flowers can be planted in the flowerbed without \n",
    "violating the no-adjacent-flowers rule and false otherwise.\n"
   ]
  },
  {
   "cell_type": "code",
   "execution_count": 4,
   "id": "04a7fafb-333c-470d-8be6-6ec2b73b3f33",
   "metadata": {
    "tags": []
   },
   "outputs": [
    {
     "name": "stdout",
     "output_type": "stream",
     "text": [
      "True\n"
     ]
    }
   ],
   "source": [
    "def canPlaceFlowers(flowerbed, n):\n",
    "    count = 0\n",
    "    length = len(flowerbed)\n",
    "\n",
    "    for i in range(length):\n",
    "        if flowerbed[i] == 0 and (i == 0 or flowerbed[i-1] == 0) and (i == length-1 or flowerbed[i+1] == 0):\n",
    "            flowerbed[i] = 1\n",
    "            count += 1\n",
    "\n",
    "            if count == n:\n",
    "                return True\n",
    "\n",
    "    return count == n\n",
    "\n",
    "#------------------Main------------------------------------\n",
    "\n",
    "flowerbed = [1,0,0,0,1]\n",
    "n = 1\n",
    "print(canPlaceFlowers(flowerbed, n))\n",
    "\n",
    "\n"
   ]
  },
  {
   "cell_type": "code",
   "execution_count": null,
   "id": "4fdb8336-24ca-4e01-a318-f85921e5873f",
   "metadata": {},
   "outputs": [],
   "source": []
  },
  {
   "cell_type": "markdown",
   "id": "6601998d-aec7-4b63-9b60-e04ceb0cf683",
   "metadata": {},
   "source": [
    "Q3) We define a harmonious array as an array where the difference between its maximum value and its \n",
    "minimum value is exactly 1. Given an integer array nums, return the length of its longest harmonious subsequence \n",
    "among all its possible subsequences. A subsequence of an array is a sequence that can be derived from the array \n",
    "by deleting some or no elements without changing the order of the remaining elements."
   ]
  },
  {
   "cell_type": "code",
   "execution_count": 5,
   "id": "42d6c782-c20f-4836-ae66-32e83f021421",
   "metadata": {
    "tags": []
   },
   "outputs": [
    {
     "name": "stdout",
     "output_type": "stream",
     "text": [
      "5\n"
     ]
    }
   ],
   "source": [
    "# We can solve the following using HashMap \n",
    "\n",
    "def HarmoniousArray(nums):\n",
    "    freq_map = {}\n",
    "    max_length = 0\n",
    "    for num in nums:\n",
    "        freq_map[num] = freq_map.get(num, 0) + 1\n",
    "    \n",
    "    for key in freq_map:\n",
    "        if key + 1 in freq_map:\n",
    "            max_length = max(max_length, freq_map[key] + freq_map[key + 1])\n",
    "        if key - 1 in freq_map:\n",
    "            max_length = max(max_length, freq_map[key] + freq_map[key - 1])\n",
    "    \n",
    "    return max_length\n",
    "\n",
    "#-------------------------Main-----------------------------\n",
    "nums = [1,3,2,2,5,2,3,7]\n",
    "print(HarmoniousArray(nums))\n"
   ]
  },
  {
   "cell_type": "code",
   "execution_count": null,
   "id": "42fdf168-9c8b-4e75-a1a2-449ec28641ac",
   "metadata": {},
   "outputs": [],
   "source": []
  },
  {
   "cell_type": "markdown",
   "id": "d0e1d685-ed42-4c58-bd12-20b048a8316f",
   "metadata": {},
   "source": [
    "Q5) Given an integer array nums, find three numbers whose product is maximum and return the maximum \n",
    "product."
   ]
  },
  {
   "cell_type": "code",
   "execution_count": 6,
   "id": "369df829-4fa8-4a4a-9eab-ad3283c8a7e9",
   "metadata": {
    "tags": []
   },
   "outputs": [
    {
     "name": "stdout",
     "output_type": "stream",
     "text": [
      "6\n"
     ]
    }
   ],
   "source": [
    "def maximumProduct(nums):\n",
    "    nums.sort()\n",
    "    max_product_pos = nums[-1] * nums[-2] * nums[-3]\n",
    "    max_product_mix = nums[0] * nums[1] * nums[-1]\n",
    "    return max(max_product_pos, max_product_mix)\n",
    "\n",
    "#----------------Main--------------------------------\n",
    "nums = [1,2,3]\n",
    "print(maximumProduct(nums))\n"
   ]
  },
  {
   "cell_type": "code",
   "execution_count": null,
   "id": "476503d2-8c4b-48cf-b830-12c69e872f8a",
   "metadata": {},
   "outputs": [],
   "source": []
  },
  {
   "cell_type": "markdown",
   "id": "ff10eea7-8815-47d2-9984-ccddc2d92032",
   "metadata": {},
   "source": [
    "Q6) Given an array of integers nums which is sorted in ascending order, and an integer target, write a function \n",
    "to search target in nums. If target exists, then return its index. Otherwise, return -1. You must write an algorithm \n",
    "with O(log n) runtime complexity"
   ]
  },
  {
   "cell_type": "code",
   "execution_count": 7,
   "id": "42c78205-0ad0-42e1-a7a6-e46f73b706d3",
   "metadata": {
    "tags": []
   },
   "outputs": [
    {
     "name": "stdout",
     "output_type": "stream",
     "text": [
      "4\n"
     ]
    }
   ],
   "source": [
    "# Binary Search - since the array is sorted and to find the target element from the given list/array\n",
    "\n",
    "def BinarySearch(nums, target):\n",
    "    left_ptr = 0\n",
    "    right_ptr = len(nums) - 1\n",
    "    \n",
    "    while left_ptr <= right_ptr:\n",
    "        mid = (left_ptr + right_ptr) // 2\n",
    "        \n",
    "        if nums[mid] == target:\n",
    "            return mid\n",
    "        elif nums[mid] > target:\n",
    "            right_ptr = mid - 1\n",
    "        else:\n",
    "            left_ptr = mid + 1\n",
    "    \n",
    "    return -1\n",
    "\n",
    "#--------------Main------------------------\n",
    "\n",
    "nums = [-1,0,3,5,9,12]\n",
    "target = 9\n",
    "print(BinarySearch(nums, target))"
   ]
  },
  {
   "cell_type": "code",
   "execution_count": null,
   "id": "08334158-5523-41ca-9db0-89f370dd9bba",
   "metadata": {},
   "outputs": [],
   "source": []
  },
  {
   "cell_type": "markdown",
   "id": "74dc42e7-0828-4061-9e44-e6403782dda1",
   "metadata": {},
   "source": [
    "Q7) An array is monotonic if it is either monotone increasing or monotone decreasing. An array nums is \n",
    "monotone increasing if for all i <= j, nums[i] <= nums[j]. An array nums is monotone decreasing if for all i <= j, \n",
    "nums[i] >= nums[j]. Given an integer array nums, return true if the given array is monotonic, or false otherwise."
   ]
  },
  {
   "cell_type": "code",
   "execution_count": 27,
   "id": "288e43b3-fad5-49c1-b43b-36e7c16a76df",
   "metadata": {
    "tags": []
   },
   "outputs": [
    {
     "name": "stdout",
     "output_type": "stream",
     "text": [
      "True\n"
     ]
    }
   ],
   "source": [
    "def IsMonotonic(nums):\n",
    "     increasing, decreasing = True, True\n",
    "     for i in range(1, len(nums)):\n",
    "        if nums[i] > nums[i - 1]:\n",
    "            increasing = False\n",
    "        if nums[i] < nums[i - 1]:\n",
    "            decreasing = False\n",
    "     return increasing or decreasing\n",
    "\n",
    "#-------------Main-----------------------\n",
    "nums = [1,2,2,3]\n",
    "print(IsMonotonic(nums))"
   ]
  },
  {
   "cell_type": "code",
   "execution_count": null,
   "id": "8bb1b628-986c-40ce-af54-25fcbfac801a",
   "metadata": {},
   "outputs": [],
   "source": []
  },
  {
   "cell_type": "markdown",
   "id": "2d738de4-9649-45ab-bd22-fe30dcb825a1",
   "metadata": {},
   "source": [
    "Q8) You are given an integer array nums and an integer k. In one operation, you can choose any index i where \n",
    "0 <= i < nums.length and change nums[i] to nums[i] + x where x is an integer from the range [-k, k]. You can apply \n",
    "this operation at most once for each index i. The score of nums is the difference between the maximum and \n",
    "minimum elements in nums. Return the minimum score of nums after applying the mentioned operation at most \n",
    "once for each index in it."
   ]
  },
  {
   "cell_type": "code",
   "execution_count": 26,
   "id": "90b4de64-ce0b-4338-8237-8193b331c1f0",
   "metadata": {
    "tags": []
   },
   "outputs": [
    {
     "name": "stdout",
     "output_type": "stream",
     "text": [
      "0\n"
     ]
    }
   ],
   "source": [
    "def MinScore(nums, n):\n",
    "    min_num = float('inf')\n",
    "    max_num = float('-inf')\n",
    "    \n",
    "    for num in nums:\n",
    "        min_num = min(min_num, num)\n",
    "        max_num = max(max_num, num)\n",
    "    \n",
    "    if max_num - min_num == 0:\n",
    "        return 0\n",
    "    \n",
    "    for num in nums:\n",
    "        current_min = min(min_num, num - n)\n",
    "        current_max = max(max_num, num + n)\n",
    "        min_num = min(min_num, current_min)\n",
    "        max_num = max(max_num, current_max)\n",
    "    \n",
    "    return max_num - min_num\n",
    "\n",
    "#---------------------Main------------------------\n",
    "nums = [1]\n",
    "k = 0\n",
    "print(MinScore(nums, k))"
   ]
  },
  {
   "cell_type": "code",
   "execution_count": null,
   "id": "6f521ccb-18fd-4bd3-aa1c-7faab294b782",
   "metadata": {},
   "outputs": [],
   "source": []
  }
 ],
 "metadata": {
  "kernelspec": {
   "display_name": "Python 3 (ipykernel)",
   "language": "python",
   "name": "python3"
  },
  "language_info": {
   "codemirror_mode": {
    "name": "ipython",
    "version": 3
   },
   "file_extension": ".py",
   "mimetype": "text/x-python",
   "name": "python",
   "nbconvert_exporter": "python",
   "pygments_lexer": "ipython3",
   "version": "3.10.5"
  }
 },
 "nbformat": 4,
 "nbformat_minor": 5
}
