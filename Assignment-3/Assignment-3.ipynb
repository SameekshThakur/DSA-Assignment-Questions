{
 "cells": [
  {
   "cell_type": "markdown",
   "id": "2dcb4d6b",
   "metadata": {},
   "source": [
    "## Assignment-3 (DSA)"
   ]
  },
  {
   "cell_type": "code",
   "execution_count": null,
   "id": "fe557e9a",
   "metadata": {},
   "outputs": [],
   "source": []
  },
  {
   "cell_type": "markdown",
   "id": "cf0d1627",
   "metadata": {},
   "source": [
    "Q1) Given an integer array nums of length n and an integer target, find three integers\n",
    "in nums such that the sum is closest to the target.\n",
    "Return the sum of the three integers.\n",
    "You may assume that each input would have exactly one solution.\n"
   ]
  },
  {
   "cell_type": "code",
   "execution_count": 3,
   "id": "159bbfb1",
   "metadata": {},
   "outputs": [
    {
     "name": "stdout",
     "output_type": "stream",
     "text": [
      "2\n"
     ]
    }
   ],
   "source": [
    "\n",
    "def threeSumClosest(nums, target):\n",
    "    nums.sort()\n",
    "    n = len(nums)\n",
    "    closest_sum = nums[0] + nums[1] + nums[2] # initialize closest sum\n",
    "    for i in range(n - 2):\n",
    "        left, right = i + 1, n - 1\n",
    "        while left < right: # two-pointer approach\n",
    "            sum = nums[i] + nums[left] + nums[right]\n",
    "            if sum == target: # sum equals target, return immediately\n",
    "                return sum\n",
    "            elif sum < target:\n",
    "                left += 1\n",
    "            else:\n",
    "                right -= 1\n",
    "            if abs(sum - target) < abs(closest_sum - target): # update closest sum\n",
    "                closest_sum = sum\n",
    "    return closest_sum\n",
    "\n",
    "#----------Main-----------------------\n",
    "nums = [-1,2,1,-4]\n",
    "target = 1\n",
    "print(threeSumClosest(nums, target))\n"
   ]
  },
  {
   "cell_type": "code",
   "execution_count": null,
   "id": "a3e737cf",
   "metadata": {},
   "outputs": [],
   "source": []
  },
  {
   "cell_type": "markdown",
   "id": "28cc12ca",
   "metadata": {},
   "source": [
    "Q2) Given an array nums of n integers, return an array of all the unique quadruplets\n",
    "[nums[a], nums[b], nums[c], nums[d]] such that:\n",
    "           ● 0 <= a, b, c, d < n\n",
    "           ● a, b, c, and d are distinct.\n",
    "           ● nums[a] + nums[b] + nums[c] + nums[d] == target\n",
    "\n",
    "You may return the answer in any order.\n"
   ]
  },
  {
   "cell_type": "code",
   "execution_count": 4,
   "id": "67ba590a",
   "metadata": {},
   "outputs": [
    {
     "name": "stdout",
     "output_type": "stream",
     "text": [
      "[[-2, -1, 1, 2], [-2, 0, 0, 2], [-1, 0, 0, 1]]\n"
     ]
    }
   ],
   "source": [
    "\n",
    "def Quadruplets(nums, target):\n",
    "    quadruplets = []\n",
    "    n = len(nums)\n",
    "    # Sorting the array\n",
    "    nums.sort()\n",
    "    for i in range(n - 3):\n",
    "        # Skip duplicates\n",
    "        if i > 0 and nums[i] == nums[i - 1]:\n",
    "            continue\n",
    "        for j in range(i + 1, n - 2):\n",
    "            # Skip duplicates\n",
    "            if j > i + 1 and nums[j] == nums[j - 1]:\n",
    "                continue\n",
    "            left = j + 1\n",
    "            right = n - 1\n",
    "            while left < right:\n",
    "                sum = nums[i] + nums[j] + nums[left] + nums[right]\n",
    "                if sum < target:\n",
    "                    left += 1\n",
    "                elif sum > target:\n",
    "                    right -= 1\n",
    "                else:\n",
    "                    quadruplets.append([nums[i], nums[j], nums[left], nums[right]])\n",
    "                    # Skip duplicates\n",
    "                    while left < right and nums[left] == nums[left + 1]:\n",
    "                        left += 1\n",
    "                    while left < right and nums[right] == nums[right - 1]:\n",
    "                        right -= 1\n",
    "                    left += 1\n",
    "                    right -= 1\n",
    "    return quadruplets\n",
    "\n",
    "#----------------Main-----------------------------\n",
    "nums = [1,0,-1,0,-2,2]\n",
    "target = 0\n",
    "print(Quadruplets(nums, target))"
   ]
  },
  {
   "cell_type": "code",
   "execution_count": null,
   "id": "301da240",
   "metadata": {},
   "outputs": [],
   "source": []
  },
  {
   "cell_type": "markdown",
   "id": "1b96cf49",
   "metadata": {},
   "source": [
    "Q3) A permutation of an array of integers is an arrangement of its members into a\n",
    "sequence or linear order.\n",
    "\n",
    "For example, for arr = [1,2,3], the following are all the permutations of arr:\n",
    "[1,2,3], [1,3,2], [2, 1, 3], [2, 3, 1], [3,1,2], [3,2,1].\n",
    "\n",
    "The next permutation of an array of integers is the next lexicographically greater\n",
    "permutation of its integer. More formally, if all the permutations of the array are\n",
    "sorted in one container according to their lexicographical order, then the next\n",
    "permutation of that array is the permutation that follows it in the sorted container.\n",
    "\n",
    "If such an arrangement is not possible, the array must be rearranged as the\n",
    "lowest possible order (i.e., sorted in ascending order).\n",
    "\n",
    "● For example, the next permutation of arr = [1,2,3] is [1,3,2].\n",
    "● Similarly, the next permutation of arr = [2,3,1] is [3,1,2].\n",
    "● While the next permutation of arr = [3,2,1] is [1,2,3] because [3,2,1] does not\n",
    "have a lexicographical larger rearrangement.\n",
    "\n",
    "Given an array of integers nums, find the next permutation of nums.\n",
    "The replacement must be in place and use only constant extra memory.\n",
    "\n",
    "</aside>"
   ]
  },
  {
   "cell_type": "code",
   "execution_count": 6,
   "id": "28f76278",
   "metadata": {},
   "outputs": [
    {
     "name": "stdout",
     "output_type": "stream",
     "text": [
      "[1, 3, 2]\n"
     ]
    }
   ],
   "source": [
    "\n",
    "def NextPermutation(nums):\n",
    "    n = len(nums)\n",
    "    k, l = n - 2, n - 1\n",
    "    while k >= 0 and nums[k] >= nums[k + 1]:\n",
    "        k -= 1\n",
    "    if k < 0:\n",
    "        nums.reverse()\n",
    "    else:\n",
    "        while l > k and nums[l] <= nums[k]:\n",
    "            l -= 1\n",
    "        nums[k], nums[l] = nums[l], nums[k]\n",
    "        nums[k + 1:n] = reversed(nums[k + 1:n])\n",
    "        \n",
    "#------------Main------------------------\n",
    "nums = [1,2,3]\n",
    "NextPermutation(nums)\n",
    "print(nums)"
   ]
  },
  {
   "cell_type": "code",
   "execution_count": null,
   "id": "f6f549bb",
   "metadata": {},
   "outputs": [],
   "source": []
  },
  {
   "cell_type": "markdown",
   "id": "b75ffd05",
   "metadata": {},
   "source": [
    "Q4) Given a sorted array of distinct integers and a target value, return the index if the\n",
    "target is found. If not, return the index where it would be if it were inserted in\n",
    "order.\n",
    "\n",
    "You must write an algorithm with O(log n) runtime complexity."
   ]
  },
  {
   "cell_type": "code",
   "execution_count": 10,
   "id": "25d03c1f",
   "metadata": {},
   "outputs": [
    {
     "name": "stdout",
     "output_type": "stream",
     "text": [
      "2\n"
     ]
    }
   ],
   "source": [
    "\n",
    "def searchInsert(nums, target):\n",
    "    left_ptr = 0\n",
    "    right_ptr = len(nums) - 1\n",
    "    while left_ptr <= right_ptr:\n",
    "        mid = (left_ptr + right_ptr) // 2\n",
    "        if nums[mid] < target:\n",
    "            left_ptr = mid + 1\n",
    "        elif nums[mid] > target:\n",
    "            right_ptr = mid - 1\n",
    "        else:\n",
    "            return mid\n",
    "    return left_ptr\n",
    "\n",
    "#---------Main-----------------\n",
    "nums = [1,3,5,6]\n",
    "target = 5\n",
    "print(searchInsert(nums, target))\n",
    "\n",
    "        "
   ]
  },
  {
   "cell_type": "code",
   "execution_count": null,
   "id": "cc3c61ed",
   "metadata": {},
   "outputs": [],
   "source": []
  },
  {
   "cell_type": "markdown",
   "id": "8c0fbe63",
   "metadata": {},
   "source": [
    "Q5) You are given a large integer represented as an integer array digits, where each\n",
    "digits[i] is the ith digit of the integer. The digits are ordered from most significant\n",
    "to least significant in left-to-right order. The large integer does not contain any\n",
    "leading 0's.\n",
    "\n",
    "Increment the large integer by one and return the resulting array of digits.\n"
   ]
  },
  {
   "cell_type": "code",
   "execution_count": 11,
   "id": "2dc9a430",
   "metadata": {},
   "outputs": [
    {
     "name": "stdout",
     "output_type": "stream",
     "text": [
      "[1, 2, 4]\n"
     ]
    }
   ],
   "source": [
    "def increment_large_integer(digits):\n",
    "    carry = 1\n",
    "\n",
    "    for i in range(len(digits) - 1, -1, -1):\n",
    "        sum = digits[i] + carry\n",
    "\n",
    "        if sum < 10:\n",
    "            digits[i] = sum\n",
    "            carry = 0\n",
    "            break\n",
    "        else:\n",
    "            digits[i] = 0\n",
    "            carry = 1\n",
    "\n",
    "    if carry == 1:\n",
    "        digits.insert(0, 1)\n",
    "\n",
    "    return digits\n",
    "\n",
    "#------------Main----------------------\n",
    "digits = [1,2,3]\n",
    "print(increment_large_integer(digits))"
   ]
  },
  {
   "cell_type": "code",
   "execution_count": null,
   "id": "ec821506",
   "metadata": {},
   "outputs": [],
   "source": []
  },
  {
   "cell_type": "markdown",
   "id": "1c268299",
   "metadata": {},
   "source": [
    "Q6) Given a non-empty array of integers nums, every element appears twice except\n",
    "for one. Find that single one.\n",
    "\n",
    "You must implement a solution with a linear runtime complexity and use only\n",
    "constant extra space."
   ]
  },
  {
   "cell_type": "code",
   "execution_count": 12,
   "id": "e9a92c49",
   "metadata": {},
   "outputs": [
    {
     "name": "stdout",
     "output_type": "stream",
     "text": [
      "1\n"
     ]
    }
   ],
   "source": [
    "\n",
    "def singleNumber(nums):\n",
    "    n = len(nums)\n",
    "    c = 0\n",
    "    for i in range(n):\n",
    "        c = c ^ nums[i]\n",
    "    return c\n",
    "\n",
    "#-----------Main--------------\n",
    "nums = [2,2,1]\n",
    "print(singleNumber(nums))"
   ]
  },
  {
   "cell_type": "code",
   "execution_count": null,
   "id": "2693e29f",
   "metadata": {},
   "outputs": [],
   "source": []
  },
  {
   "cell_type": "markdown",
   "id": "bcb18091",
   "metadata": {},
   "source": [
    "Q7) You are given an inclusive range [lower, upper] and a sorted unique integer array\n",
    "nums, where all elements are within the inclusive range.\n",
    "\n",
    "A number x is considered missing if x is in the range [lower, upper] and x is not in\n",
    "nums.\n",
    "\n",
    "Return the shortest sorted list of ranges that exactly covers all the missing\n",
    "numbers. That is, no element of nums is included in any of the ranges, and each\n",
    "missing number is covered by one of the ranges.\n"
   ]
  },
  {
   "cell_type": "code",
   "execution_count": 13,
   "id": "2d839efe",
   "metadata": {},
   "outputs": [
    {
     "name": "stdout",
     "output_type": "stream",
     "text": [
      "['2', '4->49', '51->74', '76->99']\n"
     ]
    }
   ],
   "source": [
    "def findMissingRanges(nums, lower, upper):\n",
    "    missing_ranges = []\n",
    "    prev = lower - 1  \n",
    "    \n",
    "    for num in nums + [upper + 1]:  \n",
    "        if num == prev + 2:  \n",
    "            missing_ranges.append(str(prev + 1))\n",
    "        elif num > prev + 2:  \n",
    "            missing_ranges.append(str(prev + 1) + \"->\" + str(num - 1))\n",
    "            \n",
    "        prev = num  \n",
    "        \n",
    "    return missing_ranges\n",
    "\n",
    "#---------------Main-----------------\n",
    "\n",
    "nums = [0,1,3,50,75]\n",
    "lower = 0\n",
    "upper = 99\n",
    "print(findMissingRanges(nums, lower, upper))\n"
   ]
  },
  {
   "cell_type": "code",
   "execution_count": null,
   "id": "7639681e",
   "metadata": {},
   "outputs": [],
   "source": []
  },
  {
   "cell_type": "markdown",
   "id": "7f9feb7c",
   "metadata": {},
   "source": [
    "Q8) Given an array of meeting time intervals where intervals[i] = [starti, endi],\n",
    "determine if a person could attend all meetings.\n"
   ]
  },
  {
   "cell_type": "code",
   "execution_count": 14,
   "id": "07df49d9",
   "metadata": {},
   "outputs": [
    {
     "name": "stdout",
     "output_type": "stream",
     "text": [
      "False\n"
     ]
    }
   ],
   "source": [
    "def canAttendMeetings(intervals):\n",
    "    intervals.sort(key=lambda x: x[0])\n",
    "\n",
    "    for i in range(1, len(intervals)):\n",
    "        if intervals[i][0] < intervals[i-1][1]:\n",
    "            return False\n",
    "\n",
    "    return True\n",
    "\n",
    "#--------------Main-----------------\n",
    "intervals = [[0,30],[5,10],[15,20]]\n",
    "print(canAttendMeetings(intervals))\n"
   ]
  },
  {
   "cell_type": "code",
   "execution_count": null,
   "id": "93280bcb",
   "metadata": {},
   "outputs": [],
   "source": []
  }
 ],
 "metadata": {
  "kernelspec": {
   "display_name": "Python 3 (ipykernel)",
   "language": "python",
   "name": "python3"
  },
  "language_info": {
   "codemirror_mode": {
    "name": "ipython",
    "version": 3
   },
   "file_extension": ".py",
   "mimetype": "text/x-python",
   "name": "python",
   "nbconvert_exporter": "python",
   "pygments_lexer": "ipython3",
   "version": "3.9.13"
  }
 },
 "nbformat": 4,
 "nbformat_minor": 5
}
