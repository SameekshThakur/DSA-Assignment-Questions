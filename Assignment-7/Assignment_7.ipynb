{
 "cells": [
  {
   "cell_type": "markdown",
   "id": "bb58df21-5162-422f-b802-834c5a1c9bfc",
   "metadata": {},
   "source": [
    "## Assignment - 7 (DSA)"
   ]
  },
  {
   "cell_type": "code",
   "execution_count": null,
   "id": "98d56cfe-03c5-4c69-9f7d-e3e45608dc58",
   "metadata": {},
   "outputs": [],
   "source": []
  },
  {
   "cell_type": "markdown",
   "id": "667da9eb-3496-4d45-b14b-505f0cfe4221",
   "metadata": {},
   "source": [
    "Q1) Given two strings s and t, *determine if they are isomorphic*.\n",
    "\n",
    "Two strings s and t are isomorphic if the characters in s can be replaced to get t.\n",
    "\n",
    "All occurrences of a character must be replaced with another character while preserving the order of characters. No two characters may map to the same character, but a character may map to itself."
   ]
  },
  {
   "cell_type": "code",
   "execution_count": 1,
   "id": "d8592551-e53a-4ebd-ada1-4705baf01ed8",
   "metadata": {
    "tags": []
   },
   "outputs": [
    {
     "name": "stdout",
     "output_type": "stream",
     "text": [
      "True\n"
     ]
    }
   ],
   "source": [
    "def IsomorphicStrings(s, t):\n",
    "    if len(s) != len(t):\n",
    "        return False\n",
    "\n",
    "    s_map = {}\n",
    "    t_map = {}\n",
    "    i = 0\n",
    "\n",
    "    while i < len(s):\n",
    "        if s[i] in s_map:\n",
    "            if s_map[s[i]] != t[i]:\n",
    "                return False\n",
    "        else:\n",
    "            s_map[s[i]] = t[i]\n",
    "\n",
    "        if t[i] in t_map:\n",
    "            if t_map[t[i]] != s[i]:\n",
    "                return False\n",
    "        else:\n",
    "            t_map[t[i]] = s[i]\n",
    "        \n",
    "        i+=1\n",
    "\n",
    "    return True\n",
    "\n",
    "#-------------Main---------------------\n",
    "\n",
    "s = \"egg\"\n",
    "t = \"add\"\n",
    "print(IsomorphicStrings(s, t))\n"
   ]
  },
  {
   "cell_type": "code",
   "execution_count": null,
   "id": "f27ded45-294c-484a-9a8b-de52541ab28b",
   "metadata": {},
   "outputs": [],
   "source": []
  },
  {
   "cell_type": "markdown",
   "id": "d8b90347-4c96-4d2c-ab81-6d6bb19c3e4f",
   "metadata": {},
   "source": [
    "Q2) Given a string num which represents an integer, return true *if* num *is a **strobogrammatic number***.\n",
    "\n",
    "A **strobogrammatic number** is a number that looks the same when rotated 180 degrees (looked at upside down)."
   ]
  },
  {
   "cell_type": "code",
   "execution_count": 2,
   "id": "25029217-bde3-4c7a-99c0-3f616f97b1a7",
   "metadata": {
    "tags": []
   },
   "outputs": [
    {
     "name": "stdout",
     "output_type": "stream",
     "text": [
      "True\n"
     ]
    }
   ],
   "source": [
    "def IsStrobogrammatic(num):\n",
    "    mapping = {'0': '0', '1': '1', '6': '9', '8': '8', '9': '6'}\n",
    "    left_ptr = 0\n",
    "    right_ptr = len(num) - 1\n",
    "\n",
    "    while left_ptr <= right_ptr:\n",
    "        if num[left_ptr] not in mapping or mapping[num[left_ptr]] != num[right_ptr]:\n",
    "            return False\n",
    "        left_ptr += 1\n",
    "        right_ptr -= 1\n",
    "\n",
    "    return True\n",
    "\n",
    "#-------------Main-----------------\n",
    "num = \"69\"\n",
    "print(IsStrobogrammatic(num))\n"
   ]
  },
  {
   "cell_type": "code",
   "execution_count": null,
   "id": "ee32505c-0280-44b2-9086-fd85d0929183",
   "metadata": {},
   "outputs": [],
   "source": []
  },
  {
   "cell_type": "markdown",
   "id": "14107765",
   "metadata": {},
   "source": [
    "Q3) Given two non-negative integers, num1 and num2 represented as string, return *the sum of* num1 *and* num2 *as a string*.\n",
    "\n",
    "You must solve the problem without using any built-in library for handling large integers (such as BigInteger). You must also not convert the inputs to integers directly."
   ]
  },
  {
   "cell_type": "code",
   "execution_count": 3,
   "id": "43d45583",
   "metadata": {},
   "outputs": [
    {
     "name": "stdout",
     "output_type": "stream",
     "text": [
      "134\n"
     ]
    }
   ],
   "source": [
    "def addStrings(num1, num2):\n",
    "    result = \"\"\n",
    "    i, j = len(num1) - 1, len(num2) - 1\n",
    "    carry = 0\n",
    "\n",
    "    while i >= 0 or j >= 0 or carry != 0:\n",
    "        digit1 = int(num1[i]) if i >= 0 else 0\n",
    "        digit2 = int(num2[j]) if j >= 0 else 0\n",
    "\n",
    "        current_sum = digit1 + digit2 + carry\n",
    "        result = str(current_sum % 10) + result\n",
    "        carry = current_sum // 10\n",
    "\n",
    "        i -= 1\n",
    "        j -= 1\n",
    "\n",
    "    return result\n",
    "\n",
    "#----------------Main-------------------\n",
    "num1 = \"11\"\n",
    "num2 = \"123\"\n",
    "print(addStrings(num1 ,num2))\n"
   ]
  },
  {
   "cell_type": "code",
   "execution_count": null,
   "id": "be8fe683",
   "metadata": {},
   "outputs": [],
   "source": []
  },
  {
   "cell_type": "markdown",
   "id": "b58b838e",
   "metadata": {},
   "source": [
    "Q4) Given a string s, reverse the order of characters in each word within a sentence while still preserving whitespace and initial word order."
   ]
  },
  {
   "cell_type": "code",
   "execution_count": 4,
   "id": "a3a18298",
   "metadata": {},
   "outputs": [
    {
     "name": "stdout",
     "output_type": "stream",
     "text": [
      "s'teL ekat edocteeL tsetnoc\n"
     ]
    }
   ],
   "source": [
    "def ReverseWords(s):\n",
    "    words = s.split()\n",
    "    reversed_words = [word[::-1] for word in words]\n",
    "    return ' '.join(reversed_words)\n",
    "\n",
    "#-------------Main--------------\n",
    "s = \"Let's take Leetcode contest\"\n",
    "print(ReverseWords(s))\n"
   ]
  },
  {
   "cell_type": "code",
   "execution_count": null,
   "id": "88f86284",
   "metadata": {},
   "outputs": [],
   "source": []
  },
  {
   "cell_type": "markdown",
   "id": "7190dbaf",
   "metadata": {},
   "source": [
    "Q5) Given a string s and an integer k, reverse the first k characters for every 2k characters counting from the start of the string.\n",
    "\n",
    "If there are fewer than k characters left, reverse all of them. If there are less than 2k but greater than or equal to k characters, then reverse the first k characters and leave the other as original."
   ]
  },
  {
   "cell_type": "code",
   "execution_count": 5,
   "id": "aca9e39c",
   "metadata": {},
   "outputs": [
    {
     "name": "stdout",
     "output_type": "stream",
     "text": [
      "bacdfeg\n"
     ]
    }
   ],
   "source": [
    "\n",
    "def ReverseStr(s, k):\n",
    "    result = \"\"\n",
    "\n",
    "    for i in range(0, len(s), k):\n",
    "        if (i // k) % 2 == 0:\n",
    "            sub = s[i:i+k]\n",
    "            result += sub[::-1]\n",
    "        else:\n",
    "            result += s[i:i+k]\n",
    "\n",
    "    return result\n",
    "\n",
    "#----------Main--------------\n",
    "s = \"abcdefg\"\n",
    "k = 2\n",
    "print(ReverseStr(s,k))"
   ]
  },
  {
   "cell_type": "code",
   "execution_count": null,
   "id": "5f1240b0",
   "metadata": {},
   "outputs": [],
   "source": []
  },
  {
   "cell_type": "markdown",
   "id": "86e3cd6f",
   "metadata": {},
   "source": [
    "Q6) Given two strings s and goal, return true *if and only if* s *can become* goal *after some number of **shifts** on* s.\n",
    "\n",
    "A **shift** on s consists of moving the leftmost character of s to the rightmost position.\n",
    "\n",
    "- For example, if s = \"abcde\", then it will be \"bcdea\" after one shift."
   ]
  },
  {
   "cell_type": "code",
   "execution_count": 6,
   "id": "a01fb509",
   "metadata": {},
   "outputs": [
    {
     "name": "stdout",
     "output_type": "stream",
     "text": [
      "True\n"
     ]
    }
   ],
   "source": [
    "def Transform(s, goal):\n",
    "    if len(s) != len(goal):\n",
    "        return False\n",
    "\n",
    "    s_double = s + s\n",
    "    return goal in s_double\n",
    "\n",
    "#------------Main-----------\n",
    "s = \"abcde\"\n",
    "goal = \"cdeab\"\n",
    "print(Transform(s, goal))"
   ]
  },
  {
   "cell_type": "code",
   "execution_count": null,
   "id": "34ed4a7e",
   "metadata": {},
   "outputs": [],
   "source": []
  },
  {
   "cell_type": "markdown",
   "id": "cb7855f0",
   "metadata": {},
   "source": [
    "Q7) Given two strings s and t, return true *if they are equal when both are typed into empty text editors*. '#' means a backspace character.\n",
    "\n",
    "Note that after backspacing an empty text, the text will continue empty.\n",
    "\n"
   ]
  },
  {
   "cell_type": "code",
   "execution_count": null,
   "id": "ea13c8ad",
   "metadata": {},
   "outputs": [],
   "source": []
  },
  {
   "cell_type": "code",
   "execution_count": 8,
   "id": "5a1648bd",
   "metadata": {},
   "outputs": [
    {
     "name": "stdout",
     "output_type": "stream",
     "text": [
      "True\n"
     ]
    }
   ],
   "source": [
    "def ProcessString(string):\n",
    "    stack = []\n",
    "    for ch in string:\n",
    "        if ch != '#':\n",
    "            stack.append(ch)\n",
    "        elif stack:\n",
    "            stack.pop()\n",
    "    return ''.join(stack)\n",
    "\n",
    "def BackspaceCompare(s, t):\n",
    "    processed_s = ProcessString(s)\n",
    "    processed_t = ProcessString(t)\n",
    "    return processed_s == processed_t\n",
    "\n",
    "#-------------Main----------------\n",
    "s = \"ab#c\"\n",
    "t = \"ad#c\"\n",
    "print(BackspaceCompare(s, t))\n"
   ]
  }
 ],
 "metadata": {
  "kernelspec": {
   "display_name": "Python 3 (ipykernel)",
   "language": "python",
   "name": "python3"
  },
  "language_info": {
   "codemirror_mode": {
    "name": "ipython",
    "version": 3
   },
   "file_extension": ".py",
   "mimetype": "text/x-python",
   "name": "python",
   "nbconvert_exporter": "python",
   "pygments_lexer": "ipython3",
   "version": "3.10.5"
  }
 },
 "nbformat": 4,
 "nbformat_minor": 5
}
