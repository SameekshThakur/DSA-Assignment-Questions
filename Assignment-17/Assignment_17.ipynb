{
 "cells": [
  {
   "cell_type": "markdown",
   "id": "9e4e2ed8-6a39-4832-abe3-69e36d7afd1d",
   "metadata": {},
   "source": [
    "## Assignment-16"
   ]
  },
  {
   "cell_type": "markdown",
   "id": "859fe2f7-f67a-4c8d-97a4-0e2ccfaec8a2",
   "metadata": {},
   "source": [
    "<br>"
   ]
  },
  {
   "cell_type": "markdown",
   "id": "1f395917-f017-49f2-ad6f-833500b89fb4",
   "metadata": {},
   "source": [
    "Q1) Given a string s, find the first non-repeating character in it and return its index. If it does not exist, return -1."
   ]
  },
  {
   "cell_type": "code",
   "execution_count": 16,
   "id": "5a119473-6c07-41cb-8411-4fe19053ff36",
   "metadata": {},
   "outputs": [
    {
     "name": "stdout",
     "output_type": "stream",
     "text": [
      "0\n"
     ]
    }
   ],
   "source": [
    "def firstUniqChar(s):\n",
    "    char_count = {}\n",
    "    \n",
    "    \n",
    "    for char in s:\n",
    "        if char in char_count:\n",
    "            char_count[char] += 1\n",
    "        else:\n",
    "            char_count[char] = 1\n",
    "    \n",
    "    \n",
    "    for i, char in enumerate(s):\n",
    "        if char_count[char] == 1:\n",
    "            return i\n",
    "    \n",
    "    return -1\n",
    "\n",
    "#-----------------Main----------------\n",
    "s = \"leetcode\"\n",
    "print(firstUniqChar(s)) \n",
    "\n"
   ]
  },
  {
   "cell_type": "code",
   "execution_count": null,
   "id": "ee0c09dc-42ad-40c0-b020-9fd8291b4e1b",
   "metadata": {},
   "outputs": [],
   "source": []
  },
  {
   "cell_type": "markdown",
   "id": "3a74287a-de74-4998-b258-01aac7ce5998",
   "metadata": {},
   "source": [
    "Q2) Given a **circular integer array** `nums` of length `n`, return *the maximum possible sum of a non-empty **subarray** of* `nums`.\n",
    "\n",
    "A **circular array** means the end of the array connects to the beginning of the array. Formally, the next element of `nums[i]` is `nums[(i + 1) % n]` and the previous element of `nums[i]` is `nums[(i - 1 + n) % n]`.\n",
    "\n",
    "A **subarray** may only include each element of the fixed buffer `nums` at most once. Formally, for a subarray `nums[i], nums[i + 1], ..., nums[j]`, there does not exist `i <= k1`, `k2 <= j` with `k1 % n == k2 % n`"
   ]
  },
  {
   "cell_type": "code",
   "execution_count": 17,
   "id": "6f2cd5ca-75e7-4047-a60c-16bce5649447",
   "metadata": {},
   "outputs": [
    {
     "name": "stdout",
     "output_type": "stream",
     "text": [
      "14\n"
     ]
    }
   ],
   "source": [
    "def max_subarray_sum(nums):\n",
    "    def kadane(arr):\n",
    "        max_sum = float('-inf')\n",
    "        current_sum = 0\n",
    "\n",
    "        for num in arr:\n",
    "            current_sum = max(num, current_sum + num)\n",
    "            max_sum = max(max_sum, current_sum)\n",
    "\n",
    "        return max_sum\n",
    "\n",
    "   \n",
    "    max_sum_linear = kadane(nums)\n",
    "\n",
    "    max_sum_circular = sum(nums) + kadane([-num for num in nums])\n",
    "\n",
    "    return max(max_sum_linear, max_sum_circular)\n",
    "\n",
    "\n",
    "#-----------------Main----------------\n",
    "nums = [5, -3, 4, -1, 2, 6, -2]\n",
    "print(max_subarray_sum(nums)) "
   ]
  },
  {
   "cell_type": "code",
   "execution_count": null,
   "id": "f893b14f-cd41-467f-a258-80b61b799d00",
   "metadata": {},
   "outputs": [],
   "source": []
  },
  {
   "cell_type": "markdown",
   "id": "06d23957-1b3e-4006-9054-d7c2e2a25169",
   "metadata": {},
   "source": [
    "Q3) The school cafeteria offers circular and square sandwiches at lunch break, referred to by numbers `0` and `1` respectively. All students stand in a queue. Each student either prefers square or circular sandwiches.\n",
    "\n",
    "The number of sandwiches in the cafeteria is equal to the number of students. The sandwiches are placed in a **stack**. At each step:\n",
    "\n",
    "- If the student at the front of the queue **prefers** the sandwich on the top of the stack, they will **take it** and leave the queue.\n",
    "- Otherwise, they will **leave it** and go to the queue's end.\n",
    "\n",
    "This continues until none of the queue students want to take the top sandwich and are thus unable to eat.\n",
    "\n",
    "You are given two integer arrays `students` and `sandwiches` where `sandwiches[i]` is the type of the `ith` sandwich in the stack (`i = 0` is the top of the stack) and `students[j]` is the preference of the `jth` student in the initial queue (`j = 0` is the front of the queue). Return *the number of students that are unable to eat.*"
   ]
  },
  {
   "cell_type": "code",
   "execution_count": null,
   "id": "dd43ecf9-83e8-4586-9cdd-06b7134ef7d8",
   "metadata": {},
   "outputs": [],
   "source": []
  },
  {
   "cell_type": "code",
   "execution_count": null,
   "id": "0242cc46-13fe-4d64-9c14-8480e0f20e32",
   "metadata": {},
   "outputs": [],
   "source": []
  },
  {
   "cell_type": "markdown",
   "id": "1e1315a3-e798-471e-afbf-85aa9f7e3ffa",
   "metadata": {},
   "source": [
    "Q4) You have a `RecentCounter` class which counts the number of recent requests within a certain time frame.\n",
    "\n",
    "Implement the `RecentCounter` class:\n",
    "\n",
    "- `RecentCounter()` Initializes the counter with zero recent requests.\n",
    "- `int ping(int t)` Adds a new request at time `t`, where `t` represents some time in milliseconds, and returns the number of requests that has happened in the past `3000` milliseconds (including the new request). Specifically, return the number of requests that have happened in the inclusive range `[t - 3000, t]`.\n",
    "\n",
    "It is **guaranteed** that every call to `ping` uses a strictly larger value of `t` than the previous call."
   ]
  },
  {
   "cell_type": "code",
   "execution_count": 19,
   "id": "3d26b611-d575-47f7-92b6-e4725659945a",
   "metadata": {},
   "outputs": [
    {
     "name": "stdout",
     "output_type": "stream",
     "text": [
      "1\n",
      "2\n",
      "3\n",
      "4\n",
      "5\n",
      "6\n"
     ]
    }
   ],
   "source": [
    "from collections import deque\n",
    "\n",
    "class RecentCounter:\n",
    "    def __init__(self):\n",
    "        self.requests = deque()\n",
    "\n",
    "    def ping(self, t):\n",
    "        self.requests.append(t)\n",
    "        \n",
    "        while self.requests[0] < t - 3000:\n",
    "            self.requests.popleft()\n",
    "        \n",
    "        return len(self.requests)\n",
    "\n",
    "    \n",
    "#-----------------Main----------------\n",
    "counter = RecentCounter()\n",
    "print(counter.ping(100))   \n",
    "print(counter.ping(300))   \n",
    "print(counter.ping(600))   \n",
    "print(counter.ping(1300))  \n",
    "print(counter.ping(1600))  \n",
    "print(counter.ping(2000))  \n"
   ]
  },
  {
   "cell_type": "code",
   "execution_count": null,
   "id": "e745b02c-1d86-4efa-baae-5503cc369701",
   "metadata": {},
   "outputs": [],
   "source": []
  },
  {
   "cell_type": "markdown",
   "id": "33d98ca1-a1db-4d75-ad84-9e950417f6fe",
   "metadata": {},
   "source": [
    "Q5) There are `n` friends that are playing a game. The friends are sitting in a circle and are numbered from `1` to `n` in **clockwise order**. More formally, moving clockwise from the `ith` friend brings you to the `(i+1)th` friend for `1 <= i < n`, and moving clockwise from the `nth` friend brings you to the `1st` friend.\n",
    "\n",
    "The rules of the game are as follows:\n",
    "\n",
    "1. **Start** at the `1st` friend.\n",
    "2. Count the next `k` friends in the clockwise direction **including** the friend you started at. The counting wraps around the circle and may count some friends more than once.\n",
    "3. The last friend you counted leaves the circle and loses the game.\n",
    "4. If there is still more than one friend in the circle, go back to step `2` **starting** from the friend **immediately clockwise** of the friend who just lost and repeat.\n",
    "5. Else, the last friend in the circle wins the game.\n",
    "\n",
    "Given the number of friends, `n`, and an integer `k`, return *the winner of the game*"
   ]
  },
  {
   "cell_type": "code",
   "execution_count": 20,
   "id": "93d259b5-cbe5-4b9c-b4ed-4a03e76108b2",
   "metadata": {},
   "outputs": [
    {
     "name": "stdout",
     "output_type": "stream",
     "text": [
      "3\n"
     ]
    }
   ],
   "source": [
    "def find_winner(n, k):\n",
    "    friends = list(range(1, n + 1))\n",
    "    current_index = 0\n",
    "\n",
    "    while len(friends) > 1:\n",
    "        count = k - 1\n",
    "        current_index = (current_index + count) % len(friends)\n",
    "        friends.pop(current_index)\n",
    "\n",
    "    return friends[0]\n",
    "\n",
    "#-----------------Main----------------\n",
    "n = 5\n",
    "k = 2\n",
    "print(find_winner(n, k))  \n"
   ]
  },
  {
   "cell_type": "code",
   "execution_count": null,
   "id": "302d56a6-330a-4b64-8a74-1bcb7b87b1ff",
   "metadata": {},
   "outputs": [],
   "source": []
  },
  {
   "cell_type": "markdown",
   "id": "0269597f-2bb9-461f-8a6e-888620806f93",
   "metadata": {},
   "source": [
    "Q6) You are given an integer array `deck`. There is a deck of cards where every card has a unique integer. The integer on the `ith` card is `deck[i]`.\n",
    "\n",
    "You can order the deck in any order you want. Initially, all the cards start face down (unrevealed) in one deck.\n",
    "\n",
    "You will do the following steps repeatedly until all cards are revealed:\n",
    "\n",
    "1. Take the top card of the deck, reveal it, and take it out of the deck.\n",
    "2. If there are still cards in the deck then put the next top card of the deck at the bottom of the deck.\n",
    "3. If there are still unrevealed cards, go back to step 1. Otherwise, stop.\n",
    "\n",
    "Return *an ordering of the deck that would reveal the cards in increasing order*.\n",
    "\n",
    "**Note** that the first entry in the answer is considered to be the top of the deck."
   ]
  },
  {
   "cell_type": "code",
   "execution_count": 25,
   "id": "70a5c27b-34bd-4a87-aa83-7c264d4070f1",
   "metadata": {},
   "outputs": [
    {
     "name": "stdout",
     "output_type": "stream",
     "text": [
      "[2, 13, 3, 11, 5, 17, 7]\n"
     ]
    }
   ],
   "source": [
    "from collections import deque\n",
    "\n",
    "def deckRevealedIncreasing(deck):\n",
    "    n = len(deck)\n",
    "    deck.sort() \n",
    "\n",
    "    result = [0] * n\n",
    "    queue = deque(range(n))  \n",
    "\n",
    "    for card in deck:\n",
    "        result[queue.popleft()] = card  \n",
    "        if queue:  \n",
    "            queue.append(queue.popleft())\n",
    "\n",
    "    return result\n",
    "\n",
    "\n",
    "#-----------------Main----------------\n",
    "deck = [17, 13, 11, 2, 3, 5, 7]\n",
    "print(deckRevealedIncreasing(deck))\n",
    "# Output: [2, 13, 3, 11, 5, 17, 7]\n"
   ]
  },
  {
   "cell_type": "code",
   "execution_count": null,
   "id": "4f264258-bcbb-43fa-a06f-a13bbab8c8bf",
   "metadata": {},
   "outputs": [],
   "source": []
  },
  {
   "cell_type": "markdown",
   "id": "1104fc63-215c-4451-bcc1-fc56b2b62eb0",
   "metadata": {},
   "source": [
    "Q7) Design a queue that supports `push` and `pop` operations in the front, middle, and back.\n",
    "\n",
    "Implement the `FrontMiddleBack` class:\n",
    "\n",
    "- `FrontMiddleBack()` Initializes the queue.\n",
    "- `void pushFront(int val)` Adds `val` to the **front** of the queue.\n",
    "- `void pushMiddle(int val)` Adds `val` to the **middle** of the queue.\n",
    "- `void pushBack(int val)` Adds `val` to the **back** of the queue.\n",
    "- `int popFront()` Removes the **front** element of the queue and returns it. If the queue is empty, return `1`.\n",
    "- `int popMiddle()` Removes the **middle** element of the queue and returns it. If the queue is empty, return `1`.\n",
    "- `int popBack()` Removes the **back** element of the queue and returns it. If the queue is empty, return `1`."
   ]
  },
  {
   "cell_type": "code",
   "execution_count": 24,
   "id": "7516cb19-8bc2-4ce3-8146-4cbb89528b17",
   "metadata": {},
   "outputs": [
    {
     "name": "stdout",
     "output_type": "stream",
     "text": [
      "1\n",
      "3\n",
      "4\n",
      "2\n",
      "-1\n"
     ]
    }
   ],
   "source": [
    "from collections import deque\n",
    "\n",
    "class FrontMiddleBack:\n",
    "    def __init__(self):\n",
    "        self.front = deque()\n",
    "        self.back = deque()\n",
    "\n",
    "    def pushFront(self, val):\n",
    "        self.front.appendleft(val)\n",
    "        self._balance()\n",
    "\n",
    "    def pushMiddle(self, val):\n",
    "        if len(self.front) > len(self.back):\n",
    "            self.back.appendleft(self.front.pop())\n",
    "        self.front.append(val)\n",
    "\n",
    "    def pushBack(self, val):\n",
    "        self.back.append(val)\n",
    "        self._balance()\n",
    "\n",
    "    def popFront(self):\n",
    "        if self.front:\n",
    "            return self.front.popleft()\n",
    "        elif self.back:\n",
    "            return self.back.popleft()\n",
    "        else:\n",
    "            return -1\n",
    "\n",
    "    def popMiddle(self):\n",
    "        if len(self.front) >= len(self.back):\n",
    "            return self.front.pop()\n",
    "        else:\n",
    "            return self.back.popleft()\n",
    "\n",
    "    def popBack(self):\n",
    "        if self.back:\n",
    "            return self.back.pop()\n",
    "        elif self.front:\n",
    "            return self.front.pop()\n",
    "        else:\n",
    "            return -1\n",
    "\n",
    "    def _balance(self):\n",
    "        if len(self.front) > len(self.back) + 1:\n",
    "            self.back.appendleft(self.front.pop())\n",
    "        elif len(self.back) > len(self.front):\n",
    "            self.front.append(self.back.popleft())\n",
    " \n",
    "\n",
    "#-----------------Main----------------\n",
    "queue = FrontMiddleBack()\n",
    "queue.pushFront(1)\n",
    "queue.pushBack(2)\n",
    "queue.pushMiddle(3)\n",
    "queue.pushMiddle(4)\n",
    "print(queue.popFront())  \n",
    "print(queue.popMiddle())  \n",
    "print(queue.popMiddle())  \n",
    "print(queue.popBack())  \n",
    "print(queue.popFront())  \n",
    "\n"
   ]
  },
  {
   "cell_type": "code",
   "execution_count": null,
   "id": "5a567498-be47-49f9-8c2c-402f9a5d7767",
   "metadata": {},
   "outputs": [],
   "source": []
  },
  {
   "cell_type": "markdown",
   "id": "1fa7da2c-61f0-49da-bb0d-e1e7f8043b67",
   "metadata": {},
   "source": [
    "Q8) For a stream of integers, implement a data structure that checks if the last `k` integers parsed in the stream are **equal** to `value`.\n",
    "\n",
    "Implement the **DataStream** class:\n",
    "\n",
    "- `DataStream(int value, int k)` Initializes the object with an empty integer stream and the two integers `value` and `k`.\n",
    "- `boolean consec(int num)` Adds `num` to the stream of integers. Returns `true` if the last `k` integers are equal to `value`, and `false` otherwise. If there are less than `k` integers, the condition does not hold true, so returns `false`."
   ]
  },
  {
   "cell_type": "code",
   "execution_count": 23,
   "id": "a67170ba-dba2-43c9-9c50-36f6f32ef515",
   "metadata": {},
   "outputs": [
    {
     "name": "stdout",
     "output_type": "stream",
     "text": [
      "False\n",
      "False\n",
      "False\n",
      "True\n",
      "False\n"
     ]
    }
   ],
   "source": [
    "from collections import deque\n",
    "\n",
    "class DataStream:\n",
    "    def __init__(self, value, k):\n",
    "        self.value = value\n",
    "        self.k = k\n",
    "        self.stream = deque()\n",
    "\n",
    "    def consec(self, num):\n",
    "        self.stream.append(num)\n",
    "\n",
    "        if len(self.stream) < self.k:\n",
    "            return False\n",
    "\n",
    "        if len(self.stream) > self.k:\n",
    "            self.stream.popleft()\n",
    "\n",
    "        return all(x == self.value for x in self.stream)\n",
    "\n",
    "    \n",
    "\n",
    "#-----------------Main----------------\n",
    "stream = DataStream(2, 3)\n",
    "print(stream.consec(1))  \n",
    "print(stream.consec(2))  \n",
    "print(stream.consec(2))  \n",
    "print(stream.consec(2))  \n",
    "print(stream.consec(1))  \n"
   ]
  },
  {
   "cell_type": "code",
   "execution_count": null,
   "id": "95d721de-221d-4cfe-9d9a-3ce78da5831c",
   "metadata": {},
   "outputs": [],
   "source": []
  }
 ],
 "metadata": {
  "kernelspec": {
   "display_name": "Python 3 (ipykernel)",
   "language": "python",
   "name": "python3"
  },
  "language_info": {
   "codemirror_mode": {
    "name": "ipython",
    "version": 3
   },
   "file_extension": ".py",
   "mimetype": "text/x-python",
   "name": "python",
   "nbconvert_exporter": "python",
   "pygments_lexer": "ipython3",
   "version": "3.10.9"
  }
 },
 "nbformat": 4,
 "nbformat_minor": 5
}
