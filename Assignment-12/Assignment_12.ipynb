{
 "cells": [
  {
   "cell_type": "markdown",
   "id": "92b99337-0b97-4461-af66-14524bdb5dc2",
   "metadata": {},
   "source": [
    "## Assignment - 12 (DSA)"
   ]
  },
  {
   "cell_type": "code",
   "execution_count": null,
   "id": "3ec615e5-5a98-4baa-8b39-1e787292c5ee",
   "metadata": {},
   "outputs": [],
   "source": []
  },
  {
   "cell_type": "markdown",
   "id": "271eb2bd-99d6-43f7-ba94-da15c456bff5",
   "metadata": {},
   "source": [
    "Q1) Given a singly linked list, delete middle of the linked list. For example, if given linked list is 1->2->3->4->5 then linked list should be modified to 1->2->4->5.If there are even nodes, then there would be two middle nodes, we need to delete the second middle element. For example, if given linked list is 1->2->3->4->5->6 then it should be modified to 1->2->3->5->6.If the input linked list is NULL or has 1 node, then it should return NULL"
   ]
  },
  {
   "cell_type": "code",
   "execution_count": 5,
   "id": "a9ba5d42-88da-4c21-b2bf-6eac914f6d48",
   "metadata": {},
   "outputs": [
    {
     "name": "stdout",
     "output_type": "stream",
     "text": [
      "1 2 3 5 6 "
     ]
    }
   ],
   "source": [
    "class Node:\n",
    "    def __init__(self, data):\n",
    "        self.data = data\n",
    "        self.next = None\n",
    "\n",
    "def DeleteMiddle(head_element):\n",
    "    if head_element is None or head_element.next is None:\n",
    "        return None\n",
    "    \n",
    "    slow_ptr = head_element\n",
    "    fast_ptr = head_element\n",
    "    previous_ptr = None\n",
    "\n",
    "    while fast_ptr is not None and fast_ptr.next is not None:\n",
    "        fast_ptr = fast_ptr.next.next\n",
    "        prev_ptr = slow_ptr\n",
    "        slow_ptr = slow_ptr.next\n",
    "\n",
    "    previous_ptr.next = slow_ptr.next\n",
    "\n",
    "    return head_element\n",
    "\n",
    "#------------------Main-----------------------------\n",
    "head_element = Node(1)\n",
    "node2 = Node(2)\n",
    "node3 = Node(3)\n",
    "node4 = Node(4)\n",
    "node5 = Node(5)\n",
    "node6 = Node(6)\n",
    "\n",
    "head_element.next = node2\n",
    "node2.next = node3\n",
    "node3.next = node4\n",
    "node4.next = node5\n",
    "node5.next = node6\n",
    "\n",
    "new_head_element = delete_middle(head_element)\n",
    "\n",
    "current = new_head_element\n",
    "while current is not None:\n",
    "    print(current.data, end=\" \")\n",
    "    current = current.next"
   ]
  },
  {
   "cell_type": "code",
   "execution_count": null,
   "id": "a0109f60-163e-4c9d-ad89-e1f196b651a2",
   "metadata": {},
   "outputs": [],
   "source": []
  },
  {
   "cell_type": "markdown",
   "id": "3cce915c-38af-483e-bd9d-658881eb90f5",
   "metadata": {},
   "source": [
    "Q2) Given a linked list of N nodes. The task is to check if the linked list has a loop. Linked list can contain self loop."
   ]
  },
  {
   "cell_type": "code",
   "execution_count": 2,
   "id": "dac4aa7b-8f6b-4552-8e97-fd4e882b20d5",
   "metadata": {},
   "outputs": [
    {
     "name": "stdout",
     "output_type": "stream",
     "text": [
      "The Linked list passed contains a loop.\n"
     ]
    }
   ],
   "source": [
    "\n",
    "\n",
    "def HasLoop(head_element):\n",
    "    if head_element is None or head_element.next is None:\n",
    "        return False\n",
    "    \n",
    "    slow_ptr = head_element\n",
    "    fast_ptr = head_element.next\n",
    "\n",
    "    while fast_ptr is not None and fast_ptr.next is not None:\n",
    "        if slow_ptr == fast_ptr:\n",
    "            return True\n",
    "        slow_ptr = slow_ptr.next\n",
    "        fast_ptr = fast_ptr.next.next\n",
    "\n",
    "    return False\n",
    "\n",
    "#-----------------------Main------------------------\n",
    "head_element = Node(1)\n",
    "node2 = Node(2)\n",
    "node3 = Node(3)\n",
    "node4 = Node(4)\n",
    "node5 = Node(5)\n",
    "node6 = Node(6)\n",
    "\n",
    "head_element.next = node2\n",
    "node2.next = node3\n",
    "node3.next = node4\n",
    "node4.next = node5\n",
    "node5.next = node6\n",
    "node6.next = node3\n",
    "\n",
    "has_loop_result = HasLoop(head_element)\n",
    "\n",
    "if has_loop_result:\n",
    "    print(\"The Linked list passed contains a loop.\")\n",
    "else:\n",
    "    print(\"The Linked list passed does not contain a loop.\")\n"
   ]
  },
  {
   "cell_type": "code",
   "execution_count": null,
   "id": "8acde88d-08a7-49a0-b5ea-d6080f637d83",
   "metadata": {},
   "outputs": [],
   "source": []
  },
  {
   "cell_type": "markdown",
   "id": "b239f694-04d4-438d-ad98-cef1c0b0cdd3",
   "metadata": {},
   "source": [
    "Q3) Given a linked list consisting of L nodes and given a number N. The task is to find the Nth node from the end of the linked list."
   ]
  },
  {
   "cell_type": "code",
   "execution_count": 5,
   "id": "0ef8c557-8c76-4751-8641-76854c66abf3",
   "metadata": {},
   "outputs": [
    {
     "name": "stdout",
     "output_type": "stream",
     "text": [
      "The 3 th node from the end of the linked list is: 4\n"
     ]
    }
   ],
   "source": [
    "\n",
    "\n",
    "def FindTargetFromEnd(head_element, N):\n",
    "    if head_element is None:\n",
    "        return None\n",
    "    \n",
    "    main_ptr = head_element\n",
    "    ref_ptr = head_element\n",
    "\n",
    "    for _ in range(N):\n",
    "        if ref_ptr is None:\n",
    "            return None\n",
    "        ref_ptr = ref_ptr.next\n",
    "\n",
    "    while ref_ptr is not None:\n",
    "        main_ptr = main_ptr.next\n",
    "        ref_ptr = ref_ptr.next\n",
    "\n",
    "    return main_ptr.data\n",
    "\n",
    "\n",
    "#--------------------------Main---------------------\n",
    "head_element = Node(1)\n",
    "node2 = Node(2)\n",
    "node3 = Node(3)\n",
    "node4 = Node(4)\n",
    "node5 = Node(5)\n",
    "node6 = Node(6)\n",
    "\n",
    "head_element.next = node2\n",
    "node2.next = node3\n",
    "node3.next = node4\n",
    "node4.next = node5\n",
    "node5.next = node6\n",
    "\n",
    "N = 3\n",
    "result = FindTargetFromEnd(head_element, N)\n",
    "\n",
    "if result is None:\n",
    "    print(\"The linked list is shorter than\", N, \"nodes.\")\n",
    "else:\n",
    "    print(\"The\", N, \"th node from the end of the linked list is:\", result)\n"
   ]
  },
  {
   "cell_type": "code",
   "execution_count": null,
   "id": "eab3d263-be75-4dd4-887f-9d8040b3a527",
   "metadata": {},
   "outputs": [],
   "source": []
  },
  {
   "cell_type": "markdown",
   "id": "aebd6723-6546-4c7f-8cca-99354d1041b6",
   "metadata": {},
   "source": [
    "Q4) Given a singly linked list of characters, write a function that returns true if the given list is a palindrome, else false."
   ]
  },
  {
   "cell_type": "code",
   "execution_count": 1,
   "id": "a6d43117-0682-4337-828f-3b96b16ea9ee",
   "metadata": {},
   "outputs": [
    {
     "name": "stdout",
     "output_type": "stream",
     "text": [
      "True\n"
     ]
    }
   ],
   "source": [
    "\n",
    "\n",
    "def Palindrome(head_element):\n",
    "    stack = []\n",
    "    slow = head_element\n",
    "    fast = head_element\n",
    "\n",
    "    while fast and fast.next:\n",
    "        stack.append(slow.data)\n",
    "        slow = slow.next\n",
    "        fast = fast.next.next\n",
    "\n",
    "    if fast:\n",
    "        slow = slow.next\n",
    "\n",
    "    while slow:\n",
    "        if slow.data != stack.pop():\n",
    "            return False\n",
    "        slow = slow.next\n",
    "\n",
    "    return len(stack) == 0\n",
    "\n",
    "#-----------------Main------------------------------------\n",
    "\n",
    "head_element = Node('A')\n",
    "head_element.next = Node('B')\n",
    "head_element.next.next = Node('C')\n",
    "head_element.next.next.next = Node('B')\n",
    "head_element.next.next.next.next = Node('A')\n",
    "\n",
    "\n",
    "print(Palindrome(head_element))\n"
   ]
  },
  {
   "cell_type": "code",
   "execution_count": null,
   "id": "44f34773-8890-4ea0-aa1f-3515b211c502",
   "metadata": {},
   "outputs": [],
   "source": []
  },
  {
   "cell_type": "markdown",
   "id": "a93e578f-0e7f-4c79-be05-47a204922881",
   "metadata": {},
   "source": [
    "Q5) Given a linked list of **N** nodes such that it may contain a loop.\n",
    "\n",
    "A loop here means that the last node of the link list is connected to the node at position X(1-based index). If the link list does not have any loop, X=0.\n",
    "\n",
    "Remove the loop from the linked list, if it is present, i.e. unlink the last node which is forming the loop."
   ]
  },
  {
   "cell_type": "code",
   "execution_count": 6,
   "id": "bfe1475d-ce37-41be-951f-e659c0f7824d",
   "metadata": {},
   "outputs": [
    {
     "name": "stdout",
     "output_type": "stream",
     "text": [
      "1 2 3 4 5 6 7 "
     ]
    }
   ],
   "source": [
    "\n",
    "\n",
    "def DetectAndRemove(head):\n",
    "    slow = head_element\n",
    "    fast = head_element\n",
    "\n",
    "    while fast and fast.next:\n",
    "        slow = slow.next\n",
    "        fast = fast.next.next\n",
    "        if slow == fast:\n",
    "            break\n",
    "\n",
    "    if slow != fast:\n",
    "        return head\n",
    "\n",
    "    slow = head\n",
    "    while slow.next != fast.next:\n",
    "        slow = slow.next\n",
    "        fast = fast.next\n",
    "\n",
    "    fast.next = None\n",
    "\n",
    "    return head_element\n",
    "\n",
    "#----------------Main-------------------------\n",
    "\n",
    "head_element = Node(1)\n",
    "head_element.next = Node(2)\n",
    "head_element.next.next = Node(3)\n",
    "head_element.next.next.next = Node(4)\n",
    "head_element.next.next.next.next = Node(5)\n",
    "head_element.next.next.next.next.next = Node(6)\n",
    "head_element.next.next.next.next.next.next = Node(7)\n",
    "\n",
    "\n",
    "head_element.next.next.next.next.next.next.next = head_element.next.next.next\n",
    "\n",
    "# Remove the loop from the linked list\n",
    "head_element = DetectAndRemove(head_element)\n",
    "\n",
    "# Traverse the modified linked list\n",
    "current = head_element\n",
    "while current:\n",
    "    print(current.data, end=\" \")\n",
    "    current = current.next\n",
    "\n"
   ]
  },
  {
   "cell_type": "code",
   "execution_count": null,
   "id": "afbdc033-905f-4cab-8039-555cb0ce507b",
   "metadata": {},
   "outputs": [],
   "source": []
  },
  {
   "cell_type": "markdown",
   "id": "b129ceab-cc86-4670-b52d-28879c6c9c3d",
   "metadata": {},
   "source": [
    "Q6) Given a linked list and two integers M and N. Traverse the linked list such that you retain M nodes then delete next N nodes, continue the same till end of the linked list."
   ]
  },
  {
   "cell_type": "code",
   "execution_count": null,
   "id": "408f727d-f6f5-470b-9d0f-b0de4141d07d",
   "metadata": {},
   "outputs": [],
   "source": []
  },
  {
   "cell_type": "markdown",
   "id": "898f37cc-3cf5-4f90-bd6f-2bbc71e78e24",
   "metadata": {},
   "source": [
    "Q7) Given two linked lists, insert nodes of second list into first list at alternate positions of first list."
   ]
  },
  {
   "cell_type": "code",
   "execution_count": 7,
   "id": "88370c9b-e660-4c40-b411-38d7c5fc6109",
   "metadata": {},
   "outputs": [
    {
     "name": "stdout",
     "output_type": "stream",
     "text": [
      "1 2 3 4 5 6 "
     ]
    }
   ],
   "source": [
    "\n",
    "def InsertAtAlternate(head1, head2):\n",
    "    if head1 is None:\n",
    "        return head2\n",
    "    if head2 is None:\n",
    "        return head1\n",
    "\n",
    "    current1 = head1\n",
    "    current2 = head2\n",
    "\n",
    "    while current1 and current2:\n",
    "        next1 = current1.next\n",
    "        current1.next = current2\n",
    "        current2 = current2.next\n",
    "        current1.next.next = next1\n",
    "        current1 = next1\n",
    "\n",
    "    if current2:\n",
    "        current1.next = current2\n",
    "\n",
    "    return head1\n",
    "\n",
    "#---------------------Main------------------\n",
    "head1 = Node(1)\n",
    "head1.next = Node(3)\n",
    "head1.next.next = Node(5)\n",
    "\n",
    "head2 = Node(2)\n",
    "head2.next = Node(4)\n",
    "head2.next.next = Node(6)\n",
    "\n",
    "head1 = InsertAtAlternate(head1, head2)\n",
    "\n",
    "current = head1\n",
    "while current:\n",
    "    print(current.data, end=\" \")\n",
    "    current = current.next\n"
   ]
  },
  {
   "cell_type": "code",
   "execution_count": null,
   "id": "a969988e-7158-4153-a9f9-9b08a4cf947d",
   "metadata": {},
   "outputs": [],
   "source": []
  },
  {
   "cell_type": "markdown",
   "id": "611f2335-f571-4295-aa83-0534d72605bb",
   "metadata": {},
   "source": [
    "Q8) Given a singly linked list, find if the linked list is circular or not"
   ]
  },
  {
   "cell_type": "code",
   "execution_count": 9,
   "id": "5059d2a2-345e-464f-8e09-b7997296bebb",
   "metadata": {},
   "outputs": [
    {
     "name": "stdout",
     "output_type": "stream",
     "text": [
      "True\n"
     ]
    }
   ],
   "source": [
    "\n",
    "def IsCircular(head_element):\n",
    "    if head_element is None:\n",
    "        return False\n",
    "\n",
    "    slow = head_element\n",
    "    fast = head_element.next\n",
    "\n",
    "    while fast and fast.next:\n",
    "        if slow == fast:\n",
    "            return True\n",
    "\n",
    "        slow = slow.next\n",
    "        fast = fast.next.next\n",
    "\n",
    "    return False\n",
    "\n",
    "#-----------------Main-----------------------\n",
    "\n",
    "head = Node(1)\n",
    "head.next = Node(2)\n",
    "head.next.next = Node(3)\n",
    "head.next.next.next = Node(4)\n",
    "head.next.next.next.next = Node(5)\n",
    "\n",
    "head.next.next.next.next.next = head.next\n",
    "print(IsCircular(head))  \n",
    "\n"
   ]
  },
  {
   "cell_type": "code",
   "execution_count": null,
   "id": "de67f1a3-d97c-47ca-84d7-85064abf5f6b",
   "metadata": {},
   "outputs": [],
   "source": []
  }
 ],
 "metadata": {
  "kernelspec": {
   "display_name": "Python 3 (ipykernel)",
   "language": "python",
   "name": "python3"
  },
  "language_info": {
   "codemirror_mode": {
    "name": "ipython",
    "version": 3
   },
   "file_extension": ".py",
   "mimetype": "text/x-python",
   "name": "python",
   "nbconvert_exporter": "python",
   "pygments_lexer": "ipython3",
   "version": "3.10.5"
  }
 },
 "nbformat": 4,
 "nbformat_minor": 5
}
