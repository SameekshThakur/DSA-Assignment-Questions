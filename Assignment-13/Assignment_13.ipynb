{
 "cells": [
  {
   "cell_type": "markdown",
   "id": "10d635ae-00e3-445f-bbf9-73a6220d0cee",
   "metadata": {},
   "source": [
    "## Assignment - 13 (DSA)"
   ]
  },
  {
   "cell_type": "code",
   "execution_count": null,
   "id": "f4130964-a372-42a3-921b-a2f82542382e",
   "metadata": {},
   "outputs": [],
   "source": []
  },
  {
   "cell_type": "markdown",
   "id": "b4bb31b0-6e15-4841-af80-297c253a80bc",
   "metadata": {},
   "source": [
    "Q1) Given two linked list of the same size, the task is to create a new linked list using those linked lists. The condition is that the greater node among both linked list will be added to the new linked list."
   ]
  },
  {
   "cell_type": "code",
   "execution_count": 2,
   "id": "64f97cec-a834-4a10-9c01-6751bbb836a5",
   "metadata": {},
   "outputs": [
    {
     "name": "stdout",
     "output_type": "stream",
     "text": [
      "3 -> 6 -> 8 -> 12 -> 1 -> 5 -> 7 -> 10 -> NULL\n"
     ]
    }
   ],
   "source": [
    "class Node:\n",
    "    def __init__(self, data):\n",
    "        self.data = data\n",
    "        self.next = None\n",
    "\n",
    "def NewLinkedList(head1, head2):\n",
    "    newHead = None\n",
    "    temp = None\n",
    "\n",
    "    while head1 is not None and head2 is not None:\n",
    "        if head1.data >= head2.data:\n",
    "            new_node = Node(head1.data)\n",
    "            head1 = head1.next\n",
    "        else:\n",
    "            new_node = Node(head2.data)\n",
    "            head2 = head2.next\n",
    "\n",
    "        if newHead is None:\n",
    "            newHead = new_node\n",
    "            temp = newHead\n",
    "        else:\n",
    "            temp.next = new_node\n",
    "            temp = temp.next\n",
    "\n",
    "    while head1 is not None:\n",
    "        new_node = Node(head1.data)\n",
    "        temp.next = new_node\n",
    "        temp = temp.next\n",
    "        head1 = head1.next\n",
    "\n",
    "    while head2 is not None:\n",
    "        new_node = Node(head2.data)\n",
    "        temp.next = new_node\n",
    "        temp = temp.next\n",
    "        head2 = head2.next\n",
    "\n",
    "    return newHead\n",
    "\n",
    "#----------------------Main-------------------\n",
    "\n",
    "head1 = Node(1)\n",
    "head1.next = Node(5)\n",
    "head1.next.next = Node(7)\n",
    "head1.next.next.next = Node(10)\n",
    "\n",
    "head2 = Node(3)\n",
    "head2.next = Node(6)\n",
    "head2.next.next = Node(8)\n",
    "head2.next.next.next = Node(12)\n",
    "\n",
    "new_head = NewLinkedList(head1, head2)\n",
    "\n",
    "current = new_head\n",
    "while current is not None:\n",
    "    print(current.data, end=\" -> \")\n",
    "    current = current.next\n",
    "\n",
    "print(\"NULL\")\n",
    "\n"
   ]
  },
  {
   "cell_type": "code",
   "execution_count": null,
   "id": "c06ba923-4cf4-42b1-8221-740e5eef07fd",
   "metadata": {},
   "outputs": [],
   "source": []
  },
  {
   "cell_type": "markdown",
   "id": "4929a911-2e9b-4883-99b0-18651485feea",
   "metadata": {},
   "source": [
    "Q2) Write a function that takes a list sorted in non-decreasing order and deletes any duplicate nodes from the list. The list should only be traversed once."
   ]
  },
  {
   "cell_type": "code",
   "execution_count": 3,
   "id": "12c306b3-d094-45cb-8776-053c64fae53e",
   "metadata": {},
   "outputs": [
    {
     "name": "stdout",
     "output_type": "stream",
     "text": [
      "1 -> 2 -> 3 -> 4 -> 5 -> NULL\n"
     ]
    }
   ],
   "source": [
    "\n",
    "def RemoveDuplicates(head):\n",
    "    if head is None:\n",
    "        return head\n",
    "\n",
    "    current = head\n",
    "    while current.next is not None:\n",
    "        if current.data == current.next.data:\n",
    "            current.next = current.next.next\n",
    "        else:\n",
    "            current = current.next\n",
    "\n",
    "    return head\n",
    "\n",
    "#-----------------Main------------------------\n",
    "\n",
    "head = Node(1)\n",
    "head.next = Node(2)\n",
    "head.next.next = Node(2)\n",
    "head.next.next.next = Node(3)\n",
    "head.next.next.next.next = Node(3)\n",
    "head.next.next.next.next.next = Node(4)\n",
    "head.next.next.next.next.next.next = Node(5)\n",
    "\n",
    "new_head = RemoveDuplicates(head)\n",
    "\n",
    "current = new_head\n",
    "while current is not None:\n",
    "    print(current.data, end=\" -> \")\n",
    "    current = current.next\n",
    "\n",
    "print(\"NULL\")\n"
   ]
  },
  {
   "cell_type": "code",
   "execution_count": null,
   "id": "e53bf486-e5f9-4493-9d81-309e9602d47d",
   "metadata": {},
   "outputs": [],
   "source": []
  },
  {
   "cell_type": "markdown",
   "id": "8b7ac4af-5e58-4fbf-8404-3ddee2b8df86",
   "metadata": {},
   "source": [
    "Q3) Given a linked list of size N. The task is to reverse every k nodes (where k is an input to the function) in the linked list. If the number of nodes is not a multiple of k then left-out nodes, in the end, should be considered as a group and must be reversed (See Example 2 for clarification)."
   ]
  },
  {
   "cell_type": "code",
   "execution_count": 5,
   "id": "46d123c7-36d3-4f79-9c57-7b5412c69481",
   "metadata": {},
   "outputs": [
    {
     "name": "stdout",
     "output_type": "stream",
     "text": [
      "3 -> 2 -> 1 -> 6 -> 5 -> 4 -> 9 -> 8 -> 7 -> NULL\n"
     ]
    }
   ],
   "source": [
    "\n",
    "def ReverseInputNodes(head_element, k):\n",
    "    if head_element is None:\n",
    "        return head\n",
    "\n",
    "    current = head_element\n",
    "    prev = None\n",
    "    next = None\n",
    "    count = 0\n",
    "\n",
    "    # Reverse k nodes\n",
    "    while current is not None and count < k:\n",
    "        next = current.next\n",
    "        current.next = prev\n",
    "        prev = current\n",
    "        current = next\n",
    "        count += 1\n",
    "\n",
    "    # Recursively reverse remaining nodes\n",
    "    if next is not None:\n",
    "        head_element.next = ReverseInputNodes(next, k)\n",
    "\n",
    "    return prev\n",
    "\n",
    "#--------------------Main--------------------------------\n",
    "head = Node(1)\n",
    "head.next = Node(2)\n",
    "head.next.next = Node(3)\n",
    "head.next.next.next = Node(4)\n",
    "head.next.next.next.next = Node(5)\n",
    "head.next.next.next.next.next = Node(6)\n",
    "head.next.next.next.next.next.next = Node(7)\n",
    "head.next.next.next.next.next.next.next = Node(8)\n",
    "head.next.next.next.next.next.next.next.next = Node(9)\n",
    "\n",
    "k = 3\n",
    "\n",
    "new_head = ReverseInputNodes(head, k)\n",
    "\n",
    "current = new_head\n",
    "while current is not None:\n",
    "    print(current.data, end=\" -> \")\n",
    "    current = current.next\n",
    "\n",
    "print(\"NULL\")\n",
    "\n"
   ]
  },
  {
   "cell_type": "code",
   "execution_count": null,
   "id": "2baf13a2-6780-4c09-9e39-48ff5317c00b",
   "metadata": {},
   "outputs": [],
   "source": []
  },
  {
   "cell_type": "markdown",
   "id": "1dd43bf3-a9eb-4e46-bf42-de6cb979dd01",
   "metadata": {},
   "source": [
    "Q4) Given a linked list, write a function to reverse every alternate k nodes (where k is an input to the function) in an efficient way. Give the complexity of your algorithm."
   ]
  },
  {
   "cell_type": "code",
   "execution_count": null,
   "id": "778e769d-1133-45ad-9bd3-d8f79cc79620",
   "metadata": {},
   "outputs": [],
   "source": []
  },
  {
   "cell_type": "code",
   "execution_count": null,
   "id": "e318d551-ee5a-46fb-9d45-16c18172ef1d",
   "metadata": {},
   "outputs": [],
   "source": []
  },
  {
   "cell_type": "markdown",
   "id": "d425a50e-587d-4928-a42b-80a36e72829a",
   "metadata": {},
   "source": [
    "Q5) Given a linked list and a key to be deleted. Delete last occurrence of key from linked. The list may have duplicates."
   ]
  },
  {
   "cell_type": "code",
   "execution_count": 9,
   "id": "4bd53271-d098-4721-8d60-fd9cc01eacfd",
   "metadata": {},
   "outputs": [
    {
     "name": "stdout",
     "output_type": "stream",
     "text": [
      "1 -> 2 -> 3 -> 2 -> 4 -> 5 -> 2 -> NULL\n"
     ]
    }
   ],
   "source": [
    "\n",
    "def DeleteLastOccurrence(head, key):\n",
    "    if head is None:\n",
    "        return head\n",
    "\n",
    "    prev = None\n",
    "    current = head\n",
    "    last_occurrence = None\n",
    "\n",
    "    while current is not None:\n",
    "        if current.data == key:\n",
    "            last_occurrence = current\n",
    "        prev = current\n",
    "        current = current.next\n",
    "\n",
    "    if last_occurrence is None:\n",
    "        return head\n",
    "\n",
    "    if last_occurrence == head:\n",
    "        head = head.next\n",
    "    else:\n",
    "        prev.next = last_occurrence.next\n",
    "\n",
    "    return head\n",
    "\n",
    "#----------------------Main---------------------\n",
    "\n",
    "head = Node(1)\n",
    "head.next = Node(2)\n",
    "head.next.next = Node(3)\n",
    "head.next.next.next = Node(2)\n",
    "head.next.next.next.next = Node(4)\n",
    "head.next.next.next.next.next = Node(5)\n",
    "head.next.next.next.next.next.next = Node(2)\n",
    "\n",
    "key=2\n",
    "\n",
    "new_head = DeleteLastOccurrence(head, key)\n",
    "\n",
    "current = new_head\n",
    "while current is not None:\n",
    "    print(current.data, end=\" -> \")\n",
    "    current = current.next\n",
    "\n",
    "print(\"NULL\")\n",
    "\n"
   ]
  },
  {
   "cell_type": "code",
   "execution_count": null,
   "id": "02f0ada4-e9ff-48e8-aa9c-69fe001a0718",
   "metadata": {},
   "outputs": [],
   "source": []
  },
  {
   "cell_type": "markdown",
   "id": "1e7a55ec-30d2-4126-9970-9ccf8089203a",
   "metadata": {},
   "source": [
    "Q6) Given two sorted linked lists consisting of N and M nodes respectively. The task is to merge both of the lists (in place) and return the head of the merged list."
   ]
  },
  {
   "cell_type": "code",
   "execution_count": 6,
   "id": "a3eda601-14e8-45b0-8bfe-4f9ef9ab2199",
   "metadata": {},
   "outputs": [
    {
     "name": "stdout",
     "output_type": "stream",
     "text": [
      "5 <-> NULL\n",
      "5 <-> NULL\n"
     ]
    }
   ],
   "source": [
    "\n",
    "def ReverseDoublyLinkedList(head):\n",
    "    if head is None:\n",
    "        return None\n",
    "\n",
    "    current = head\n",
    "    previous = None\n",
    "\n",
    "    while current is not None:\n",
    "        next_node = current.next\n",
    "        current.next = previous\n",
    "        current.prev = next_node\n",
    "        previous = current\n",
    "        current = next_node\n",
    "\n",
    "    head = previous\n",
    "\n",
    "    head.next = None\n",
    "\n",
    "    return head\n",
    "\n",
    "#-----------------Main--------------------\n",
    "head = Node(1)\n",
    "head.next = Node(2)\n",
    "head.next.prev = head\n",
    "head.next.next = Node(3)\n",
    "head.next.next.prev = head.next\n",
    "head.next.next.next = Node(4)\n",
    "head.next.next.next.prev = head.next.next\n",
    "head.next.next.next.next = Node(5)\n",
    "head.next.next.next.next.prev = head.next.next.next\n",
    "\n",
    "reversed_head = ReverseDoublyLinkedList(head)\n",
    "\n",
    "current = reversed_head\n",
    "while current is not None:\n",
    "    print(current.data, end=\" <-> \")\n",
    "    current = current.next\n",
    "\n",
    "print(\"NULL\")\n",
    "\n",
    "current = reversed_head\n",
    "while current.next is not None:\n",
    "    current = current.next\n",
    "\n",
    "while current is not None:\n",
    "    print(current.data, end=\" <-> \")\n",
    "    current = current.prev\n",
    "\n",
    "print(\"NULL\")\n",
    "\n"
   ]
  },
  {
   "cell_type": "code",
   "execution_count": null,
   "id": "65bbfd18-2ce8-4477-8ef3-b7664c5719c7",
   "metadata": {},
   "outputs": [],
   "source": []
  },
  {
   "cell_type": "markdown",
   "id": "ce7faa30-e21f-496f-be30-f96ba6171dc8",
   "metadata": {},
   "source": [
    "Q7) Given a Doubly Linked List, the task is to reverse the given Doubly Linked List."
   ]
  },
  {
   "cell_type": "code",
   "execution_count": null,
   "id": "fa688a8d-9cd9-4931-8f6d-b5d43eb5e908",
   "metadata": {},
   "outputs": [],
   "source": [
    "\n",
    "def DeleteNodeAtPosition(head, position):\n",
    "    if position < 1:\n",
    "        return head\n",
    "\n",
    "    if position == 1:\n",
    "        if head is None:\n",
    "            return None\n",
    "        else:\n",
    "            new_head = head.next\n",
    "            if new_head is not None:\n",
    "                new_head.prev = None\n",
    "            return new_head\n",
    "\n",
    "    current = head\n",
    "    current_position = 1\n",
    "\n",
    "    while current_position < position and current is not None:\n",
    "        current = current.next\n",
    "        current_position += 1\n",
    "\n",
    "    if current is None:\n",
    "        return head\n",
    "\n",
    "    previous_node = current.prev\n",
    "    next_node = current.next\n",
    "\n",
    "    if previous_node is not None:\n",
    "        previous_node.next = next_node\n",
    "\n",
    "    if next_node is not None:\n",
    "        next_node.prev = previous_node\n",
    "\n",
    "    return head\n",
    "\n",
    "#-----------------------Main---------------------\n",
    "\n",
    "head = Node(1)\n",
    "head.next = Node(2)\n",
    "head.next.prev = head\n",
    "head.next.next = Node(3)\n",
    "head.next.next.prev = head.next\n",
    "head.next.next.next = Node(4)\n",
    "head.next.next.next.prev = head.next.next\n",
    "head.next.next.next.next = Node(5)\n",
    "head.next.next.next.next.prev = head.next.next.next\n",
    "\n",
    "position = 3\n",
    "\n",
    "new_head = DeleteNodeAtPosition(head, position)\n",
    "\n",
    "current = new_head\n",
    "while current is not None:\n",
    "    print(current.data, end=\" <-> \")\n",
    "    current = current.next\n",
    "\n",
    "print(\"NULL\")\n",
    "\n",
    "current = new_head\n",
    "while current.next is not None:\n",
    "    current = current.next\n",
    "\n",
    "while current is not None:\n",
    "    print(current.data, end=\" <-> \")\n",
    "    current = current.prev\n",
    "\n",
    "print(\"NULL\")\n",
    "\n",
    "\n"
   ]
  },
  {
   "cell_type": "code",
   "execution_count": null,
   "id": "8fa06016-19a6-4c37-8542-22167320d937",
   "metadata": {},
   "outputs": [],
   "source": []
  },
  {
   "cell_type": "markdown",
   "id": "75b4186c-5755-43f2-a5a5-ac26b1b93e63",
   "metadata": {},
   "source": [
    "Q8) Given a doubly linked list and a position. The task is to delete a node from given position in a doubly linked list."
   ]
  },
  {
   "cell_type": "code",
   "execution_count": 4,
   "id": "bc564f7d-d6d5-49fc-ac69-89941943c346",
   "metadata": {},
   "outputs": [
    {
     "name": "stdout",
     "output_type": "stream",
     "text": [
      "1 <-> 2 <-> 4 <-> 5 <-> NULL\n"
     ]
    }
   ],
   "source": [
    "def DeleteNodeAtPosition(head, position):\n",
    "    if position < 1:\n",
    "        return head\n",
    "\n",
    "    if position == 1:\n",
    "        if head is None:\n",
    "            return None\n",
    "        else:\n",
    "            new_head = head.next\n",
    "            if new_head is not None:\n",
    "                new_head.prev = None\n",
    "            return new_head\n",
    "\n",
    "    current = head\n",
    "    current_position = 1\n",
    "\n",
    "    while current_position < position and current is not None:\n",
    "        current = current.next\n",
    "        current_position += 1\n",
    "\n",
    "    if current is None:\n",
    "        return head\n",
    "\n",
    "    previous_node = current.prev\n",
    "    next_node = current.next\n",
    "\n",
    "    if previous_node is not None:\n",
    "        previous_node.next = next_node\n",
    "\n",
    "    if next_node is not None:\n",
    "        next_node.prev = previous_node\n",
    "\n",
    "    return head\n",
    "\n",
    "#-----------------------Main---------------------\n",
    "\n",
    "head = Node(1)\n",
    "head.next = Node(2)\n",
    "head.next.prev = head\n",
    "head.next.next = Node(3)\n",
    "head.next.next.prev = head.next\n",
    "head.next.next.next = Node(4)\n",
    "head.next.next.next.prev = head.next.next\n",
    "head.next.next.next.next = Node(5)\n",
    "head.next.next.next.next.prev = head.next.next.next\n",
    "\n",
    "position = 3\n",
    "\n",
    "new_head = DeleteNodeAtPosition(head, position)\n",
    "\n",
    "current = new_head\n",
    "while current is not None:\n",
    "    print(current.data, end=\" <-> \")\n",
    "    current = current.next\n",
    "\n",
    "print(\"NULL\")\n",
    "\n",
    "current = new_head\n",
    "while current.next is not None:\n",
    "    current = current.next\n"
   ]
  },
  {
   "cell_type": "code",
   "execution_count": null,
   "id": "6e52d898-bc96-4c36-813e-bb253fc55027",
   "metadata": {},
   "outputs": [],
   "source": []
  }
 ],
 "metadata": {
  "kernelspec": {
   "display_name": "Python 3 (ipykernel)",
   "language": "python",
   "name": "python3"
  },
  "language_info": {
   "codemirror_mode": {
    "name": "ipython",
    "version": 3
   },
   "file_extension": ".py",
   "mimetype": "text/x-python",
   "name": "python",
   "nbconvert_exporter": "python",
   "pygments_lexer": "ipython3",
   "version": "3.10.5"
  }
 },
 "nbformat": 4,
 "nbformat_minor": 5
}
